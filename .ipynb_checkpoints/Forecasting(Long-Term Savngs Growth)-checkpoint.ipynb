{
 "cells": [
  {
   "cell_type": "markdown",
   "id": "e5e2d9dc-ccc6-4c8d-b824-1a272937e3f3",
   "metadata": {},
   "source": [
    "## Forecasting(Long-Term Savngs Growth)"
   ]
  },
  {
   "cell_type": "code",
   "execution_count": 429,
   "id": "2e134f73-52a8-408b-a657-78fef0c4b360",
   "metadata": {},
   "outputs": [],
   "source": [
    "\n",
    "import pandas as pd\n",
    "import numpy as np\n",
    "from prophet import Prophet\n",
    "import plotly.graph_objects as go\n",
    "from prophet.plot import plot_plotly\n",
    "from sklearn.metrics import mean_absolute_error, mean_squared_error"
   ]
  },
  {
   "cell_type": "code",
   "execution_count": 430,
   "id": "02a66b55-bd9b-43bf-a9e2-ee0af41dd793",
   "metadata": {},
   "outputs": [],
   "source": [
    "df = pd.read_csv(r\"C:\\Users\\User\\Downloads\\Retail_Transactions_Dataset.csv\\Retail_Transactions_Dataset.csv\")"
   ]
  },
  {
   "cell_type": "code",
   "execution_count": 431,
   "id": "fa88dfaa-d6e5-46b8-b621-9027e976741e",
   "metadata": {},
   "outputs": [],
   "source": [
    "# Drop missing values\n",
    "df.dropna(inplace=True)"
   ]
  },
  {
   "cell_type": "code",
   "execution_count": 432,
   "id": "fc474d40-3050-46ba-a5d7-819d53904057",
   "metadata": {},
   "outputs": [
    {
     "name": "stdout",
     "output_type": "stream",
     "text": [
      "   Transaction_ID                 Date     Customer_Name  \\\n",
      "0      1000000001  2023-03-01 13:01:21  Michelle Carlson   \n",
      "1      1000000004  2020-12-10 00:59:59    Susan Mitchell   \n",
      "2      1000000005  2021-10-07 12:37:26    Joshua Frazier   \n",
      "3      1000000006  2023-01-08 10:40:03  Victoria Garrett   \n",
      "4      1000000007  2020-09-03 12:39:59     Sydney Waller   \n",
      "\n",
      "                                             Product  Total_Items  Total_Cost  \\\n",
      "0  ['Ice Cream', 'Milk', 'Olive Oil', 'Bread', 'P...            2       25.93   \n",
      "1                                      ['Dish Soap']           10       16.42   \n",
      "2                          ['Toothpaste', 'Chicken']            3       72.24   \n",
      "3  ['Honey', 'BBQ Sauce', 'Soda', 'Olive Oil', 'G...            4        5.28   \n",
      "4  ['Syrup', 'Trash Cans', 'Pancake Mix', 'Water'...            5       21.77   \n",
      "\n",
      "  Payment_Method           City       Store_Type  Discount_Applied  \\\n",
      "0           Cash  San Francisco  Specialty Store              True   \n",
      "1     Debit Card        Houston  Specialty Store             False   \n",
      "2           Cash        Houston      Supermarket              True   \n",
      "3           Cash         Boston  Specialty Store             False   \n",
      "4     Debit Card        Chicago  Specialty Store             False   \n",
      "\n",
      "  Customer_Category  Season                   Promotion  \n",
      "0      Professional    Fall      BOGO (Buy One Get One)  \n",
      "1       Young Adult  Winter  Discount on Selected Items  \n",
      "2           Retiree  Spring  Discount on Selected Items  \n",
      "3           Student  Summer  Discount on Selected Items  \n",
      "4       Young Adult  Winter  Discount on Selected Items  \n"
     ]
    }
   ],
   "source": [
    "# Reset index after dropping missing values\n",
    "df.reset_index(drop=True, inplace=True)\n",
    "\n",
    "# Display first few rows of the dataset\n",
    "print(df.head())"
   ]
  },
  {
   "cell_type": "code",
   "execution_count": 433,
   "id": "a8cb95b9-d010-4347-8566-39ec8abf9821",
   "metadata": {},
   "outputs": [
    {
     "name": "stdout",
     "output_type": "stream",
     "text": [
      "<class 'pandas.core.frame.DataFrame'>\n",
      "RangeIndex: 666057 entries, 0 to 666056\n",
      "Data columns (total 13 columns):\n",
      " #   Column             Non-Null Count   Dtype  \n",
      "---  ------             --------------   -----  \n",
      " 0   Transaction_ID     666057 non-null  int64  \n",
      " 1   Date               666057 non-null  object \n",
      " 2   Customer_Name      666057 non-null  object \n",
      " 3   Product            666057 non-null  object \n",
      " 4   Total_Items        666057 non-null  int64  \n",
      " 5   Total_Cost         666057 non-null  float64\n",
      " 6   Payment_Method     666057 non-null  object \n",
      " 7   City               666057 non-null  object \n",
      " 8   Store_Type         666057 non-null  object \n",
      " 9   Discount_Applied   666057 non-null  bool   \n",
      " 10  Customer_Category  666057 non-null  object \n",
      " 11  Season             666057 non-null  object \n",
      " 12  Promotion          666057 non-null  object \n",
      "dtypes: bool(1), float64(1), int64(2), object(9)\n",
      "memory usage: 61.6+ MB\n"
     ]
    }
   ],
   "source": [
    "#The dataset information\n",
    "df.info()"
   ]
  },
  {
   "cell_type": "code",
   "execution_count": 434,
   "id": "db6f7465-1872-428e-8141-8019845af68f",
   "metadata": {},
   "outputs": [
    {
     "name": "stdout",
     "output_type": "stream",
     "text": [
      "Index(['Transaction_ID', 'Date', 'Customer_Name', 'Product', 'Total_Items',\n",
      "       'Total_Cost', 'Payment_Method', 'City', 'Store_Type',\n",
      "       'Discount_Applied', 'Customer_Category', 'Season', 'Promotion'],\n",
      "      dtype='object')\n"
     ]
    }
   ],
   "source": [
    "# Print all current column names\n",
    "print(df.columns)"
   ]
  },
  {
   "cell_type": "code",
   "execution_count": 435,
   "id": "6058dd32-4f08-4381-886f-359438e46480",
   "metadata": {},
   "outputs": [
    {
     "name": "stdout",
     "output_type": "stream",
     "text": [
      "        Transaction_ID                 Date      Customer_Name  \\\n",
      "0           1000000001  2023-03-01 13:01:21   Michelle Carlson   \n",
      "1           1000000004  2020-12-10 00:59:59     Susan Mitchell   \n",
      "2           1000000005  2021-10-07 12:37:26     Joshua Frazier   \n",
      "3           1000000006  2023-01-08 10:40:03   Victoria Garrett   \n",
      "4           1000000007  2020-09-03 12:39:59      Sydney Waller   \n",
      "...                ...                  ...                ...   \n",
      "666052      1000999993  2022-01-02 19:40:32     Donna Hamilton   \n",
      "666053      1000999994  2021-03-13 14:12:17     James Villegas   \n",
      "666054      1000999996  2022-05-19 05:13:58       Emily Graham   \n",
      "666055      1000999998  2023-10-17 05:50:40  Michael Rodriguez   \n",
      "666056      1000999999  2020-06-15 11:58:49     Jennifer Davis   \n",
      "\n",
      "                                                  Product  Total_Items  \\\n",
      "0       ['Ice Cream', 'Milk', 'Olive Oil', 'Bread', 'P...            2   \n",
      "1                                           ['Dish Soap']           10   \n",
      "2                               ['Toothpaste', 'Chicken']            3   \n",
      "3       ['Honey', 'BBQ Sauce', 'Soda', 'Olive Oil', 'G...            4   \n",
      "4       ['Syrup', 'Trash Cans', 'Pancake Mix', 'Water'...            5   \n",
      "...                                                   ...          ...   \n",
      "666052  ['Laundry Detergent', 'Feminine Hygiene Produc...            6   \n",
      "666053                 ['Toothbrush', 'Hair Gel', 'Milk']            8   \n",
      "666054                                         ['Cereal']            8   \n",
      "666055             ['Diapers', 'Coffee', 'Coffee', 'Mop']            3   \n",
      "666056                       ['Trash Cans', 'Mop', 'Jam']            8   \n",
      "\n",
      "        Total_Cost Payment_Method           City       Store_Type  \\\n",
      "0            25.93           Cash  San Francisco  Specialty Store   \n",
      "1            16.42     Debit Card        Houston  Specialty Store   \n",
      "2            72.24           Cash        Houston      Supermarket   \n",
      "3             5.28           Cash         Boston  Specialty Store   \n",
      "4            21.77     Debit Card        Chicago  Specialty Store   \n",
      "...            ...            ...            ...              ...   \n",
      "666052       65.29     Debit Card         Dallas  Specialty Store   \n",
      "666053       99.12           Cash    Los Angeles      Supermarket   \n",
      "666054       80.25           Cash        Houston   Warehouse Club   \n",
      "666055       23.48     Debit Card  San Francisco      Supermarket   \n",
      "666056       44.12    Credit Card        Atlanta         Pharmacy   \n",
      "\n",
      "        Discount_Applied Customer_Category  Season                   Promotion  \n",
      "0                   True      Professional    Fall      BOGO (Buy One Get One)  \n",
      "1                  False       Young Adult  Winter  Discount on Selected Items  \n",
      "2                   True           Retiree  Spring  Discount on Selected Items  \n",
      "3                  False           Student  Summer  Discount on Selected Items  \n",
      "4                  False       Young Adult  Winter  Discount on Selected Items  \n",
      "...                  ...               ...     ...                         ...  \n",
      "666052              True           Student  Summer      BOGO (Buy One Get One)  \n",
      "666053             False           Retiree  Summer      BOGO (Buy One Get One)  \n",
      "666054              True    Senior Citizen  Spring  Discount on Selected Items  \n",
      "666055              True           Retiree  Winter      BOGO (Buy One Get One)  \n",
      "666056             False      Professional    Fall  Discount on Selected Items  \n",
      "\n",
      "[666057 rows x 13 columns]\n"
     ]
    }
   ],
   "source": [
    "print(df)"
   ]
  },
  {
   "cell_type": "code",
   "execution_count": 436,
   "id": "5a37b486-0522-4ab2-8488-4590ad93f130",
   "metadata": {},
   "outputs": [],
   "source": [
    "# Ensure 'Date' is in datetime format\n",
    "df['Date'] = pd.to_datetime(df['Date'])\n"
   ]
  },
  {
   "cell_type": "code",
   "execution_count": 437,
   "id": "ce6c7d98-2f6c-488e-bfad-4b3133f853f0",
   "metadata": {},
   "outputs": [],
   "source": [
    "# Aggregate the data by month (if needed)\n",
    "df['Month'] = df['Date'].dt.to_period('M')\n",
    "df_monthly = df.groupby('Month').agg({'Total_Cost': 'sum'}).reset_index()"
   ]
  },
  {
   "cell_type": "code",
   "execution_count": 438,
   "id": "2c7f3825-eeb6-48fc-ac33-daf8c41ec2c9",
   "metadata": {},
   "outputs": [],
   "source": [
    "# Prepare the dataframe for Prophet\n",
    "df_prophet = df_monthly.rename(columns={'Month': 'ds', 'Total_Cost': 'y'})\n",
    "df_prophet['ds'] = df_prophet['ds'].dt.to_timestamp()  # Convert Period to Timestamp"
   ]
  },
  {
   "cell_type": "code",
   "execution_count": 439,
   "id": "9d4dd8a3-c79d-4833-bcf1-48c65193bdb4",
   "metadata": {},
   "outputs": [
    {
     "name": "stdout",
     "output_type": "stream",
     "text": [
      "Processed Data:\n",
      "           ds          y\n",
      "48 2024-01-01  678089.72\n",
      "49 2024-02-01  630481.23\n",
      "50 2024-03-01  669631.15\n",
      "51 2024-04-01  645977.02\n",
      "52 2024-05-01  393691.86\n"
     ]
    }
   ],
   "source": [
    "# Display the processed data\n",
    "print(\"Processed Data:\")\n",
    "print(df_prophet.tail())"
   ]
  },
  {
   "cell_type": "code",
   "execution_count": 440,
   "id": "952ccd49-eae5-4fc2-a016-b8589f1170a2",
   "metadata": {},
   "outputs": [
    {
     "data": {
      "text/plain": [
       "<Axes: xlabel='ds'>"
      ]
     },
     "execution_count": 440,
     "metadata": {},
     "output_type": "execute_result"
    },
    {
     "data": {
      "image/png": "[encoded data removed]",
      "text/plain": [
       "<Figure size 1800x600 with 1 Axes>"
      ]
     },
     "metadata": {},
     "output_type": "display_data"
    }
   ],
   "source": [
    "# Plot the time series\n",
    "df_prophet.plot(x='ds', y='y', figsize=(18, 6))"
   ]
  },
  {
   "cell_type": "code",
   "execution_count": 441,
   "id": "812fe46b-c1e3-4a4e-b54d-82ac1c25aaa8",
   "metadata": {},
   "outputs": [],
   "source": [
    "# Split the data into training and test sets (last 12 months for testing)\n",
    "train = df_prophet.iloc[:-12]\n",
    "test = df_prophet.iloc[-12:]"
   ]
  },
  {
   "cell_type": "code",
   "execution_count": 442,
   "id": "a215f75a-c397-4cec-a9cc-c0867ff52726",
   "metadata": {},
   "outputs": [
    {
     "name": "stderr",
     "output_type": "stream",
     "text": [
      "13:39:47 - cmdstanpy - INFO - Chain [1] start processing\n",
      "13:39:48 - cmdstanpy - INFO - Chain [1] done processing\n"
     ]
    },
    {
     "data": {
      "text/plain": [
       "<prophet.forecaster.Prophet at 0x24107d424d0>"
      ]
     },
     "execution_count": 442,
     "metadata": {},
     "output_type": "execute_result"
    }
   ],
   "source": [
    "# Create and fit the Prophet model\n",
    "m = Prophet()\n",
    "m.fit(train)"
   ]
  },
  {
   "cell_type": "code",
   "execution_count": 443,
   "id": "5d1e8760-9621-4d1b-ac1f-a0a865a83363",
   "metadata": {},
   "outputs": [
    {
     "name": "stderr",
     "output_type": "stream",
     "text": [
      "C:\\Users\\User\\AppData\\Roaming\\Python\\Python311\\site-packages\\prophet\\forecaster.py:1854: FutureWarning:\n",
      "\n",
      "'M' is deprecated and will be removed in a future version, please use 'ME' instead.\n",
      "\n"
     ]
    }
   ],
   "source": [
    "# Create future dates for prediction\n",
    "future = m.make_future_dataframe(periods=12, freq='M')\n",
    "forecast = m.predict(future)"
   ]
  },
  {
   "cell_type": "code",
   "execution_count": 444,
   "id": "5674007b-b445-4b9e-8a49-020d6f131a4c",
   "metadata": {},
   "outputs": [
    {
     "data": {
      "text/html": [
       "<div>\n",
       "<style scoped>\n",
       "    .dataframe tbody tr th:only-of-type {\n",
       "        vertical-align: middle;\n",
       "    }\n",
       "\n",
       "    .dataframe tbody tr th {\n",
       "        vertical-align: top;\n",
       "    }\n",
       "\n",
       "    .dataframe thead th {\n",
       "        text-align: right;\n",
       "    }\n",
       "</style>\n",
       "<table border=\"1\" class=\"dataframe\">\n",
       "  <thead>\n",
       "    <tr style=\"text-align: right;\">\n",
       "      <th></th>\n",
       "      <th>ds</th>\n",
       "      <th>trend</th>\n",
       "      <th>yhat_lower</th>\n",
       "      <th>yhat_upper</th>\n",
       "      <th>trend_lower</th>\n",
       "      <th>trend_upper</th>\n",
       "      <th>additive_terms</th>\n",
       "      <th>additive_terms_lower</th>\n",
       "      <th>additive_terms_upper</th>\n",
       "      <th>yearly</th>\n",
       "      <th>yearly_lower</th>\n",
       "      <th>yearly_upper</th>\n",
       "      <th>multiplicative_terms</th>\n",
       "      <th>multiplicative_terms_lower</th>\n",
       "      <th>multiplicative_terms_upper</th>\n",
       "      <th>yhat</th>\n",
       "    </tr>\n",
       "  </thead>\n",
       "  <tbody>\n",
       "    <tr>\n",
       "      <th>48</th>\n",
       "      <td>2023-12-31</td>\n",
       "      <td>663502.580857</td>\n",
       "      <td>640780.768152</td>\n",
       "      <td>652412.444804</td>\n",
       "      <td>662301.139951</td>\n",
       "      <td>664541.758002</td>\n",
       "      <td>-16854.783407</td>\n",
       "      <td>-16854.783407</td>\n",
       "      <td>-16854.783407</td>\n",
       "      <td>-16854.783407</td>\n",
       "      <td>-16854.783407</td>\n",
       "      <td>-16854.783407</td>\n",
       "      <td>0.0</td>\n",
       "      <td>0.0</td>\n",
       "      <td>0.0</td>\n",
       "      <td>646647.797450</td>\n",
       "    </tr>\n",
       "    <tr>\n",
       "      <th>49</th>\n",
       "      <td>2024-01-31</td>\n",
       "      <td>663488.858934</td>\n",
       "      <td>644092.055045</td>\n",
       "      <td>655943.902755</td>\n",
       "      <td>662077.439871</td>\n",
       "      <td>664756.417417</td>\n",
       "      <td>-13543.981129</td>\n",
       "      <td>-13543.981129</td>\n",
       "      <td>-13543.981129</td>\n",
       "      <td>-13543.981129</td>\n",
       "      <td>-13543.981129</td>\n",
       "      <td>-13543.981129</td>\n",
       "      <td>0.0</td>\n",
       "      <td>0.0</td>\n",
       "      <td>0.0</td>\n",
       "      <td>649944.877805</td>\n",
       "    </tr>\n",
       "    <tr>\n",
       "      <th>50</th>\n",
       "      <td>2024-02-29</td>\n",
       "      <td>663476.022296</td>\n",
       "      <td>676819.982573</td>\n",
       "      <td>688551.843333</td>\n",
       "      <td>661844.191995</td>\n",
       "      <td>664958.338256</td>\n",
       "      <td>19128.976557</td>\n",
       "      <td>19128.976557</td>\n",
       "      <td>19128.976557</td>\n",
       "      <td>19128.976557</td>\n",
       "      <td>19128.976557</td>\n",
       "      <td>19128.976557</td>\n",
       "      <td>0.0</td>\n",
       "      <td>0.0</td>\n",
       "      <td>0.0</td>\n",
       "      <td>682604.998853</td>\n",
       "    </tr>\n",
       "    <tr>\n",
       "      <th>51</th>\n",
       "      <td>2024-03-31</td>\n",
       "      <td>663462.300373</td>\n",
       "      <td>637717.035911</td>\n",
       "      <td>649631.179790</td>\n",
       "      <td>661590.847504</td>\n",
       "      <td>665185.332772</td>\n",
       "      <td>-19791.970392</td>\n",
       "      <td>-19791.970392</td>\n",
       "      <td>-19791.970392</td>\n",
       "      <td>-19791.970392</td>\n",
       "      <td>-19791.970392</td>\n",
       "      <td>-19791.970392</td>\n",
       "      <td>0.0</td>\n",
       "      <td>0.0</td>\n",
       "      <td>0.0</td>\n",
       "      <td>643670.329981</td>\n",
       "    </tr>\n",
       "    <tr>\n",
       "      <th>52</th>\n",
       "      <td>2024-04-30</td>\n",
       "      <td>663449.021093</td>\n",
       "      <td>658858.174868</td>\n",
       "      <td>671260.548062</td>\n",
       "      <td>661310.647557</td>\n",
       "      <td>665446.129460</td>\n",
       "      <td>1530.466512</td>\n",
       "      <td>1530.466512</td>\n",
       "      <td>1530.466512</td>\n",
       "      <td>1530.466512</td>\n",
       "      <td>1530.466512</td>\n",
       "      <td>1530.466512</td>\n",
       "      <td>0.0</td>\n",
       "      <td>0.0</td>\n",
       "      <td>0.0</td>\n",
       "      <td>664979.487605</td>\n",
       "    </tr>\n",
       "  </tbody>\n",
       "</table>\n",
       "</div>"
      ],
      "text/plain": [
       "           ds          trend     yhat_lower     yhat_upper    trend_lower  \\\n",
       "48 2023-12-31  663502.580857  640780.768152  652412.444804  662301.139951   \n",
       "49 2024-01-31  663488.858934  644092.055045  655943.902755  662077.439871   \n",
       "50 2024-02-29  663476.022296  676819.982573  688551.843333  661844.191995   \n",
       "51 2024-03-31  663462.300373  637717.035911  649631.179790  661590.847504   \n",
       "52 2024-04-30  663449.021093  658858.174868  671260.548062  661310.647557   \n",
       "\n",
       "      trend_upper  additive_terms  additive_terms_lower  additive_terms_upper  \\\n",
       "48  664541.758002   -16854.783407         -16854.783407         -16854.783407   \n",
       "49  664756.417417   -13543.981129         -13543.981129         -13543.981129   \n",
       "50  664958.338256    19128.976557          19128.976557          19128.976557   \n",
       "51  665185.332772   -19791.970392         -19791.970392         -19791.970392   \n",
       "52  665446.129460     1530.466512           1530.466512           1530.466512   \n",
       "\n",
       "          yearly  yearly_lower  yearly_upper  multiplicative_terms  \\\n",
       "48 -16854.783407 -16854.783407 -16854.783407                   0.0   \n",
       "49 -13543.981129 -13543.981129 -13543.981129                   0.0   \n",
       "50  19128.976557  19128.976557  19128.976557                   0.0   \n",
       "51 -19791.970392 -19791.970392 -19791.970392                   0.0   \n",
       "52   1530.466512   1530.466512   1530.466512                   0.0   \n",
       "\n",
       "    multiplicative_terms_lower  multiplicative_terms_upper           yhat  \n",
       "48                         0.0                         0.0  646647.797450  \n",
       "49                         0.0                         0.0  649944.877805  \n",
       "50                         0.0                         0.0  682604.998853  \n",
       "51                         0.0                         0.0  643670.329981  \n",
       "52                         0.0                         0.0  664979.487605  "
      ]
     },
     "execution_count": 444,
     "metadata": {},
     "output_type": "execute_result"
    }
   ],
   "source": [
    " #Display the forecast\n",
    "forecast.tail()\n"
   ]
  },
  {
   "cell_type": "code",
   "execution_count": 445,
   "id": "33b8dcaf-130f-4409-8404-f403c8852cf7",
   "metadata": {},
   "outputs": [
    {
     "name": "stderr",
     "output_type": "stream",
     "text": [
      "C:\\ProgramData\\anaconda3\\Lib\\site-packages\\_plotly_utils\\basevalidators.py:106: FutureWarning:\n",
      "\n",
      "The behavior of DatetimeProperties.to_pydatetime is deprecated, in a future version this will return a Series containing python datetime objects instead of an ndarray. To retain the old behavior, call `np.array` on the result\n",
      "\n"
     ]
    },
    {
     "data": {
      "application/vnd.plotly.v1+json": {
       "config": {
        "plotlyServerURL": "https://plot.ly"
       },
       "data": [
        {
         "mode": "lines",
         "name": "Train",
         "type": "scatter",
         "x": [
          "2020-01-01T00:00:00",
          "2020-02-01T00:00:00",
          "2020-03-01T00:00:00",
          "2020-04-01T00:00:00",
          "2020-05-01T00:00:00",
          "2020-06-01T00:00:00",
          "2020-07-01T00:00:00",
          "2020-08-01T00:00:00",
          "2020-09-01T00:00:00",
          "2020-10-01T00:00:00",
          "2020-11-01T00:00:00",
          "2020-12-01T00:00:00",
          "2021-01-01T00:00:00",
          "2021-02-01T00:00:00",
          "2021-03-01T00:00:00",
          "2021-04-01T00:00:00",
          "2021-05-01T00:00:00",
          "2021-06-01T00:00:00",
          "2021-07-01T00:00:00",
          "2021-08-01T00:00:00",
          "2021-09-01T00:00:00",
          "2021-10-01T00:00:00",
          "2021-11-01T00:00:00",
          "2021-12-01T00:00:00",
          "2022-01-01T00:00:00",
          "2022-02-01T00:00:00",
          "2022-03-01T00:00:00",
          "2022-04-01T00:00:00",
          "2022-05-01T00:00:00",
          "2022-06-01T00:00:00",
          "2022-07-01T00:00:00",
          "2022-08-01T00:00:00",
          "2022-09-01T00:00:00",
          "2022-10-01T00:00:00",
          "2022-11-01T00:00:00",
          "2022-12-01T00:00:00",
          "2023-01-01T00:00:00",
          "2023-02-01T00:00:00",
          "2023-03-01T00:00:00",
          "2023-04-01T00:00:00",
          "2023-05-01T00:00:00"
         ],
         "y": [
          678299.24,
          636182.26,
          679427.27,
          657152.14,
          666343.08,
          659466.28,
          681688.47,
          680971.92,
          657505.85,
          668685.86,
          663630.8,
          673956.68,
          681316.23,
          609217.04,
          675073.03,
          654323.51,
          674265.59,
          660237.64,
          682861.54,
          665098.34,
          645103.18,
          678851.15,
          658239.8,
          675500.29,
          671658.33,
          599521.59,
          679163.98,
          663020.65,
          665700.5,
          664884.73,
          676763.46,
          677691.9,
          648629.18,
          672314.7,
          652787.71,
          666699.12,
          664932.39,
          620010.67,
          686536.83,
          644784.83,
          668735.94
         ]
        },
        {
         "mode": "lines",
         "name": "Test",
         "type": "scatter",
         "x": [
          "2023-06-01T00:00:00",
          "2023-07-01T00:00:00",
          "2023-08-01T00:00:00",
          "2023-09-01T00:00:00",
          "2023-10-01T00:00:00",
          "2023-11-01T00:00:00",
          "2023-12-01T00:00:00",
          "2024-01-01T00:00:00",
          "2024-02-01T00:00:00",
          "2024-03-01T00:00:00",
          "2024-04-01T00:00:00",
          "2024-05-01T00:00:00"
         ],
         "y": [
          644854.11,
          686292.34,
          678686.36,
          661039.98,
          677284.75,
          662716.19,
          685203.18,
          678089.72,
          630481.23,
          669631.15,
          645977.02,
          393691.86
         ]
        },
        {
         "mode": "lines",
         "name": "Forecast",
         "type": "scatter",
         "x": [
          "2020-01-01T00:00:00",
          "2020-02-01T00:00:00",
          "2020-03-01T00:00:00",
          "2020-04-01T00:00:00",
          "2020-05-01T00:00:00",
          "2020-06-01T00:00:00",
          "2020-07-01T00:00:00",
          "2020-08-01T00:00:00",
          "2020-09-01T00:00:00",
          "2020-10-01T00:00:00",
          "2020-11-01T00:00:00",
          "2020-12-01T00:00:00",
          "2021-01-01T00:00:00",
          "2021-02-01T00:00:00",
          "2021-03-01T00:00:00",
          "2021-04-01T00:00:00",
          "2021-05-01T00:00:00",
          "2021-06-01T00:00:00",
          "2021-07-01T00:00:00",
          "2021-08-01T00:00:00",
          "2021-09-01T00:00:00",
          "2021-10-01T00:00:00",
          "2021-11-01T00:00:00",
          "2021-12-01T00:00:00",
          "2022-01-01T00:00:00",
          "2022-02-01T00:00:00",
          "2022-03-01T00:00:00",
          "2022-04-01T00:00:00",
          "2022-05-01T00:00:00",
          "2022-06-01T00:00:00",
          "2022-07-01T00:00:00",
          "2022-08-01T00:00:00",
          "2022-09-01T00:00:00",
          "2022-10-01T00:00:00",
          "2022-11-01T00:00:00",
          "2022-12-01T00:00:00",
          "2023-01-01T00:00:00",
          "2023-02-01T00:00:00",
          "2023-03-01T00:00:00",
          "2023-04-01T00:00:00",
          "2023-05-01T00:00:00",
          "2023-05-31T00:00:00",
          "2023-06-30T00:00:00",
          "2023-07-31T00:00:00",
          "2023-08-31T00:00:00",
          "2023-09-30T00:00:00",
          "2023-10-31T00:00:00",
          "2023-11-30T00:00:00",
          "2023-12-31T00:00:00",
          "2024-01-31T00:00:00",
          "2024-02-29T00:00:00",
          "2024-03-31T00:00:00",
          "2024-04-30T00:00:00"
         ],
         "y": [
          673570.7067218343,
          631208.1787897865,
          681364.82316209,
          663636.004320298,
          672492.0485233231,
          661985.4546825092,
          683930.9631143634,
          675358.2119485658,
          652587.5792724941,
          668932.515595514,
          661989.8773357194,
          675850.4251165998,
          680175.8760267366,
          606034.0525591043,
          678432.0912032326,
          656312.8771177953,
          669114.0390004729,
          660951.7093680758,
          679799.4342315778,
          673883.9011653394,
          649748.5717994662,
          672718.0659562757,
          657736.0202446847,
          671588.4271951779,
          673749.0232704335,
          610850.8141026157,
          679339.7194605708,
          651649.6332978656,
          667292.6872252641,
          661624.5061303542,
          677541.4623835416,
          674488.6777161211,
          648894.6136200384,
          678210.6101159736,
          654960.6436554706,
          668755.5362197423,
          668749.6628789268,
          616930.9234714604,
          681049.6258276427,
          647692.143924412,
          666113.9585179245,
          667911.5586196652,
          668327.4480300982,
          679063.0237206015,
          646503.6967104381,
          705337.1906807973,
          639954.4256871277,
          655131.5117881664,
          646647.7974504202,
          649944.8778048113,
          682604.9988534749,
          643670.3299808699,
          664979.487604763
         ]
        }
       ],
       "layout": {
        "autosize": true,
        "template": {
         "data": {
          "bar": [
           {
            "error_x": {
             "color": "#2a3f5f"
            },
            "error_y": {
             "color": "#2a3f5f"
            },
            "marker": {
             "line": {
              "color": "#E5ECF6",
              "width": 0.5
             },
             "pattern": {
              "fillmode": "overlay",
              "size": 10,
              "solidity": 0.2
             }
            },
            "type": "bar"
           }
          ],
          "barpolar": [
           {
            "marker": {
             "line": {
              "color": "#E5ECF6",
              "width": 0.5
             },
             "pattern": {
              "fillmode": "overlay",
              "size": 10,
              "solidity": 0.2
             }
            },
            "type": "barpolar"
           }
          ],
          "carpet": [
           {
            "aaxis": {
             "endlinecolor": "#2a3f5f",
             "gridcolor": "white",
             "linecolor": "white",
             "minorgridcolor": "white",
             "startlinecolor": "#2a3f5f"
            },
            "baxis": {
             "endlinecolor": "#2a3f5f",
             "gridcolor": "white",
             "linecolor": "white",
             "minorgridcolor": "white",
             "startlinecolor": "#2a3f5f"
            },
            "type": "carpet"
           }
          ],
          "choropleth": [
           {
            "colorbar": {
             "outlinewidth": 0,
             "ticks": ""
            },
            "type": "choropleth"
           }
          ],
          "contour": [
           {
            "colorbar": {
             "outlinewidth": 0,
             "ticks": ""
            },
            "colorscale": [
             [
              0,
              "#0d0887"
             ],
             [
              0.1111111111111111,
              "#46039f"
             ],
             [
              0.2222222222222222,
              "#7201a8"
             ],
             [
              0.3333333333333333,
              "#9c179e"
             ],
             [
              0.4444444444444444,
              "#bd3786"
             ],
             [
              0.5555555555555556,
              "#d8576b"
             ],
             [
              0.6666666666666666,
              "#ed7953"
             ],
             [
              0.7777777777777778,
              "#fb9f3a"
             ],
             [
              0.8888888888888888,
              "#fdca26"
             ],
             [
              1,
              "#f0f921"
             ]
            ],
            "type": "contour"
           }
          ],
          "contourcarpet": [
           {
            "colorbar": {
             "outlinewidth": 0,
             "ticks": ""
            },
            "type": "contourcarpet"
           }
          ],
          "heatmap": [
           {
            "colorbar": {
             "outlinewidth": 0,
             "ticks": ""
            },
            "colorscale": [
             [
              0,
              "#0d0887"
             ],
             [
              0.1111111111111111,
              "#46039f"
             ],
             [
              0.2222222222222222,
              "#7201a8"
             ],
             [
              0.3333333333333333,
              "#9c179e"
             ],
             [
              0.4444444444444444,
              "#bd3786"
             ],
             [
              0.5555555555555556,
              "#d8576b"
             ],
             [
              0.6666666666666666,
              "#ed7953"
             ],
             [
              0.7777777777777778,
              "#fb9f3a"
             ],
             [
              0.8888888888888888,
              "#fdca26"
             ],
             [
              1,
              "#f0f921"
             ]
            ],
            "type": "heatmap"
           }
          ],
          "heatmapgl": [
           {
            "colorbar": {
             "outlinewidth": 0,
             "ticks": ""
            },
            "colorscale": [
             [
              0,
              "#0d0887"
             ],
             [
              0.1111111111111111,
              "#46039f"
             ],
             [
              0.2222222222222222,
              "#7201a8"
             ],
             [
              0.3333333333333333,
              "#9c179e"
             ],
             [
              0.4444444444444444,
              "#bd3786"
             ],
             [
              0.5555555555555556,
              "#d8576b"
             ],
             [
              0.6666666666666666,
              "#ed7953"
             ],
             [
              0.7777777777777778,
              "#fb9f3a"
             ],
             [
              0.8888888888888888,
              "#fdca26"
             ],
             [
              1,
              "#f0f921"
             ]
            ],
            "type": "heatmapgl"
           }
          ],
          "histogram": [
           {
            "marker": {
             "pattern": {
              "fillmode": "overlay",
              "size": 10,
              "solidity": 0.2
             }
            },
            "type": "histogram"
           }
          ],
          "histogram2d": [
           {
            "colorbar": {
             "outlinewidth": 0,
             "ticks": ""
            },
            "colorscale": [
             [
              0,
              "#0d0887"
             ],
             [
              0.1111111111111111,
              "#46039f"
             ],
             [
              0.2222222222222222,
              "#7201a8"
             ],
             [
              0.3333333333333333,
              "#9c179e"
             ],
             [
              0.4444444444444444,
              "#bd3786"
             ],
             [
              0.5555555555555556,
              "#d8576b"
             ],
             [
              0.6666666666666666,
              "#ed7953"
             ],
             [
              0.7777777777777778,
              "#fb9f3a"
             ],
             [
              0.8888888888888888,
              "#fdca26"
             ],
             [
              1,
              "#f0f921"
             ]
            ],
            "type": "histogram2d"
           }
          ],
          "histogram2dcontour": [
           {
            "colorbar": {
             "outlinewidth": 0,
             "ticks": ""
            },
            "colorscale": [
             [
              0,
              "#0d0887"
             ],
             [
              0.1111111111111111,
              "#46039f"
             ],
             [
              0.2222222222222222,
              "#7201a8"
             ],
             [
              0.3333333333333333,
              "#9c179e"
             ],
             [
              0.4444444444444444,
              "#bd3786"
             ],
             [
              0.5555555555555556,
              "#d8576b"
             ],
             [
              0.6666666666666666,
              "#ed7953"
             ],
             [
              0.7777777777777778,
              "#fb9f3a"
             ],
             [
              0.8888888888888888,
              "#fdca26"
             ],
             [
              1,
              "#f0f921"
             ]
            ],
            "type": "histogram2dcontour"
           }
          ],
          "mesh3d": [
           {
            "colorbar": {
             "outlinewidth": 0,
             "ticks": ""
            },
            "type": "mesh3d"
           }
          ],
          "parcoords": [
           {
            "line": {
             "colorbar": {
              "outlinewidth": 0,
              "ticks": ""
             }
            },
            "type": "parcoords"
           }
          ],
          "pie": [
           {
            "automargin": true,
            "type": "pie"
           }
          ],
          "scatter": [
           {
            "fillpattern": {
             "fillmode": "overlay",
             "size": 10,
             "solidity": 0.2
            },
            "type": "scatter"
           }
          ],
          "scatter3d": [
           {
            "line": {
             "colorbar": {
              "outlinewidth": 0,
              "ticks": ""
             }
            },
            "marker": {
             "colorbar": {
              "outlinewidth": 0,
              "ticks": ""
             }
            },
            "type": "scatter3d"
           }
          ],
          "scattercarpet": [
           {
            "marker": {
             "colorbar": {
              "outlinewidth": 0,
              "ticks": ""
             }
            },
            "type": "scattercarpet"
           }
          ],
          "scattergeo": [
           {
            "marker": {
             "colorbar": {
              "outlinewidth": 0,
              "ticks": ""
             }
            },
            "type": "scattergeo"
           }
          ],
          "scattergl": [
           {
            "marker": {
             "colorbar": {
              "outlinewidth": 0,
              "ticks": ""
             }
            },
            "type": "scattergl"
           }
          ],
          "scattermapbox": [
           {
            "marker": {
             "colorbar": {
              "outlinewidth": 0,
              "ticks": ""
             }
            },
            "type": "scattermapbox"
           }
          ],
          "scatterpolar": [
           {
            "marker": {
             "colorbar": {
              "outlinewidth": 0,
              "ticks": ""
             }
            },
            "type": "scatterpolar"
           }
          ],
          "scatterpolargl": [
           {
            "marker": {
             "colorbar": {
              "outlinewidth": 0,
              "ticks": ""
             }
            },
            "type": "scatterpolargl"
           }
          ],
          "scatterternary": [
           {
            "marker": {
             "colorbar": {
              "outlinewidth": 0,
              "ticks": ""
             }
            },
            "type": "scatterternary"
           }
          ],
          "surface": [
           {
            "colorbar": {
             "outlinewidth": 0,
             "ticks": ""
            },
            "colorscale": [
             [
              0,
              "#0d0887"
             ],
             [
              0.1111111111111111,
              "#46039f"
             ],
             [
              0.2222222222222222,
              "#7201a8"
             ],
             [
              0.3333333333333333,
              "#9c179e"
             ],
             [
              0.4444444444444444,
              "#bd3786"
             ],
             [
              0.5555555555555556,
              "#d8576b"
             ],
             [
              0.6666666666666666,
              "#ed7953"
             ],
             [
              0.7777777777777778,
              "#fb9f3a"
             ],
             [
              0.8888888888888888,
              "#fdca26"
             ],
             [
              1,
              "#f0f921"
             ]
            ],
            "type": "surface"
           }
          ],
          "table": [
           {
            "cells": {
             "fill": {
              "color": "#EBF0F8"
             },
             "line": {
              "color": "white"
             }
            },
            "header": {
             "fill": {
              "color": "#C8D4E3"
             },
             "line": {
              "color": "white"
             }
            },
            "type": "table"
           }
          ]
         },
         "layout": {
          "annotationdefaults": {
           "arrowcolor": "#2a3f5f",
           "arrowhead": 0,
           "arrowwidth": 1
          },
          "autotypenumbers": "strict",
          "coloraxis": {
           "colorbar": {
            "outlinewidth": 0,
            "ticks": ""
           }
          },
          "colorscale": {
           "diverging": [
            [
             0,
             "#8e0152"
            ],
            [
             0.1,
             "#c51b7d"
            ],
            [
             0.2,
             "#de77ae"
            ],
            [
             0.3,
             "#f1b6da"
            ],
            [
             0.4,
             "#fde0ef"
            ],
            [
             0.5,
             "#f7f7f7"
            ],
            [
             0.6,
             "#e6f5d0"
            ],
            [
             0.7,
             "#b8e186"
            ],
            [
             0.8,
             "#7fbc41"
            ],
            [
             0.9,
             "#4d9221"
            ],
            [
             1,
             "#276419"
            ]
           ],
           "sequential": [
            [
             0,
             "#0d0887"
            ],
            [
             0.1111111111111111,
             "#46039f"
            ],
            [
             0.2222222222222222,
             "#7201a8"
            ],
            [
             0.3333333333333333,
             "#9c179e"
            ],
            [
             0.4444444444444444,
             "#bd3786"
            ],
            [
             0.5555555555555556,
             "#d8576b"
            ],
            [
             0.6666666666666666,
             "#ed7953"
            ],
            [
             0.7777777777777778,
             "#fb9f3a"
            ],
            [
             0.8888888888888888,
             "#fdca26"
            ],
            [
             1,
             "#f0f921"
            ]
           ],
           "sequentialminus": [
            [
             0,
             "#0d0887"
            ],
            [
             0.1111111111111111,
             "#46039f"
            ],
            [
             0.2222222222222222,
             "#7201a8"
            ],
            [
             0.3333333333333333,
             "#9c179e"
            ],
            [
             0.4444444444444444,
             "#bd3786"
            ],
            [
             0.5555555555555556,
             "#d8576b"
            ],
            [
             0.6666666666666666,
             "#ed7953"
            ],
            [
             0.7777777777777778,
             "#fb9f3a"
            ],
            [
             0.8888888888888888,
             "#fdca26"
            ],
            [
             1,
             "#f0f921"
            ]
           ]
          },
          "colorway": [
           "#636efa",
           "#EF553B",
           "#00cc96",
           "#ab63fa",
           "#FFA15A",
           "#19d3f3",
           "#FF6692",
           "#B6E880",
           "#FF97FF",
           "#FECB52"
          ],
          "font": {
           "color": "#2a3f5f"
          },
          "geo": {
           "bgcolor": "white",
           "lakecolor": "white",
           "landcolor": "#E5ECF6",
           "showlakes": true,
           "showland": true,
           "subunitcolor": "white"
          },
          "hoverlabel": {
           "align": "left"
          },
          "hovermode": "closest",
          "mapbox": {
           "style": "light"
          },
          "paper_bgcolor": "white",
          "plot_bgcolor": "#E5ECF6",
          "polar": {
           "angularaxis": {
            "gridcolor": "white",
            "linecolor": "white",
            "ticks": ""
           },
           "bgcolor": "#E5ECF6",
           "radialaxis": {
            "gridcolor": "white",
            "linecolor": "white",
            "ticks": ""
           }
          },
          "scene": {
           "xaxis": {
            "backgroundcolor": "#E5ECF6",
            "gridcolor": "white",
            "gridwidth": 2,
            "linecolor": "white",
            "showbackground": true,
            "ticks": "",
            "zerolinecolor": "white"
           },
           "yaxis": {
            "backgroundcolor": "#E5ECF6",
            "gridcolor": "white",
            "gridwidth": 2,
            "linecolor": "white",
            "showbackground": true,
            "ticks": "",
            "zerolinecolor": "white"
           },
           "zaxis": {
            "backgroundcolor": "#E5ECF6",
            "gridcolor": "white",
            "gridwidth": 2,
            "linecolor": "white",
            "showbackground": true,
            "ticks": "",
            "zerolinecolor": "white"
           }
          },
          "shapedefaults": {
           "line": {
            "color": "#2a3f5f"
           }
          },
          "ternary": {
           "aaxis": {
            "gridcolor": "white",
            "linecolor": "white",
            "ticks": ""
           },
           "baxis": {
            "gridcolor": "white",
            "linecolor": "white",
            "ticks": ""
           },
           "bgcolor": "#E5ECF6",
           "caxis": {
            "gridcolor": "white",
            "linecolor": "white",
            "ticks": ""
           }
          },
          "title": {
           "x": 0.05
          },
          "xaxis": {
           "automargin": true,
           "gridcolor": "white",
           "linecolor": "white",
           "ticks": "",
           "title": {
            "standoff": 15
           },
           "zerolinecolor": "white",
           "zerolinewidth": 2
          },
          "yaxis": {
           "automargin": true,
           "gridcolor": "white",
           "linecolor": "white",
           "ticks": "",
           "title": {
            "standoff": 15
           },
           "zerolinecolor": "white",
           "zerolinewidth": 2
          }
         }
        },
        "xaxis": {
         "autorange": true,
         "range": [
          "2020-01-01",
          "2024-05-01"
         ],
         "type": "date"
        },
        "yaxis": {
         "autorange": true,
         "range": [
          376378.2305177335,
          722650.8201630638
         ],
         "type": "linear"
        }
       }
      },
      "image/png": "[encoded data removed]",
      "text/html": [
       "<div>                            <div id=\"96ed3f9c-0336-4957-b3af-a6f705f13a7d\" class=\"plotly-graph-div\" style=\"height:525px; width:100%;\"></div>            <script type=\"text/javascript\">                require([\"plotly\"], function(Plotly) {                    window.PLOTLYENV=window.PLOTLYENV || {};                                    if (document.getElementById(\"96ed3f9c-0336-4957-b3af-a6f705f13a7d\")) {                    Plotly.newPlot(                        \"96ed3f9c-0336-4957-b3af-a6f705f13a7d\",                        [{\"mode\":\"lines\",\"name\":\"Train\",\"x\":[\"2020-01-01T00:00:00\",\"2020-02-01T00:00:00\",\"2020-03-01T00:00:00\",\"2020-04-01T00:00:00\",\"2020-05-01T00:00:00\",\"2020-06-01T00:00:00\",\"2020-07-01T00:00:00\",\"2020-08-01T00:00:00\",\"2020-09-01T00:00:00\",\"2020-10-01T00:00:00\",\"2020-11-01T00:00:00\",\"2020-12-01T00:00:00\",\"2021-01-01T00:00:00\",\"2021-02-01T00:00:00\",\"2021-03-01T00:00:00\",\"2021-04-01T00:00:00\",\"2021-05-01T00:00:00\",\"2021-06-01T00:00:00\",\"2021-07-01T00:00:00\",\"2021-08-01T00:00:00\",\"2021-09-01T00:00:00\",\"2021-10-01T00:00:00\",\"2021-11-01T00:00:00\",\"2021-12-01T00:00:00\",\"2022-01-01T00:00:00\",\"2022-02-01T00:00:00\",\"2022-03-01T00:00:00\",\"2022-04-01T00:00:00\",\"2022-05-01T00:00:00\",\"2022-06-01T00:00:00\",\"2022-07-01T00:00:00\",\"2022-08-01T00:00:00\",\"2022-09-01T00:00:00\",\"2022-10-01T00:00:00\",\"2022-11-01T00:00:00\",\"2022-12-01T00:00:00\",\"2023-01-01T00:00:00\",\"2023-02-01T00:00:00\",\"2023-03-01T00:00:00\",\"2023-04-01T00:00:00\",\"2023-05-01T00:00:00\"],\"y\":[678299.24,636182.26,679427.27,657152.14,666343.08,659466.28,681688.47,680971.92,657505.85,668685.86,663630.8,673956.68,681316.23,609217.04,675073.03,654323.51,674265.59,660237.64,682861.54,665098.34,645103.18,678851.15,658239.8,675500.29,671658.33,599521.59,679163.98,663020.65,665700.5,664884.73,676763.46,677691.9,648629.18,672314.7,652787.71,666699.12,664932.39,620010.67,686536.83,644784.83,668735.94],\"type\":\"scatter\"},{\"mode\":\"lines\",\"name\":\"Test\",\"x\":[\"2023-06-01T00:00:00\",\"2023-07-01T00:00:00\",\"2023-08-01T00:00:00\",\"2023-09-01T00:00:00\",\"2023-10-01T00:00:00\",\"2023-11-01T00:00:00\",\"2023-12-01T00:00:00\",\"2024-01-01T00:00:00\",\"2024-02-01T00:00:00\",\"2024-03-01T00:00:00\",\"2024-04-01T00:00:00\",\"2024-05-01T00:00:00\"],\"y\":[644854.11,686292.34,678686.36,661039.98,677284.75,662716.19,685203.18,678089.72,630481.23,669631.15,645977.02,393691.86],\"type\":\"scatter\"},{\"mode\":\"lines\",\"name\":\"Forecast\",\"x\":[\"2020-01-01T00:00:00\",\"2020-02-01T00:00:00\",\"2020-03-01T00:00:00\",\"2020-04-01T00:00:00\",\"2020-05-01T00:00:00\",\"2020-06-01T00:00:00\",\"2020-07-01T00:00:00\",\"2020-08-01T00:00:00\",\"2020-09-01T00:00:00\",\"2020-10-01T00:00:00\",\"2020-11-01T00:00:00\",\"2020-12-01T00:00:00\",\"2021-01-01T00:00:00\",\"2021-02-01T00:00:00\",\"2021-03-01T00:00:00\",\"2021-04-01T00:00:00\",\"2021-05-01T00:00:00\",\"2021-06-01T00:00:00\",\"2021-07-01T00:00:00\",\"2021-08-01T00:00:00\",\"2021-09-01T00:00:00\",\"2021-10-01T00:00:00\",\"2021-11-01T00:00:00\",\"2021-12-01T00:00:00\",\"2022-01-01T00:00:00\",\"2022-02-01T00:00:00\",\"2022-03-01T00:00:00\",\"2022-04-01T00:00:00\",\"2022-05-01T00:00:00\",\"2022-06-01T00:00:00\",\"2022-07-01T00:00:00\",\"2022-08-01T00:00:00\",\"2022-09-01T00:00:00\",\"2022-10-01T00:00:00\",\"2022-11-01T00:00:00\",\"2022-12-01T00:00:00\",\"2023-01-01T00:00:00\",\"2023-02-01T00:00:00\",\"2023-03-01T00:00:00\",\"2023-04-01T00:00:00\",\"2023-05-01T00:00:00\",\"2023-05-31T00:00:00\",\"2023-06-30T00:00:00\",\"2023-07-31T00:00:00\",\"2023-08-31T00:00:00\",\"2023-09-30T00:00:00\",\"2023-10-31T00:00:00\",\"2023-11-30T00:00:00\",\"2023-12-31T00:00:00\",\"2024-01-31T00:00:00\",\"2024-02-29T00:00:00\",\"2024-03-31T00:00:00\",\"2024-04-30T00:00:00\"],\"y\":[673570.7067218343,631208.1787897865,681364.82316209,663636.004320298,672492.0485233231,661985.4546825092,683930.9631143634,675358.2119485658,652587.5792724941,668932.515595514,661989.8773357194,675850.4251165998,680175.8760267366,606034.0525591043,678432.0912032326,656312.8771177953,669114.0390004729,660951.7093680758,679799.4342315778,673883.9011653394,649748.5717994662,672718.0659562757,657736.0202446847,671588.4271951779,673749.0232704335,610850.8141026157,679339.7194605708,651649.6332978656,667292.6872252641,661624.5061303542,677541.4623835416,674488.6777161211,648894.6136200384,678210.6101159736,654960.6436554706,668755.5362197423,668749.6628789268,616930.9234714604,681049.6258276427,647692.143924412,666113.9585179245,667911.5586196652,668327.4480300982,679063.0237206015,646503.6967104381,705337.1906807973,639954.4256871277,655131.5117881664,646647.7974504202,649944.8778048113,682604.9988534749,643670.3299808699,664979.487604763],\"type\":\"scatter\"}],                        {\"template\":{\"data\":{\"histogram2dcontour\":[{\"type\":\"histogram2dcontour\",\"colorbar\":{\"outlinewidth\":0,\"ticks\":\"\"},\"colorscale\":[[0.0,\"#0d0887\"],[0.1111111111111111,\"#46039f\"],[0.2222222222222222,\"#7201a8\"],[0.3333333333333333,\"#9c179e\"],[0.4444444444444444,\"#bd3786\"],[0.5555555555555556,\"#d8576b\"],[0.6666666666666666,\"#ed7953\"],[0.7777777777777778,\"#fb9f3a\"],[0.8888888888888888,\"#fdca26\"],[1.0,\"#f0f921\"]]}],\"choropleth\":[{\"type\":\"choropleth\",\"colorbar\":{\"outlinewidth\":0,\"ticks\":\"\"}}],\"histogram2d\":[{\"type\":\"histogram2d\",\"colorbar\":{\"outlinewidth\":0,\"ticks\":\"\"},\"colorscale\":[[0.0,\"#0d0887\"],[0.1111111111111111,\"#46039f\"],[0.2222222222222222,\"#7201a8\"],[0.3333333333333333,\"#9c179e\"],[0.4444444444444444,\"#bd3786\"],[0.5555555555555556,\"#d8576b\"],[0.6666666666666666,\"#ed7953\"],[0.7777777777777778,\"#fb9f3a\"],[0.8888888888888888,\"#fdca26\"],[1.0,\"#f0f921\"]]}],\"heatmap\":[{\"type\":\"heatmap\",\"colorbar\":{\"outlinewidth\":0,\"ticks\":\"\"},\"colorscale\":[[0.0,\"#0d0887\"],[0.1111111111111111,\"#46039f\"],[0.2222222222222222,\"#7201a8\"],[0.3333333333333333,\"#9c179e\"],[0.4444444444444444,\"#bd3786\"],[0.5555555555555556,\"#d8576b\"],[0.6666666666666666,\"#ed7953\"],[0.7777777777777778,\"#fb9f3a\"],[0.8888888888888888,\"#fdca26\"],[1.0,\"#f0f921\"]]}],\"heatmapgl\":[{\"type\":\"heatmapgl\",\"colorbar\":{\"outlinewidth\":0,\"ticks\":\"\"},\"colorscale\":[[0.0,\"#0d0887\"],[0.1111111111111111,\"#46039f\"],[0.2222222222222222,\"#7201a8\"],[0.3333333333333333,\"#9c179e\"],[0.4444444444444444,\"#bd3786\"],[0.5555555555555556,\"#d8576b\"],[0.6666666666666666,\"#ed7953\"],[0.7777777777777778,\"#fb9f3a\"],[0.8888888888888888,\"#fdca26\"],[1.0,\"#f0f921\"]]}],\"contourcarpet\":[{\"type\":\"contourcarpet\",\"colorbar\":{\"outlinewidth\":0,\"ticks\":\"\"}}],\"contour\":[{\"type\":\"contour\",\"colorbar\":{\"outlinewidth\":0,\"ticks\":\"\"},\"colorscale\":[[0.0,\"#0d0887\"],[0.1111111111111111,\"#46039f\"],[0.2222222222222222,\"#7201a8\"],[0.3333333333333333,\"#9c179e\"],[0.4444444444444444,\"#bd3786\"],[0.5555555555555556,\"#d8576b\"],[0.6666666666666666,\"#ed7953\"],[0.7777777777777778,\"#fb9f3a\"],[0.8888888888888888,\"#fdca26\"],[1.0,\"#f0f921\"]]}],\"surface\":[{\"type\":\"surface\",\"colorbar\":{\"outlinewidth\":0,\"ticks\":\"\"},\"colorscale\":[[0.0,\"#0d0887\"],[0.1111111111111111,\"#46039f\"],[0.2222222222222222,\"#7201a8\"],[0.3333333333333333,\"#9c179e\"],[0.4444444444444444,\"#bd3786\"],[0.5555555555555556,\"#d8576b\"],[0.6666666666666666,\"#ed7953\"],[0.7777777777777778,\"#fb9f3a\"],[0.8888888888888888,\"#fdca26\"],[1.0,\"#f0f921\"]]}],\"mesh3d\":[{\"type\":\"mesh3d\",\"colorbar\":{\"outlinewidth\":0,\"ticks\":\"\"}}],\"scatter\":[{\"fillpattern\":{\"fillmode\":\"overlay\",\"size\":10,\"solidity\":0.2},\"type\":\"scatter\"}],\"parcoords\":[{\"type\":\"parcoords\",\"line\":{\"colorbar\":{\"outlinewidth\":0,\"ticks\":\"\"}}}],\"scatterpolargl\":[{\"type\":\"scatterpolargl\",\"marker\":{\"colorbar\":{\"outlinewidth\":0,\"ticks\":\"\"}}}],\"bar\":[{\"error_x\":{\"color\":\"#2a3f5f\"},\"error_y\":{\"color\":\"#2a3f5f\"},\"marker\":{\"line\":{\"color\":\"#E5ECF6\",\"width\":0.5},\"pattern\":{\"fillmode\":\"overlay\",\"size\":10,\"solidity\":0.2}},\"type\":\"bar\"}],\"scattergeo\":[{\"type\":\"scattergeo\",\"marker\":{\"colorbar\":{\"outlinewidth\":0,\"ticks\":\"\"}}}],\"scatterpolar\":[{\"type\":\"scatterpolar\",\"marker\":{\"colorbar\":{\"outlinewidth\":0,\"ticks\":\"\"}}}],\"histogram\":[{\"marker\":{\"pattern\":{\"fillmode\":\"overlay\",\"size\":10,\"solidity\":0.2}},\"type\":\"histogram\"}],\"scattergl\":[{\"type\":\"scattergl\",\"marker\":{\"colorbar\":{\"outlinewidth\":0,\"ticks\":\"\"}}}],\"scatter3d\":[{\"type\":\"scatter3d\",\"line\":{\"colorbar\":{\"outlinewidth\":0,\"ticks\":\"\"}},\"marker\":{\"colorbar\":{\"outlinewidth\":0,\"ticks\":\"\"}}}],\"scattermapbox\":[{\"type\":\"scattermapbox\",\"marker\":{\"colorbar\":{\"outlinewidth\":0,\"ticks\":\"\"}}}],\"scatterternary\":[{\"type\":\"scatterternary\",\"marker\":{\"colorbar\":{\"outlinewidth\":0,\"ticks\":\"\"}}}],\"scattercarpet\":[{\"type\":\"scattercarpet\",\"marker\":{\"colorbar\":{\"outlinewidth\":0,\"ticks\":\"\"}}}],\"carpet\":[{\"aaxis\":{\"endlinecolor\":\"#2a3f5f\",\"gridcolor\":\"white\",\"linecolor\":\"white\",\"minorgridcolor\":\"white\",\"startlinecolor\":\"#2a3f5f\"},\"baxis\":{\"endlinecolor\":\"#2a3f5f\",\"gridcolor\":\"white\",\"linecolor\":\"white\",\"minorgridcolor\":\"white\",\"startlinecolor\":\"#2a3f5f\"},\"type\":\"carpet\"}],\"table\":[{\"cells\":{\"fill\":{\"color\":\"#EBF0F8\"},\"line\":{\"color\":\"white\"}},\"header\":{\"fill\":{\"color\":\"#C8D4E3\"},\"line\":{\"color\":\"white\"}},\"type\":\"table\"}],\"barpolar\":[{\"marker\":{\"line\":{\"color\":\"#E5ECF6\",\"width\":0.5},\"pattern\":{\"fillmode\":\"overlay\",\"size\":10,\"solidity\":0.2}},\"type\":\"barpolar\"}],\"pie\":[{\"automargin\":true,\"type\":\"pie\"}]},\"layout\":{\"autotypenumbers\":\"strict\",\"colorway\":[\"#636efa\",\"#EF553B\",\"#00cc96\",\"#ab63fa\",\"#FFA15A\",\"#19d3f3\",\"#FF6692\",\"#B6E880\",\"#FF97FF\",\"#FECB52\"],\"font\":{\"color\":\"#2a3f5f\"},\"hovermode\":\"closest\",\"hoverlabel\":{\"align\":\"left\"},\"paper_bgcolor\":\"white\",\"plot_bgcolor\":\"#E5ECF6\",\"polar\":{\"bgcolor\":\"#E5ECF6\",\"angularaxis\":{\"gridcolor\":\"white\",\"linecolor\":\"white\",\"ticks\":\"\"},\"radialaxis\":{\"gridcolor\":\"white\",\"linecolor\":\"white\",\"ticks\":\"\"}},\"ternary\":{\"bgcolor\":\"#E5ECF6\",\"aaxis\":{\"gridcolor\":\"white\",\"linecolor\":\"white\",\"ticks\":\"\"},\"baxis\":{\"gridcolor\":\"white\",\"linecolor\":\"white\",\"ticks\":\"\"},\"caxis\":{\"gridcolor\":\"white\",\"linecolor\":\"white\",\"ticks\":\"\"}},\"coloraxis\":{\"colorbar\":{\"outlinewidth\":0,\"ticks\":\"\"}},\"colorscale\":{\"sequential\":[[0.0,\"#0d0887\"],[0.1111111111111111,\"#46039f\"],[0.2222222222222222,\"#7201a8\"],[0.3333333333333333,\"#9c179e\"],[0.4444444444444444,\"#bd3786\"],[0.5555555555555556,\"#d8576b\"],[0.6666666666666666,\"#ed7953\"],[0.7777777777777778,\"#fb9f3a\"],[0.8888888888888888,\"#fdca26\"],[1.0,\"#f0f921\"]],\"sequentialminus\":[[0.0,\"#0d0887\"],[0.1111111111111111,\"#46039f\"],[0.2222222222222222,\"#7201a8\"],[0.3333333333333333,\"#9c179e\"],[0.4444444444444444,\"#bd3786\"],[0.5555555555555556,\"#d8576b\"],[0.6666666666666666,\"#ed7953\"],[0.7777777777777778,\"#fb9f3a\"],[0.8888888888888888,\"#fdca26\"],[1.0,\"#f0f921\"]],\"diverging\":[[0,\"#8e0152\"],[0.1,\"#c51b7d\"],[0.2,\"#de77ae\"],[0.3,\"#f1b6da\"],[0.4,\"#fde0ef\"],[0.5,\"#f7f7f7\"],[0.6,\"#e6f5d0\"],[0.7,\"#b8e186\"],[0.8,\"#7fbc41\"],[0.9,\"#4d9221\"],[1,\"#276419\"]]},\"xaxis\":{\"gridcolor\":\"white\",\"linecolor\":\"white\",\"ticks\":\"\",\"title\":{\"standoff\":15},\"zerolinecolor\":\"white\",\"automargin\":true,\"zerolinewidth\":2},\"yaxis\":{\"gridcolor\":\"white\",\"linecolor\":\"white\",\"ticks\":\"\",\"title\":{\"standoff\":15},\"zerolinecolor\":\"white\",\"automargin\":true,\"zerolinewidth\":2},\"scene\":{\"xaxis\":{\"backgroundcolor\":\"#E5ECF6\",\"gridcolor\":\"white\",\"linecolor\":\"white\",\"showbackground\":true,\"ticks\":\"\",\"zerolinecolor\":\"white\",\"gridwidth\":2},\"yaxis\":{\"backgroundcolor\":\"#E5ECF6\",\"gridcolor\":\"white\",\"linecolor\":\"white\",\"showbackground\":true,\"ticks\":\"\",\"zerolinecolor\":\"white\",\"gridwidth\":2},\"zaxis\":{\"backgroundcolor\":\"#E5ECF6\",\"gridcolor\":\"white\",\"linecolor\":\"white\",\"showbackground\":true,\"ticks\":\"\",\"zerolinecolor\":\"white\",\"gridwidth\":2}},\"shapedefaults\":{\"line\":{\"color\":\"#2a3f5f\"}},\"annotationdefaults\":{\"arrowcolor\":\"#2a3f5f\",\"arrowhead\":0,\"arrowwidth\":1},\"geo\":{\"bgcolor\":\"white\",\"landcolor\":\"#E5ECF6\",\"subunitcolor\":\"white\",\"showland\":true,\"showlakes\":true,\"lakecolor\":\"white\"},\"title\":{\"x\":0.05},\"mapbox\":{\"style\":\"light\"}}}},                        {\"responsive\": true}                    ).then(function(){\n",
       "                            \n",
       "var gd = document.getElementById('96ed3f9c-0336-4957-b3af-a6f705f13a7d');\n",
       "var x = new MutationObserver(function (mutations, observer) {{\n",
       "        var display = window.getComputedStyle(gd).display;\n",
       "        if (!display || display === 'none') {{\n",
       "            console.log([gd, 'removed!']);\n",
       "            Plotly.purge(gd);\n",
       "            observer.disconnect();\n",
       "        }}\n",
       "}});\n",
       "\n",
       "// Listen for the removal of the full notebook cells\n",
       "var notebookContainer = gd.closest('#notebook-container');\n",
       "if (notebookContainer) {{\n",
       "    x.observe(notebookContainer, {childList: true});\n",
       "}}\n",
       "\n",
       "// Listen for the clearing of the current output cell\n",
       "var outputEl = gd.closest('.output');\n",
       "if (outputEl) {{\n",
       "    x.observe(outputEl, {childList: true});\n",
       "}}\n",
       "\n",
       "                        })                };                });            </script>        </div>"
      ]
     },
     "metadata": {},
     "output_type": "display_data"
    }
   ],
   "source": [
    "# Plot the forecast results\n",
    "fig = go.Figure()\n",
    "fig.add_trace(go.Scatter(x=train['ds'], y=train['y'], mode='lines', name='Train'))\n",
    "fig.add_trace(go.Scatter(x=test['ds'], y=test['y'], mode='lines', name='Test'))\n",
    "fig.add_trace(go.Scatter(x=forecast['ds'], y=forecast['yhat'], mode='lines', name='Forecast'))"
   ]
  },
  {
   "cell_type": "code",
   "execution_count": 446,
   "id": "3b508eb6-b9ff-4277-921c-1f0b951c23a4",
   "metadata": {},
   "outputs": [
    {
     "data": {
      "application/vnd.plotly.v1+json": {
       "config": {
        "plotlyServerURL": "https://plot.ly"
       },
       "data": [
        {
         "mode": "lines",
         "name": "Train",
         "type": "scatter",
         "x": [
          "2020-01-01T00:00:00",
          "2020-02-01T00:00:00",
          "2020-03-01T00:00:00",
          "2020-04-01T00:00:00",
          "2020-05-01T00:00:00",
          "2020-06-01T00:00:00",
          "2020-07-01T00:00:00",
          "2020-08-01T00:00:00",
          "2020-09-01T00:00:00",
          "2020-10-01T00:00:00",
          "2020-11-01T00:00:00",
          "2020-12-01T00:00:00",
          "2021-01-01T00:00:00",
          "2021-02-01T00:00:00",
          "2021-03-01T00:00:00",
          "2021-04-01T00:00:00",
          "2021-05-01T00:00:00",
          "2021-06-01T00:00:00",
          "2021-07-01T00:00:00",
          "2021-08-01T00:00:00",
          "2021-09-01T00:00:00",
          "2021-10-01T00:00:00",
          "2021-11-01T00:00:00",
          "2021-12-01T00:00:00",
          "2022-01-01T00:00:00",
          "2022-02-01T00:00:00",
          "2022-03-01T00:00:00",
          "2022-04-01T00:00:00",
          "2022-05-01T00:00:00",
          "2022-06-01T00:00:00",
          "2022-07-01T00:00:00",
          "2022-08-01T00:00:00",
          "2022-09-01T00:00:00",
          "2022-10-01T00:00:00",
          "2022-11-01T00:00:00",
          "2022-12-01T00:00:00",
          "2023-01-01T00:00:00",
          "2023-02-01T00:00:00",
          "2023-03-01T00:00:00",
          "2023-04-01T00:00:00",
          "2023-05-01T00:00:00"
         ],
         "y": [
          678299.24,
          636182.26,
          679427.27,
          657152.14,
          666343.08,
          659466.28,
          681688.47,
          680971.92,
          657505.85,
          668685.86,
          663630.8,
          673956.68,
          681316.23,
          609217.04,
          675073.03,
          654323.51,
          674265.59,
          660237.64,
          682861.54,
          665098.34,
          645103.18,
          678851.15,
          658239.8,
          675500.29,
          671658.33,
          599521.59,
          679163.98,
          663020.65,
          665700.5,
          664884.73,
          676763.46,
          677691.9,
          648629.18,
          672314.7,
          652787.71,
          666699.12,
          664932.39,
          620010.67,
          686536.83,
          644784.83,
          668735.94
         ]
        },
        {
         "mode": "lines",
         "name": "Test",
         "type": "scatter",
         "x": [
          "2023-06-01T00:00:00",
          "2023-07-01T00:00:00",
          "2023-08-01T00:00:00",
          "2023-09-01T00:00:00",
          "2023-10-01T00:00:00",
          "2023-11-01T00:00:00",
          "2023-12-01T00:00:00",
          "2024-01-01T00:00:00",
          "2024-02-01T00:00:00",
          "2024-03-01T00:00:00",
          "2024-04-01T00:00:00",
          "2024-05-01T00:00:00"
         ],
         "y": [
          644854.11,
          686292.34,
          678686.36,
          661039.98,
          677284.75,
          662716.19,
          685203.18,
          678089.72,
          630481.23,
          669631.15,
          645977.02,
          393691.86
         ]
        },
        {
         "mode": "lines",
         "name": "Forecast",
         "type": "scatter",
         "x": [
          "2020-01-01T00:00:00",
          "2020-02-01T00:00:00",
          "2020-03-01T00:00:00",
          "2020-04-01T00:00:00",
          "2020-05-01T00:00:00",
          "2020-06-01T00:00:00",
          "2020-07-01T00:00:00",
          "2020-08-01T00:00:00",
          "2020-09-01T00:00:00",
          "2020-10-01T00:00:00",
          "2020-11-01T00:00:00",
          "2020-12-01T00:00:00",
          "2021-01-01T00:00:00",
          "2021-02-01T00:00:00",
          "2021-03-01T00:00:00",
          "2021-04-01T00:00:00",
          "2021-05-01T00:00:00",
          "2021-06-01T00:00:00",
          "2021-07-01T00:00:00",
          "2021-08-01T00:00:00",
          "2021-09-01T00:00:00",
          "2021-10-01T00:00:00",
          "2021-11-01T00:00:00",
          "2021-12-01T00:00:00",
          "2022-01-01T00:00:00",
          "2022-02-01T00:00:00",
          "2022-03-01T00:00:00",
          "2022-04-01T00:00:00",
          "2022-05-01T00:00:00",
          "2022-06-01T00:00:00",
          "2022-07-01T00:00:00",
          "2022-08-01T00:00:00",
          "2022-09-01T00:00:00",
          "2022-10-01T00:00:00",
          "2022-11-01T00:00:00",
          "2022-12-01T00:00:00",
          "2023-01-01T00:00:00",
          "2023-02-01T00:00:00",
          "2023-03-01T00:00:00",
          "2023-04-01T00:00:00",
          "2023-05-01T00:00:00",
          "2023-05-31T00:00:00",
          "2023-06-30T00:00:00",
          "2023-07-31T00:00:00",
          "2023-08-31T00:00:00",
          "2023-09-30T00:00:00",
          "2023-10-31T00:00:00",
          "2023-11-30T00:00:00",
          "2023-12-31T00:00:00",
          "2024-01-31T00:00:00",
          "2024-02-29T00:00:00",
          "2024-03-31T00:00:00",
          "2024-04-30T00:00:00"
         ],
         "y": [
          673570.7067218343,
          631208.1787897865,
          681364.82316209,
          663636.004320298,
          672492.0485233231,
          661985.4546825092,
          683930.9631143634,
          675358.2119485658,
          652587.5792724941,
          668932.515595514,
          661989.8773357194,
          675850.4251165998,
          680175.8760267366,
          606034.0525591043,
          678432.0912032326,
          656312.8771177953,
          669114.0390004729,
          660951.7093680758,
          679799.4342315778,
          673883.9011653394,
          649748.5717994662,
          672718.0659562757,
          657736.0202446847,
          671588.4271951779,
          673749.0232704335,
          610850.8141026157,
          679339.7194605708,
          651649.6332978656,
          667292.6872252641,
          661624.5061303542,
          677541.4623835416,
          674488.6777161211,
          648894.6136200384,
          678210.6101159736,
          654960.6436554706,
          668755.5362197423,
          668749.6628789268,
          616930.9234714604,
          681049.6258276427,
          647692.143924412,
          666113.9585179245,
          667911.5586196652,
          668327.4480300982,
          679063.0237206015,
          646503.6967104381,
          705337.1906807973,
          639954.4256871277,
          655131.5117881664,
          646647.7974504202,
          649944.8778048113,
          682604.9988534749,
          643670.3299808699,
          664979.487604763
         ]
        },
        {
         "line": {
          "color": "rgba(0,0,255,0.2)"
         },
         "mode": "lines",
         "name": "Upper Bound",
         "type": "scatter",
         "x": [
          "2020-01-01T00:00:00",
          "2020-02-01T00:00:00",
          "2020-03-01T00:00:00",
          "2020-04-01T00:00:00",
          "2020-05-01T00:00:00",
          "2020-06-01T00:00:00",
          "2020-07-01T00:00:00",
          "2020-08-01T00:00:00",
          "2020-09-01T00:00:00",
          "2020-10-01T00:00:00",
          "2020-11-01T00:00:00",
          "2020-12-01T00:00:00",
          "2021-01-01T00:00:00",
          "2021-02-01T00:00:00",
          "2021-03-01T00:00:00",
          "2021-04-01T00:00:00",
          "2021-05-01T00:00:00",
          "2021-06-01T00:00:00",
          "2021-07-01T00:00:00",
          "2021-08-01T00:00:00",
          "2021-09-01T00:00:00",
          "2021-10-01T00:00:00",
          "2021-11-01T00:00:00",
          "2021-12-01T00:00:00",
          "2022-01-01T00:00:00",
          "2022-02-01T00:00:00",
          "2022-03-01T00:00:00",
          "2022-04-01T00:00:00",
          "2022-05-01T00:00:00",
          "2022-06-01T00:00:00",
          "2022-07-01T00:00:00",
          "2022-08-01T00:00:00",
          "2022-09-01T00:00:00",
          "2022-10-01T00:00:00",
          "2022-11-01T00:00:00",
          "2022-12-01T00:00:00",
          "2023-01-01T00:00:00",
          "2023-02-01T00:00:00",
          "2023-03-01T00:00:00",
          "2023-04-01T00:00:00",
          "2023-05-01T00:00:00",
          "2023-05-31T00:00:00",
          "2023-06-30T00:00:00",
          "2023-07-31T00:00:00",
          "2023-08-31T00:00:00",
          "2023-09-30T00:00:00",
          "2023-10-31T00:00:00",
          "2023-11-30T00:00:00",
          "2023-12-31T00:00:00",
          "2024-01-31T00:00:00",
          "2024-02-29T00:00:00",
          "2024-03-31T00:00:00",
          "2024-04-30T00:00:00"
         ],
         "y": [
          679054.1132255123,
          637235.0483684613,
          686921.8918534275,
          669704.4385922111,
          678703.2666828298,
          667887.4141261649,
          689783.6680396197,
          680958.0084708487,
          658666.0574739192,
          674798.8024647975,
          667488.0773890028,
          681278.4649393001,
          686051.9666531362,
          612041.7483247843,
          683920.9588160664,
          662616.4934526904,
          674823.1718046059,
          666811.2958044615,
          685056.473504728,
          679547.8694836367,
          655644.1664767705,
          678626.2551757059,
          663118.4060992586,
          677103.2917889322,
          679745.8430353565,
          616321.9730653929,
          685239.3020313171,
          657237.3598156726,
          673121.1434995163,
          667733.6102589065,
          682726.8725380293,
          680046.6924365276,
          654807.2187956087,
          683616.5299744278,
          660575.7322276762,
          674730.4546379938,
          674807.4188656041,
          622648.7505154078,
          687089.4483939084,
          653324.9989197486,
          671684.9798565436,
          673285.6091120562,
          674430.6067138604,
          685151.2616414299,
          652438.6359984215,
          711054.5537275001,
          645412.1358626666,
          660977.0451251472,
          652412.4448042389,
          655943.9027551481,
          688551.8433334881,
          649631.1797902866,
          671260.548062016
         ]
        },
        {
         "line": {
          "color": "rgba(0,0,255,0.2)"
         },
         "mode": "lines",
         "name": "Lower Bound",
         "type": "scatter",
         "x": [
          "2020-01-01T00:00:00",
          "2020-02-01T00:00:00",
          "2020-03-01T00:00:00",
          "2020-04-01T00:00:00",
          "2020-05-01T00:00:00",
          "2020-06-01T00:00:00",
          "2020-07-01T00:00:00",
          "2020-08-01T00:00:00",
          "2020-09-01T00:00:00",
          "2020-10-01T00:00:00",
          "2020-11-01T00:00:00",
          "2020-12-01T00:00:00",
          "2021-01-01T00:00:00",
          "2021-02-01T00:00:00",
          "2021-03-01T00:00:00",
          "2021-04-01T00:00:00",
          "2021-05-01T00:00:00",
          "2021-06-01T00:00:00",
          "2021-07-01T00:00:00",
          "2021-08-01T00:00:00",
          "2021-09-01T00:00:00",
          "2021-10-01T00:00:00",
          "2021-11-01T00:00:00",
          "2021-12-01T00:00:00",
          "2022-01-01T00:00:00",
          "2022-02-01T00:00:00",
          "2022-03-01T00:00:00",
          "2022-04-01T00:00:00",
          "2022-05-01T00:00:00",
          "2022-06-01T00:00:00",
          "2022-07-01T00:00:00",
          "2022-08-01T00:00:00",
          "2022-09-01T00:00:00",
          "2022-10-01T00:00:00",
          "2022-11-01T00:00:00",
          "2022-12-01T00:00:00",
          "2023-01-01T00:00:00",
          "2023-02-01T00:00:00",
          "2023-03-01T00:00:00",
          "2023-04-01T00:00:00",
          "2023-05-01T00:00:00",
          "2023-05-31T00:00:00",
          "2023-06-30T00:00:00",
          "2023-07-31T00:00:00",
          "2023-08-31T00:00:00",
          "2023-09-30T00:00:00",
          "2023-10-31T00:00:00",
          "2023-11-30T00:00:00",
          "2023-12-31T00:00:00",
          "2024-01-31T00:00:00",
          "2024-02-29T00:00:00",
          "2024-03-31T00:00:00",
          "2024-04-30T00:00:00"
         ],
         "y": [
          667555.2268592919,
          625765.4612849866,
          675494.3424459124,
          657621.182715542,
          666639.17770127,
          656409.5141473943,
          678365.2194222908,
          669361.2217753307,
          646543.380096487,
          663193.4597039685,
          655943.0669997016,
          670218.8154595665,
          674666.761558104,
          600447.7568472127,
          672728.0660995259,
          650705.116990145,
          663340.1984515181,
          655299.1164122835,
          674216.3975409047,
          668513.827558978,
          644040.5398188962,
          667122.5541315941,
          651802.0516095565,
          666046.7279839091,
          668281.2969169798,
          604865.8052300888,
          673915.5604367877,
          646168.9967144363,
          661573.5446208741,
          655931.9526953339,
          671442.9327651802,
          668685.1767447047,
          643118.5826870222,
          672550.0962188649,
          649349.7385997851,
          663151.5689317341,
          663091.2464564446,
          611287.2881817766,
          675552.0699307796,
          641864.3828910947,
          660514.4334305534,
          662050.9351503032,
          662497.5771979514,
          673417.9262650515,
          640919.6034588822,
          699759.3963922746,
          634121.3481205512,
          649343.9820954186,
          640780.7681518771,
          644092.0550447456,
          676819.9825731338,
          637717.0359113689,
          658858.174867668
         ]
        }
       ],
       "layout": {
        "autosize": true,
        "template": {
         "data": {
          "bar": [
           {
            "error_x": {
             "color": "#2a3f5f"
            },
            "error_y": {
             "color": "#2a3f5f"
            },
            "marker": {
             "line": {
              "color": "#E5ECF6",
              "width": 0.5
             },
             "pattern": {
              "fillmode": "overlay",
              "size": 10,
              "solidity": 0.2
             }
            },
            "type": "bar"
           }
          ],
          "barpolar": [
           {
            "marker": {
             "line": {
              "color": "#E5ECF6",
              "width": 0.5
             },
             "pattern": {
              "fillmode": "overlay",
              "size": 10,
              "solidity": 0.2
             }
            },
            "type": "barpolar"
           }
          ],
          "carpet": [
           {
            "aaxis": {
             "endlinecolor": "#2a3f5f",
             "gridcolor": "white",
             "linecolor": "white",
             "minorgridcolor": "white",
             "startlinecolor": "#2a3f5f"
            },
            "baxis": {
             "endlinecolor": "#2a3f5f",
             "gridcolor": "white",
             "linecolor": "white",
             "minorgridcolor": "white",
             "startlinecolor": "#2a3f5f"
            },
            "type": "carpet"
           }
          ],
          "choropleth": [
           {
            "colorbar": {
             "outlinewidth": 0,
             "ticks": ""
            },
            "type": "choropleth"
           }
          ],
          "contour": [
           {
            "colorbar": {
             "outlinewidth": 0,
             "ticks": ""
            },
            "colorscale": [
             [
              0,
              "#0d0887"
             ],
             [
              0.1111111111111111,
              "#46039f"
             ],
             [
              0.2222222222222222,
              "#7201a8"
             ],
             [
              0.3333333333333333,
              "#9c179e"
             ],
             [
              0.4444444444444444,
              "#bd3786"
             ],
             [
              0.5555555555555556,
              "#d8576b"
             ],
             [
              0.6666666666666666,
              "#ed7953"
             ],
             [
              0.7777777777777778,
              "#fb9f3a"
             ],
             [
              0.8888888888888888,
              "#fdca26"
             ],
             [
              1,
              "#f0f921"
             ]
            ],
            "type": "contour"
           }
          ],
          "contourcarpet": [
           {
            "colorbar": {
             "outlinewidth": 0,
             "ticks": ""
            },
            "type": "contourcarpet"
           }
          ],
          "heatmap": [
           {
            "colorbar": {
             "outlinewidth": 0,
             "ticks": ""
            },
            "colorscale": [
             [
              0,
              "#0d0887"
             ],
             [
              0.1111111111111111,
              "#46039f"
             ],
             [
              0.2222222222222222,
              "#7201a8"
             ],
             [
              0.3333333333333333,
              "#9c179e"
             ],
             [
              0.4444444444444444,
              "#bd3786"
             ],
             [
              0.5555555555555556,
              "#d8576b"
             ],
             [
              0.6666666666666666,
              "#ed7953"
             ],
             [
              0.7777777777777778,
              "#fb9f3a"
             ],
             [
              0.8888888888888888,
              "#fdca26"
             ],
             [
              1,
              "#f0f921"
             ]
            ],
            "type": "heatmap"
           }
          ],
          "heatmapgl": [
           {
            "colorbar": {
             "outlinewidth": 0,
             "ticks": ""
            },
            "colorscale": [
             [
              0,
              "#0d0887"
             ],
             [
              0.1111111111111111,
              "#46039f"
             ],
             [
              0.2222222222222222,
              "#7201a8"
             ],
             [
              0.3333333333333333,
              "#9c179e"
             ],
             [
              0.4444444444444444,
              "#bd3786"
             ],
             [
              0.5555555555555556,
              "#d8576b"
             ],
             [
              0.6666666666666666,
              "#ed7953"
             ],
             [
              0.7777777777777778,
              "#fb9f3a"
             ],
             [
              0.8888888888888888,
              "#fdca26"
             ],
             [
              1,
              "#f0f921"
             ]
            ],
            "type": "heatmapgl"
           }
          ],
          "histogram": [
           {
            "marker": {
             "pattern": {
              "fillmode": "overlay",
              "size": 10,
              "solidity": 0.2
             }
            },
            "type": "histogram"
           }
          ],
          "histogram2d": [
           {
            "colorbar": {
             "outlinewidth": 0,
             "ticks": ""
            },
            "colorscale": [
             [
              0,
              "#0d0887"
             ],
             [
              0.1111111111111111,
              "#46039f"
             ],
             [
              0.2222222222222222,
              "#7201a8"
             ],
             [
              0.3333333333333333,
              "#9c179e"
             ],
             [
              0.4444444444444444,
              "#bd3786"
             ],
             [
              0.5555555555555556,
              "#d8576b"
             ],
             [
              0.6666666666666666,
              "#ed7953"
             ],
             [
              0.7777777777777778,
              "#fb9f3a"
             ],
             [
              0.8888888888888888,
              "#fdca26"
             ],
             [
              1,
              "#f0f921"
             ]
            ],
            "type": "histogram2d"
           }
          ],
          "histogram2dcontour": [
           {
            "colorbar": {
             "outlinewidth": 0,
             "ticks": ""
            },
            "colorscale": [
             [
              0,
              "#0d0887"
             ],
             [
              0.1111111111111111,
              "#46039f"
             ],
             [
              0.2222222222222222,
              "#7201a8"
             ],
             [
              0.3333333333333333,
              "#9c179e"
             ],
             [
              0.4444444444444444,
              "#bd3786"
             ],
             [
              0.5555555555555556,
              "#d8576b"
             ],
             [
              0.6666666666666666,
              "#ed7953"
             ],
             [
              0.7777777777777778,
              "#fb9f3a"
             ],
             [
              0.8888888888888888,
              "#fdca26"
             ],
             [
              1,
              "#f0f921"
             ]
            ],
            "type": "histogram2dcontour"
           }
          ],
          "mesh3d": [
           {
            "colorbar": {
             "outlinewidth": 0,
             "ticks": ""
            },
            "type": "mesh3d"
           }
          ],
          "parcoords": [
           {
            "line": {
             "colorbar": {
              "outlinewidth": 0,
              "ticks": ""
             }
            },
            "type": "parcoords"
           }
          ],
          "pie": [
           {
            "automargin": true,
            "type": "pie"
           }
          ],
          "scatter": [
           {
            "fillpattern": {
             "fillmode": "overlay",
             "size": 10,
             "solidity": 0.2
            },
            "type": "scatter"
           }
          ],
          "scatter3d": [
           {
            "line": {
             "colorbar": {
              "outlinewidth": 0,
              "ticks": ""
             }
            },
            "marker": {
             "colorbar": {
              "outlinewidth": 0,
              "ticks": ""
             }
            },
            "type": "scatter3d"
           }
          ],
          "scattercarpet": [
           {
            "marker": {
             "colorbar": {
              "outlinewidth": 0,
              "ticks": ""
             }
            },
            "type": "scattercarpet"
           }
          ],
          "scattergeo": [
           {
            "marker": {
             "colorbar": {
              "outlinewidth": 0,
              "ticks": ""
             }
            },
            "type": "scattergeo"
           }
          ],
          "scattergl": [
           {
            "marker": {
             "colorbar": {
              "outlinewidth": 0,
              "ticks": ""
             }
            },
            "type": "scattergl"
           }
          ],
          "scattermapbox": [
           {
            "marker": {
             "colorbar": {
              "outlinewidth": 0,
              "ticks": ""
             }
            },
            "type": "scattermapbox"
           }
          ],
          "scatterpolar": [
           {
            "marker": {
             "colorbar": {
              "outlinewidth": 0,
              "ticks": ""
             }
            },
            "type": "scatterpolar"
           }
          ],
          "scatterpolargl": [
           {
            "marker": {
             "colorbar": {
              "outlinewidth": 0,
              "ticks": ""
             }
            },
            "type": "scatterpolargl"
           }
          ],
          "scatterternary": [
           {
            "marker": {
             "colorbar": {
              "outlinewidth": 0,
              "ticks": ""
             }
            },
            "type": "scatterternary"
           }
          ],
          "surface": [
           {
            "colorbar": {
             "outlinewidth": 0,
             "ticks": ""
            },
            "colorscale": [
             [
              0,
              "#0d0887"
             ],
             [
              0.1111111111111111,
              "#46039f"
             ],
             [
              0.2222222222222222,
              "#7201a8"
             ],
             [
              0.3333333333333333,
              "#9c179e"
             ],
             [
              0.4444444444444444,
              "#bd3786"
             ],
             [
              0.5555555555555556,
              "#d8576b"
             ],
             [
              0.6666666666666666,
              "#ed7953"
             ],
             [
              0.7777777777777778,
              "#fb9f3a"
             ],
             [
              0.8888888888888888,
              "#fdca26"
             ],
             [
              1,
              "#f0f921"
             ]
            ],
            "type": "surface"
           }
          ],
          "table": [
           {
            "cells": {
             "fill": {
              "color": "#EBF0F8"
             },
             "line": {
              "color": "white"
             }
            },
            "header": {
             "fill": {
              "color": "#C8D4E3"
             },
             "line": {
              "color": "white"
             }
            },
            "type": "table"
           }
          ]
         },
         "layout": {
          "annotationdefaults": {
           "arrowcolor": "#2a3f5f",
           "arrowhead": 0,
           "arrowwidth": 1
          },
          "autotypenumbers": "strict",
          "coloraxis": {
           "colorbar": {
            "outlinewidth": 0,
            "ticks": ""
           }
          },
          "colorscale": {
           "diverging": [
            [
             0,
             "#8e0152"
            ],
            [
             0.1,
             "#c51b7d"
            ],
            [
             0.2,
             "#de77ae"
            ],
            [
             0.3,
             "#f1b6da"
            ],
            [
             0.4,
             "#fde0ef"
            ],
            [
             0.5,
             "#f7f7f7"
            ],
            [
             0.6,
             "#e6f5d0"
            ],
            [
             0.7,
             "#b8e186"
            ],
            [
             0.8,
             "#7fbc41"
            ],
            [
             0.9,
             "#4d9221"
            ],
            [
             1,
             "#276419"
            ]
           ],
           "sequential": [
            [
             0,
             "#0d0887"
            ],
            [
             0.1111111111111111,
             "#46039f"
            ],
            [
             0.2222222222222222,
             "#7201a8"
            ],
            [
             0.3333333333333333,
             "#9c179e"
            ],
            [
             0.4444444444444444,
             "#bd3786"
            ],
            [
             0.5555555555555556,
             "#d8576b"
            ],
            [
             0.6666666666666666,
             "#ed7953"
            ],
            [
             0.7777777777777778,
             "#fb9f3a"
            ],
            [
             0.8888888888888888,
             "#fdca26"
            ],
            [
             1,
             "#f0f921"
            ]
           ],
           "sequentialminus": [
            [
             0,
             "#0d0887"
            ],
            [
             0.1111111111111111,
             "#46039f"
            ],
            [
             0.2222222222222222,
             "#7201a8"
            ],
            [
             0.3333333333333333,
             "#9c179e"
            ],
            [
             0.4444444444444444,
             "#bd3786"
            ],
            [
             0.5555555555555556,
             "#d8576b"
            ],
            [
             0.6666666666666666,
             "#ed7953"
            ],
            [
             0.7777777777777778,
             "#fb9f3a"
            ],
            [
             0.8888888888888888,
             "#fdca26"
            ],
            [
             1,
             "#f0f921"
            ]
           ]
          },
          "colorway": [
           "#636efa",
           "#EF553B",
           "#00cc96",
           "#ab63fa",
           "#FFA15A",
           "#19d3f3",
           "#FF6692",
           "#B6E880",
           "#FF97FF",
           "#FECB52"
          ],
          "font": {
           "color": "#2a3f5f"
          },
          "geo": {
           "bgcolor": "white",
           "lakecolor": "white",
           "landcolor": "#E5ECF6",
           "showlakes": true,
           "showland": true,
           "subunitcolor": "white"
          },
          "hoverlabel": {
           "align": "left"
          },
          "hovermode": "closest",
          "mapbox": {
           "style": "light"
          },
          "paper_bgcolor": "white",
          "plot_bgcolor": "#E5ECF6",
          "polar": {
           "angularaxis": {
            "gridcolor": "white",
            "linecolor": "white",
            "ticks": ""
           },
           "bgcolor": "#E5ECF6",
           "radialaxis": {
            "gridcolor": "white",
            "linecolor": "white",
            "ticks": ""
           }
          },
          "scene": {
           "xaxis": {
            "backgroundcolor": "#E5ECF6",
            "gridcolor": "white",
            "gridwidth": 2,
            "linecolor": "white",
            "showbackground": true,
            "ticks": "",
            "zerolinecolor": "white"
           },
           "yaxis": {
            "backgroundcolor": "#E5ECF6",
            "gridcolor": "white",
            "gridwidth": 2,
            "linecolor": "white",
            "showbackground": true,
            "ticks": "",
            "zerolinecolor": "white"
           },
           "zaxis": {
            "backgroundcolor": "#E5ECF6",
            "gridcolor": "white",
            "gridwidth": 2,
            "linecolor": "white",
            "showbackground": true,
            "ticks": "",
            "zerolinecolor": "white"
           }
          },
          "shapedefaults": {
           "line": {
            "color": "#2a3f5f"
           }
          },
          "ternary": {
           "aaxis": {
            "gridcolor": "white",
            "linecolor": "white",
            "ticks": ""
           },
           "baxis": {
            "gridcolor": "white",
            "linecolor": "white",
            "ticks": ""
           },
           "bgcolor": "#E5ECF6",
           "caxis": {
            "gridcolor": "white",
            "linecolor": "white",
            "ticks": ""
           }
          },
          "title": {
           "x": 0.05
          },
          "xaxis": {
           "automargin": true,
           "gridcolor": "white",
           "linecolor": "white",
           "ticks": "",
           "title": {
            "standoff": 15
           },
           "zerolinecolor": "white",
           "zerolinewidth": 2
          },
          "yaxis": {
           "automargin": true,
           "gridcolor": "white",
           "linecolor": "white",
           "ticks": "",
           "title": {
            "standoff": 15
           },
           "zerolinecolor": "white",
           "zerolinewidth": 2
          }
         }
        },
        "xaxis": {
         "autorange": true,
         "range": [
          "2020-01-01",
          "2024-05-01"
         ],
         "type": "date"
        },
        "yaxis": {
         "autorange": true,
         "range": [
          376060.5992373611,
          728685.814490139
         ],
         "type": "linear"
        }
       }
      },
      "image/png": "[encoded data removed]",
      "text/html": [
       "<div>                            <div id=\"41464ca7-2a20-4910-8521-4bfbc42c8c23\" class=\"plotly-graph-div\" style=\"height:525px; width:100%;\"></div>            <script type=\"text/javascript\">                require([\"plotly\"], function(Plotly) {                    window.PLOTLYENV=window.PLOTLYENV || {};                                    if (document.getElementById(\"41464ca7-2a20-4910-8521-4bfbc42c8c23\")) {                    Plotly.newPlot(                        \"41464ca7-2a20-4910-8521-4bfbc42c8c23\",                        [{\"mode\":\"lines\",\"name\":\"Train\",\"x\":[\"2020-01-01T00:00:00\",\"2020-02-01T00:00:00\",\"2020-03-01T00:00:00\",\"2020-04-01T00:00:00\",\"2020-05-01T00:00:00\",\"2020-06-01T00:00:00\",\"2020-07-01T00:00:00\",\"2020-08-01T00:00:00\",\"2020-09-01T00:00:00\",\"2020-10-01T00:00:00\",\"2020-11-01T00:00:00\",\"2020-12-01T00:00:00\",\"2021-01-01T00:00:00\",\"2021-02-01T00:00:00\",\"2021-03-01T00:00:00\",\"2021-04-01T00:00:00\",\"2021-05-01T00:00:00\",\"2021-06-01T00:00:00\",\"2021-07-01T00:00:00\",\"2021-08-01T00:00:00\",\"2021-09-01T00:00:00\",\"2021-10-01T00:00:00\",\"2021-11-01T00:00:00\",\"2021-12-01T00:00:00\",\"2022-01-01T00:00:00\",\"2022-02-01T00:00:00\",\"2022-03-01T00:00:00\",\"2022-04-01T00:00:00\",\"2022-05-01T00:00:00\",\"2022-06-01T00:00:00\",\"2022-07-01T00:00:00\",\"2022-08-01T00:00:00\",\"2022-09-01T00:00:00\",\"2022-10-01T00:00:00\",\"2022-11-01T00:00:00\",\"2022-12-01T00:00:00\",\"2023-01-01T00:00:00\",\"2023-02-01T00:00:00\",\"2023-03-01T00:00:00\",\"2023-04-01T00:00:00\",\"2023-05-01T00:00:00\"],\"y\":[678299.24,636182.26,679427.27,657152.14,666343.08,659466.28,681688.47,680971.92,657505.85,668685.86,663630.8,673956.68,681316.23,609217.04,675073.03,654323.51,674265.59,660237.64,682861.54,665098.34,645103.18,678851.15,658239.8,675500.29,671658.33,599521.59,679163.98,663020.65,665700.5,664884.73,676763.46,677691.9,648629.18,672314.7,652787.71,666699.12,664932.39,620010.67,686536.83,644784.83,668735.94],\"type\":\"scatter\"},{\"mode\":\"lines\",\"name\":\"Test\",\"x\":[\"2023-06-01T00:00:00\",\"2023-07-01T00:00:00\",\"2023-08-01T00:00:00\",\"2023-09-01T00:00:00\",\"2023-10-01T00:00:00\",\"2023-11-01T00:00:00\",\"2023-12-01T00:00:00\",\"2024-01-01T00:00:00\",\"2024-02-01T00:00:00\",\"2024-03-01T00:00:00\",\"2024-04-01T00:00:00\",\"2024-05-01T00:00:00\"],\"y\":[644854.11,686292.34,678686.36,661039.98,677284.75,662716.19,685203.18,678089.72,630481.23,669631.15,645977.02,393691.86],\"type\":\"scatter\"},{\"mode\":\"lines\",\"name\":\"Forecast\",\"x\":[\"2020-01-01T00:00:00\",\"2020-02-01T00:00:00\",\"2020-03-01T00:00:00\",\"2020-04-01T00:00:00\",\"2020-05-01T00:00:00\",\"2020-06-01T00:00:00\",\"2020-07-01T00:00:00\",\"2020-08-01T00:00:00\",\"2020-09-01T00:00:00\",\"2020-10-01T00:00:00\",\"2020-11-01T00:00:00\",\"2020-12-01T00:00:00\",\"2021-01-01T00:00:00\",\"2021-02-01T00:00:00\",\"2021-03-01T00:00:00\",\"2021-04-01T00:00:00\",\"2021-05-01T00:00:00\",\"2021-06-01T00:00:00\",\"2021-07-01T00:00:00\",\"2021-08-01T00:00:00\",\"2021-09-01T00:00:00\",\"2021-10-01T00:00:00\",\"2021-11-01T00:00:00\",\"2021-12-01T00:00:00\",\"2022-01-01T00:00:00\",\"2022-02-01T00:00:00\",\"2022-03-01T00:00:00\",\"2022-04-01T00:00:00\",\"2022-05-01T00:00:00\",\"2022-06-01T00:00:00\",\"2022-07-01T00:00:00\",\"2022-08-01T00:00:00\",\"2022-09-01T00:00:00\",\"2022-10-01T00:00:00\",\"2022-11-01T00:00:00\",\"2022-12-01T00:00:00\",\"2023-01-01T00:00:00\",\"2023-02-01T00:00:00\",\"2023-03-01T00:00:00\",\"2023-04-01T00:00:00\",\"2023-05-01T00:00:00\",\"2023-05-31T00:00:00\",\"2023-06-30T00:00:00\",\"2023-07-31T00:00:00\",\"2023-08-31T00:00:00\",\"2023-09-30T00:00:00\",\"2023-10-31T00:00:00\",\"2023-11-30T00:00:00\",\"2023-12-31T00:00:00\",\"2024-01-31T00:00:00\",\"2024-02-29T00:00:00\",\"2024-03-31T00:00:00\",\"2024-04-30T00:00:00\"],\"y\":[673570.7067218343,631208.1787897865,681364.82316209,663636.004320298,672492.0485233231,661985.4546825092,683930.9631143634,675358.2119485658,652587.5792724941,668932.515595514,661989.8773357194,675850.4251165998,680175.8760267366,606034.0525591043,678432.0912032326,656312.8771177953,669114.0390004729,660951.7093680758,679799.4342315778,673883.9011653394,649748.5717994662,672718.0659562757,657736.0202446847,671588.4271951779,673749.0232704335,610850.8141026157,679339.7194605708,651649.6332978656,667292.6872252641,661624.5061303542,677541.4623835416,674488.6777161211,648894.6136200384,678210.6101159736,654960.6436554706,668755.5362197423,668749.6628789268,616930.9234714604,681049.6258276427,647692.143924412,666113.9585179245,667911.5586196652,668327.4480300982,679063.0237206015,646503.6967104381,705337.1906807973,639954.4256871277,655131.5117881664,646647.7974504202,649944.8778048113,682604.9988534749,643670.3299808699,664979.487604763],\"type\":\"scatter\"},{\"line\":{\"color\":\"rgba(0,0,255,0.2)\"},\"mode\":\"lines\",\"name\":\"Upper Bound\",\"x\":[\"2020-01-01T00:00:00\",\"2020-02-01T00:00:00\",\"2020-03-01T00:00:00\",\"2020-04-01T00:00:00\",\"2020-05-01T00:00:00\",\"2020-06-01T00:00:00\",\"2020-07-01T00:00:00\",\"2020-08-01T00:00:00\",\"2020-09-01T00:00:00\",\"2020-10-01T00:00:00\",\"2020-11-01T00:00:00\",\"2020-12-01T00:00:00\",\"2021-01-01T00:00:00\",\"2021-02-01T00:00:00\",\"2021-03-01T00:00:00\",\"2021-04-01T00:00:00\",\"2021-05-01T00:00:00\",\"2021-06-01T00:00:00\",\"2021-07-01T00:00:00\",\"2021-08-01T00:00:00\",\"2021-09-01T00:00:00\",\"2021-10-01T00:00:00\",\"2021-11-01T00:00:00\",\"2021-12-01T00:00:00\",\"2022-01-01T00:00:00\",\"2022-02-01T00:00:00\",\"2022-03-01T00:00:00\",\"2022-04-01T00:00:00\",\"2022-05-01T00:00:00\",\"2022-06-01T00:00:00\",\"2022-07-01T00:00:00\",\"2022-08-01T00:00:00\",\"2022-09-01T00:00:00\",\"2022-10-01T00:00:00\",\"2022-11-01T00:00:00\",\"2022-12-01T00:00:00\",\"2023-01-01T00:00:00\",\"2023-02-01T00:00:00\",\"2023-03-01T00:00:00\",\"2023-04-01T00:00:00\",\"2023-05-01T00:00:00\",\"2023-05-31T00:00:00\",\"2023-06-30T00:00:00\",\"2023-07-31T00:00:00\",\"2023-08-31T00:00:00\",\"2023-09-30T00:00:00\",\"2023-10-31T00:00:00\",\"2023-11-30T00:00:00\",\"2023-12-31T00:00:00\",\"2024-01-31T00:00:00\",\"2024-02-29T00:00:00\",\"2024-03-31T00:00:00\",\"2024-04-30T00:00:00\"],\"y\":[679054.1132255123,637235.0483684613,686921.8918534275,669704.4385922111,678703.2666828298,667887.4141261649,689783.6680396197,680958.0084708487,658666.0574739192,674798.8024647975,667488.0773890028,681278.4649393001,686051.9666531362,612041.7483247843,683920.9588160664,662616.4934526904,674823.1718046059,666811.2958044615,685056.473504728,679547.8694836367,655644.1664767705,678626.2551757059,663118.4060992586,677103.2917889322,679745.8430353565,616321.9730653929,685239.3020313171,657237.3598156726,673121.1434995163,667733.6102589065,682726.8725380293,680046.6924365276,654807.2187956087,683616.5299744278,660575.7322276762,674730.4546379938,674807.4188656041,622648.7505154078,687089.4483939084,653324.9989197486,671684.9798565436,673285.6091120562,674430.6067138604,685151.2616414299,652438.6359984215,711054.5537275001,645412.1358626666,660977.0451251472,652412.4448042389,655943.9027551481,688551.8433334881,649631.1797902866,671260.548062016],\"type\":\"scatter\"},{\"line\":{\"color\":\"rgba(0,0,255,0.2)\"},\"mode\":\"lines\",\"name\":\"Lower Bound\",\"x\":[\"2020-01-01T00:00:00\",\"2020-02-01T00:00:00\",\"2020-03-01T00:00:00\",\"2020-04-01T00:00:00\",\"2020-05-01T00:00:00\",\"2020-06-01T00:00:00\",\"2020-07-01T00:00:00\",\"2020-08-01T00:00:00\",\"2020-09-01T00:00:00\",\"2020-10-01T00:00:00\",\"2020-11-01T00:00:00\",\"2020-12-01T00:00:00\",\"2021-01-01T00:00:00\",\"2021-02-01T00:00:00\",\"2021-03-01T00:00:00\",\"2021-04-01T00:00:00\",\"2021-05-01T00:00:00\",\"2021-06-01T00:00:00\",\"2021-07-01T00:00:00\",\"2021-08-01T00:00:00\",\"2021-09-01T00:00:00\",\"2021-10-01T00:00:00\",\"2021-11-01T00:00:00\",\"2021-12-01T00:00:00\",\"2022-01-01T00:00:00\",\"2022-02-01T00:00:00\",\"2022-03-01T00:00:00\",\"2022-04-01T00:00:00\",\"2022-05-01T00:00:00\",\"2022-06-01T00:00:00\",\"2022-07-01T00:00:00\",\"2022-08-01T00:00:00\",\"2022-09-01T00:00:00\",\"2022-10-01T00:00:00\",\"2022-11-01T00:00:00\",\"2022-12-01T00:00:00\",\"2023-01-01T00:00:00\",\"2023-02-01T00:00:00\",\"2023-03-01T00:00:00\",\"2023-04-01T00:00:00\",\"2023-05-01T00:00:00\",\"2023-05-31T00:00:00\",\"2023-06-30T00:00:00\",\"2023-07-31T00:00:00\",\"2023-08-31T00:00:00\",\"2023-09-30T00:00:00\",\"2023-10-31T00:00:00\",\"2023-11-30T00:00:00\",\"2023-12-31T00:00:00\",\"2024-01-31T00:00:00\",\"2024-02-29T00:00:00\",\"2024-03-31T00:00:00\",\"2024-04-30T00:00:00\"],\"y\":[667555.2268592919,625765.4612849866,675494.3424459124,657621.182715542,666639.17770127,656409.5141473943,678365.2194222908,669361.2217753307,646543.380096487,663193.4597039685,655943.0669997016,670218.8154595665,674666.761558104,600447.7568472127,672728.0660995259,650705.116990145,663340.1984515181,655299.1164122835,674216.3975409047,668513.827558978,644040.5398188962,667122.5541315941,651802.0516095565,666046.7279839091,668281.2969169798,604865.8052300888,673915.5604367877,646168.9967144363,661573.5446208741,655931.9526953339,671442.9327651802,668685.1767447047,643118.5826870222,672550.0962188649,649349.7385997851,663151.5689317341,663091.2464564446,611287.2881817766,675552.0699307796,641864.3828910947,660514.4334305534,662050.9351503032,662497.5771979514,673417.9262650515,640919.6034588822,699759.3963922746,634121.3481205512,649343.9820954186,640780.7681518771,644092.0550447456,676819.9825731338,637717.0359113689,658858.174867668],\"type\":\"scatter\"}],                        {\"template\":{\"data\":{\"histogram2dcontour\":[{\"type\":\"histogram2dcontour\",\"colorbar\":{\"outlinewidth\":0,\"ticks\":\"\"},\"colorscale\":[[0.0,\"#0d0887\"],[0.1111111111111111,\"#46039f\"],[0.2222222222222222,\"#7201a8\"],[0.3333333333333333,\"#9c179e\"],[0.4444444444444444,\"#bd3786\"],[0.5555555555555556,\"#d8576b\"],[0.6666666666666666,\"#ed7953\"],[0.7777777777777778,\"#fb9f3a\"],[0.8888888888888888,\"#fdca26\"],[1.0,\"#f0f921\"]]}],\"choropleth\":[{\"type\":\"choropleth\",\"colorbar\":{\"outlinewidth\":0,\"ticks\":\"\"}}],\"histogram2d\":[{\"type\":\"histogram2d\",\"colorbar\":{\"outlinewidth\":0,\"ticks\":\"\"},\"colorscale\":[[0.0,\"#0d0887\"],[0.1111111111111111,\"#46039f\"],[0.2222222222222222,\"#7201a8\"],[0.3333333333333333,\"#9c179e\"],[0.4444444444444444,\"#bd3786\"],[0.5555555555555556,\"#d8576b\"],[0.6666666666666666,\"#ed7953\"],[0.7777777777777778,\"#fb9f3a\"],[0.8888888888888888,\"#fdca26\"],[1.0,\"#f0f921\"]]}],\"heatmap\":[{\"type\":\"heatmap\",\"colorbar\":{\"outlinewidth\":0,\"ticks\":\"\"},\"colorscale\":[[0.0,\"#0d0887\"],[0.1111111111111111,\"#46039f\"],[0.2222222222222222,\"#7201a8\"],[0.3333333333333333,\"#9c179e\"],[0.4444444444444444,\"#bd3786\"],[0.5555555555555556,\"#d8576b\"],[0.6666666666666666,\"#ed7953\"],[0.7777777777777778,\"#fb9f3a\"],[0.8888888888888888,\"#fdca26\"],[1.0,\"#f0f921\"]]}],\"heatmapgl\":[{\"type\":\"heatmapgl\",\"colorbar\":{\"outlinewidth\":0,\"ticks\":\"\"},\"colorscale\":[[0.0,\"#0d0887\"],[0.1111111111111111,\"#46039f\"],[0.2222222222222222,\"#7201a8\"],[0.3333333333333333,\"#9c179e\"],[0.4444444444444444,\"#bd3786\"],[0.5555555555555556,\"#d8576b\"],[0.6666666666666666,\"#ed7953\"],[0.7777777777777778,\"#fb9f3a\"],[0.8888888888888888,\"#fdca26\"],[1.0,\"#f0f921\"]]}],\"contourcarpet\":[{\"type\":\"contourcarpet\",\"colorbar\":{\"outlinewidth\":0,\"ticks\":\"\"}}],\"contour\":[{\"type\":\"contour\",\"colorbar\":{\"outlinewidth\":0,\"ticks\":\"\"},\"colorscale\":[[0.0,\"#0d0887\"],[0.1111111111111111,\"#46039f\"],[0.2222222222222222,\"#7201a8\"],[0.3333333333333333,\"#9c179e\"],[0.4444444444444444,\"#bd3786\"],[0.5555555555555556,\"#d8576b\"],[0.6666666666666666,\"#ed7953\"],[0.7777777777777778,\"#fb9f3a\"],[0.8888888888888888,\"#fdca26\"],[1.0,\"#f0f921\"]]}],\"surface\":[{\"type\":\"surface\",\"colorbar\":{\"outlinewidth\":0,\"ticks\":\"\"},\"colorscale\":[[0.0,\"#0d0887\"],[0.1111111111111111,\"#46039f\"],[0.2222222222222222,\"#7201a8\"],[0.3333333333333333,\"#9c179e\"],[0.4444444444444444,\"#bd3786\"],[0.5555555555555556,\"#d8576b\"],[0.6666666666666666,\"#ed7953\"],[0.7777777777777778,\"#fb9f3a\"],[0.8888888888888888,\"#fdca26\"],[1.0,\"#f0f921\"]]}],\"mesh3d\":[{\"type\":\"mesh3d\",\"colorbar\":{\"outlinewidth\":0,\"ticks\":\"\"}}],\"scatter\":[{\"fillpattern\":{\"fillmode\":\"overlay\",\"size\":10,\"solidity\":0.2},\"type\":\"scatter\"}],\"parcoords\":[{\"type\":\"parcoords\",\"line\":{\"colorbar\":{\"outlinewidth\":0,\"ticks\":\"\"}}}],\"scatterpolargl\":[{\"type\":\"scatterpolargl\",\"marker\":{\"colorbar\":{\"outlinewidth\":0,\"ticks\":\"\"}}}],\"bar\":[{\"error_x\":{\"color\":\"#2a3f5f\"},\"error_y\":{\"color\":\"#2a3f5f\"},\"marker\":{\"line\":{\"color\":\"#E5ECF6\",\"width\":0.5},\"pattern\":{\"fillmode\":\"overlay\",\"size\":10,\"solidity\":0.2}},\"type\":\"bar\"}],\"scattergeo\":[{\"type\":\"scattergeo\",\"marker\":{\"colorbar\":{\"outlinewidth\":0,\"ticks\":\"\"}}}],\"scatterpolar\":[{\"type\":\"scatterpolar\",\"marker\":{\"colorbar\":{\"outlinewidth\":0,\"ticks\":\"\"}}}],\"histogram\":[{\"marker\":{\"pattern\":{\"fillmode\":\"overlay\",\"size\":10,\"solidity\":0.2}},\"type\":\"histogram\"}],\"scattergl\":[{\"type\":\"scattergl\",\"marker\":{\"colorbar\":{\"outlinewidth\":0,\"ticks\":\"\"}}}],\"scatter3d\":[{\"type\":\"scatter3d\",\"line\":{\"colorbar\":{\"outlinewidth\":0,\"ticks\":\"\"}},\"marker\":{\"colorbar\":{\"outlinewidth\":0,\"ticks\":\"\"}}}],\"scattermapbox\":[{\"type\":\"scattermapbox\",\"marker\":{\"colorbar\":{\"outlinewidth\":0,\"ticks\":\"\"}}}],\"scatterternary\":[{\"type\":\"scatterternary\",\"marker\":{\"colorbar\":{\"outlinewidth\":0,\"ticks\":\"\"}}}],\"scattercarpet\":[{\"type\":\"scattercarpet\",\"marker\":{\"colorbar\":{\"outlinewidth\":0,\"ticks\":\"\"}}}],\"carpet\":[{\"aaxis\":{\"endlinecolor\":\"#2a3f5f\",\"gridcolor\":\"white\",\"linecolor\":\"white\",\"minorgridcolor\":\"white\",\"startlinecolor\":\"#2a3f5f\"},\"baxis\":{\"endlinecolor\":\"#2a3f5f\",\"gridcolor\":\"white\",\"linecolor\":\"white\",\"minorgridcolor\":\"white\",\"startlinecolor\":\"#2a3f5f\"},\"type\":\"carpet\"}],\"table\":[{\"cells\":{\"fill\":{\"color\":\"#EBF0F8\"},\"line\":{\"color\":\"white\"}},\"header\":{\"fill\":{\"color\":\"#C8D4E3\"},\"line\":{\"color\":\"white\"}},\"type\":\"table\"}],\"barpolar\":[{\"marker\":{\"line\":{\"color\":\"#E5ECF6\",\"width\":0.5},\"pattern\":{\"fillmode\":\"overlay\",\"size\":10,\"solidity\":0.2}},\"type\":\"barpolar\"}],\"pie\":[{\"automargin\":true,\"type\":\"pie\"}]},\"layout\":{\"autotypenumbers\":\"strict\",\"colorway\":[\"#636efa\",\"#EF553B\",\"#00cc96\",\"#ab63fa\",\"#FFA15A\",\"#19d3f3\",\"#FF6692\",\"#B6E880\",\"#FF97FF\",\"#FECB52\"],\"font\":{\"color\":\"#2a3f5f\"},\"hovermode\":\"closest\",\"hoverlabel\":{\"align\":\"left\"},\"paper_bgcolor\":\"white\",\"plot_bgcolor\":\"#E5ECF6\",\"polar\":{\"bgcolor\":\"#E5ECF6\",\"angularaxis\":{\"gridcolor\":\"white\",\"linecolor\":\"white\",\"ticks\":\"\"},\"radialaxis\":{\"gridcolor\":\"white\",\"linecolor\":\"white\",\"ticks\":\"\"}},\"ternary\":{\"bgcolor\":\"#E5ECF6\",\"aaxis\":{\"gridcolor\":\"white\",\"linecolor\":\"white\",\"ticks\":\"\"},\"baxis\":{\"gridcolor\":\"white\",\"linecolor\":\"white\",\"ticks\":\"\"},\"caxis\":{\"gridcolor\":\"white\",\"linecolor\":\"white\",\"ticks\":\"\"}},\"coloraxis\":{\"colorbar\":{\"outlinewidth\":0,\"ticks\":\"\"}},\"colorscale\":{\"sequential\":[[0.0,\"#0d0887\"],[0.1111111111111111,\"#46039f\"],[0.2222222222222222,\"#7201a8\"],[0.3333333333333333,\"#9c179e\"],[0.4444444444444444,\"#bd3786\"],[0.5555555555555556,\"#d8576b\"],[0.6666666666666666,\"#ed7953\"],[0.7777777777777778,\"#fb9f3a\"],[0.8888888888888888,\"#fdca26\"],[1.0,\"#f0f921\"]],\"sequentialminus\":[[0.0,\"#0d0887\"],[0.1111111111111111,\"#46039f\"],[0.2222222222222222,\"#7201a8\"],[0.3333333333333333,\"#9c179e\"],[0.4444444444444444,\"#bd3786\"],[0.5555555555555556,\"#d8576b\"],[0.6666666666666666,\"#ed7953\"],[0.7777777777777778,\"#fb9f3a\"],[0.8888888888888888,\"#fdca26\"],[1.0,\"#f0f921\"]],\"diverging\":[[0,\"#8e0152\"],[0.1,\"#c51b7d\"],[0.2,\"#de77ae\"],[0.3,\"#f1b6da\"],[0.4,\"#fde0ef\"],[0.5,\"#f7f7f7\"],[0.6,\"#e6f5d0\"],[0.7,\"#b8e186\"],[0.8,\"#7fbc41\"],[0.9,\"#4d9221\"],[1,\"#276419\"]]},\"xaxis\":{\"gridcolor\":\"white\",\"linecolor\":\"white\",\"ticks\":\"\",\"title\":{\"standoff\":15},\"zerolinecolor\":\"white\",\"automargin\":true,\"zerolinewidth\":2},\"yaxis\":{\"gridcolor\":\"white\",\"linecolor\":\"white\",\"ticks\":\"\",\"title\":{\"standoff\":15},\"zerolinecolor\":\"white\",\"automargin\":true,\"zerolinewidth\":2},\"scene\":{\"xaxis\":{\"backgroundcolor\":\"#E5ECF6\",\"gridcolor\":\"white\",\"linecolor\":\"white\",\"showbackground\":true,\"ticks\":\"\",\"zerolinecolor\":\"white\",\"gridwidth\":2},\"yaxis\":{\"backgroundcolor\":\"#E5ECF6\",\"gridcolor\":\"white\",\"linecolor\":\"white\",\"showbackground\":true,\"ticks\":\"\",\"zerolinecolor\":\"white\",\"gridwidth\":2},\"zaxis\":{\"backgroundcolor\":\"#E5ECF6\",\"gridcolor\":\"white\",\"linecolor\":\"white\",\"showbackground\":true,\"ticks\":\"\",\"zerolinecolor\":\"white\",\"gridwidth\":2}},\"shapedefaults\":{\"line\":{\"color\":\"#2a3f5f\"}},\"annotationdefaults\":{\"arrowcolor\":\"#2a3f5f\",\"arrowhead\":0,\"arrowwidth\":1},\"geo\":{\"bgcolor\":\"white\",\"landcolor\":\"#E5ECF6\",\"subunitcolor\":\"white\",\"showland\":true,\"showlakes\":true,\"lakecolor\":\"white\"},\"title\":{\"x\":0.05},\"mapbox\":{\"style\":\"light\"}}}},                        {\"responsive\": true}                    ).then(function(){\n",
       "                            \n",
       "var gd = document.getElementById('41464ca7-2a20-4910-8521-4bfbc42c8c23');\n",
       "var x = new MutationObserver(function (mutations, observer) {{\n",
       "        var display = window.getComputedStyle(gd).display;\n",
       "        if (!display || display === 'none') {{\n",
       "            console.log([gd, 'removed!']);\n",
       "            Plotly.purge(gd);\n",
       "            observer.disconnect();\n",
       "        }}\n",
       "}});\n",
       "\n",
       "// Listen for the removal of the full notebook cells\n",
       "var notebookContainer = gd.closest('#notebook-container');\n",
       "if (notebookContainer) {{\n",
       "    x.observe(notebookContainer, {childList: true});\n",
       "}}\n",
       "\n",
       "// Listen for the clearing of the current output cell\n",
       "var outputEl = gd.closest('.output');\n",
       "if (outputEl) {{\n",
       "    x.observe(outputEl, {childList: true});\n",
       "}}\n",
       "\n",
       "                        })                };                });            </script>        </div>"
      ]
     },
     "metadata": {},
     "output_type": "display_data"
    }
   ],
   "source": [
    "# Add the confidence intervals to the plot\n",
    "fig.add_trace(go.Scatter(x=forecast['ds'], y=forecast['yhat_upper'], mode='lines', name='Upper Bound', line=dict(color='rgba(0,0,255,0.2)')))\n",
    "fig.add_trace(go.Scatter(x=forecast['ds'], y=forecast['yhat_lower'], mode='lines', name='Lower Bound', line=dict(color='rgba(0,0,255,0.2)')))"
   ]
  },
  {
   "cell_type": "code",
   "execution_count": 447,
   "id": "3e63e593-e0be-462a-81e5-0aa3172d24d4",
   "metadata": {},
   "outputs": [
    {
     "data": {
      "application/vnd.plotly.v1+json": {
       "config": {
        "plotlyServerURL": "https://plot.ly"
       },
       "data": [
        {
         "mode": "lines",
         "name": "Train",
         "type": "scatter",
         "x": [
          "2020-01-01T00:00:00",
          "2020-02-01T00:00:00",
          "2020-03-01T00:00:00",
          "2020-04-01T00:00:00",
          "2020-05-01T00:00:00",
          "2020-06-01T00:00:00",
          "2020-07-01T00:00:00",
          "2020-08-01T00:00:00",
          "2020-09-01T00:00:00",
          "2020-10-01T00:00:00",
          "2020-11-01T00:00:00",
          "2020-12-01T00:00:00",
          "2021-01-01T00:00:00",
          "2021-02-01T00:00:00",
          "2021-03-01T00:00:00",
          "2021-04-01T00:00:00",
          "2021-05-01T00:00:00",
          "2021-06-01T00:00:00",
          "2021-07-01T00:00:00",
          "2021-08-01T00:00:00",
          "2021-09-01T00:00:00",
          "2021-10-01T00:00:00",
          "2021-11-01T00:00:00",
          "2021-12-01T00:00:00",
          "2022-01-01T00:00:00",
          "2022-02-01T00:00:00",
          "2022-03-01T00:00:00",
          "2022-04-01T00:00:00",
          "2022-05-01T00:00:00",
          "2022-06-01T00:00:00",
          "2022-07-01T00:00:00",
          "2022-08-01T00:00:00",
          "2022-09-01T00:00:00",
          "2022-10-01T00:00:00",
          "2022-11-01T00:00:00",
          "2022-12-01T00:00:00",
          "2023-01-01T00:00:00",
          "2023-02-01T00:00:00",
          "2023-03-01T00:00:00",
          "2023-04-01T00:00:00",
          "2023-05-01T00:00:00"
         ],
         "y": [
          678299.24,
          636182.26,
          679427.27,
          657152.14,
          666343.08,
          659466.28,
          681688.47,
          680971.92,
          657505.85,
          668685.86,
          663630.8,
          673956.68,
          681316.23,
          609217.04,
          675073.03,
          654323.51,
          674265.59,
          660237.64,
          682861.54,
          665098.34,
          645103.18,
          678851.15,
          658239.8,
          675500.29,
          671658.33,
          599521.59,
          679163.98,
          663020.65,
          665700.5,
          664884.73,
          676763.46,
          677691.9,
          648629.18,
          672314.7,
          652787.71,
          666699.12,
          664932.39,
          620010.67,
          686536.83,
          644784.83,
          668735.94
         ]
        },
        {
         "mode": "lines",
         "name": "Test",
         "type": "scatter",
         "x": [
          "2023-06-01T00:00:00",
          "2023-07-01T00:00:00",
          "2023-08-01T00:00:00",
          "2023-09-01T00:00:00",
          "2023-10-01T00:00:00",
          "2023-11-01T00:00:00",
          "2023-12-01T00:00:00",
          "2024-01-01T00:00:00",
          "2024-02-01T00:00:00",
          "2024-03-01T00:00:00",
          "2024-04-01T00:00:00",
          "2024-05-01T00:00:00"
         ],
         "y": [
          644854.11,
          686292.34,
          678686.36,
          661039.98,
          677284.75,
          662716.19,
          685203.18,
          678089.72,
          630481.23,
          669631.15,
          645977.02,
          393691.86
         ]
        },
        {
         "mode": "lines",
         "name": "Forecast",
         "type": "scatter",
         "x": [
          "2020-01-01T00:00:00",
          "2020-02-01T00:00:00",
          "2020-03-01T00:00:00",
          "2020-04-01T00:00:00",
          "2020-05-01T00:00:00",
          "2020-06-01T00:00:00",
          "2020-07-01T00:00:00",
          "2020-08-01T00:00:00",
          "2020-09-01T00:00:00",
          "2020-10-01T00:00:00",
          "2020-11-01T00:00:00",
          "2020-12-01T00:00:00",
          "2021-01-01T00:00:00",
          "2021-02-01T00:00:00",
          "2021-03-01T00:00:00",
          "2021-04-01T00:00:00",
          "2021-05-01T00:00:00",
          "2021-06-01T00:00:00",
          "2021-07-01T00:00:00",
          "2021-08-01T00:00:00",
          "2021-09-01T00:00:00",
          "2021-10-01T00:00:00",
          "2021-11-01T00:00:00",
          "2021-12-01T00:00:00",
          "2022-01-01T00:00:00",
          "2022-02-01T00:00:00",
          "2022-03-01T00:00:00",
          "2022-04-01T00:00:00",
          "2022-05-01T00:00:00",
          "2022-06-01T00:00:00",
          "2022-07-01T00:00:00",
          "2022-08-01T00:00:00",
          "2022-09-01T00:00:00",
          "2022-10-01T00:00:00",
          "2022-11-01T00:00:00",
          "2022-12-01T00:00:00",
          "2023-01-01T00:00:00",
          "2023-02-01T00:00:00",
          "2023-03-01T00:00:00",
          "2023-04-01T00:00:00",
          "2023-05-01T00:00:00",
          "2023-05-31T00:00:00",
          "2023-06-30T00:00:00",
          "2023-07-31T00:00:00",
          "2023-08-31T00:00:00",
          "2023-09-30T00:00:00",
          "2023-10-31T00:00:00",
          "2023-11-30T00:00:00",
          "2023-12-31T00:00:00",
          "2024-01-31T00:00:00",
          "2024-02-29T00:00:00",
          "2024-03-31T00:00:00",
          "2024-04-30T00:00:00"
         ],
         "y": [
          673570.7067218343,
          631208.1787897865,
          681364.82316209,
          663636.004320298,
          672492.0485233231,
          661985.4546825092,
          683930.9631143634,
          675358.2119485658,
          652587.5792724941,
          668932.515595514,
          661989.8773357194,
          675850.4251165998,
          680175.8760267366,
          606034.0525591043,
          678432.0912032326,
          656312.8771177953,
          669114.0390004729,
          660951.7093680758,
          679799.4342315778,
          673883.9011653394,
          649748.5717994662,
          672718.0659562757,
          657736.0202446847,
          671588.4271951779,
          673749.0232704335,
          610850.8141026157,
          679339.7194605708,
          651649.6332978656,
          667292.6872252641,
          661624.5061303542,
          677541.4623835416,
          674488.6777161211,
          648894.6136200384,
          678210.6101159736,
          654960.6436554706,
          668755.5362197423,
          668749.6628789268,
          616930.9234714604,
          681049.6258276427,
          647692.143924412,
          666113.9585179245,
          667911.5586196652,
          668327.4480300982,
          679063.0237206015,
          646503.6967104381,
          705337.1906807973,
          639954.4256871277,
          655131.5117881664,
          646647.7974504202,
          649944.8778048113,
          682604.9988534749,
          643670.3299808699,
          664979.487604763
         ]
        },
        {
         "line": {
          "color": "rgba(0,0,255,0.2)"
         },
         "mode": "lines",
         "name": "Upper Bound",
         "type": "scatter",
         "x": [
          "2020-01-01T00:00:00",
          "2020-02-01T00:00:00",
          "2020-03-01T00:00:00",
          "2020-04-01T00:00:00",
          "2020-05-01T00:00:00",
          "2020-06-01T00:00:00",
          "2020-07-01T00:00:00",
          "2020-08-01T00:00:00",
          "2020-09-01T00:00:00",
          "2020-10-01T00:00:00",
          "2020-11-01T00:00:00",
          "2020-12-01T00:00:00",
          "2021-01-01T00:00:00",
          "2021-02-01T00:00:00",
          "2021-03-01T00:00:00",
          "2021-04-01T00:00:00",
          "2021-05-01T00:00:00",
          "2021-06-01T00:00:00",
          "2021-07-01T00:00:00",
          "2021-08-01T00:00:00",
          "2021-09-01T00:00:00",
          "2021-10-01T00:00:00",
          "2021-11-01T00:00:00",
          "2021-12-01T00:00:00",
          "2022-01-01T00:00:00",
          "2022-02-01T00:00:00",
          "2022-03-01T00:00:00",
          "2022-04-01T00:00:00",
          "2022-05-01T00:00:00",
          "2022-06-01T00:00:00",
          "2022-07-01T00:00:00",
          "2022-08-01T00:00:00",
          "2022-09-01T00:00:00",
          "2022-10-01T00:00:00",
          "2022-11-01T00:00:00",
          "2022-12-01T00:00:00",
          "2023-01-01T00:00:00",
          "2023-02-01T00:00:00",
          "2023-03-01T00:00:00",
          "2023-04-01T00:00:00",
          "2023-05-01T00:00:00",
          "2023-05-31T00:00:00",
          "2023-06-30T00:00:00",
          "2023-07-31T00:00:00",
          "2023-08-31T00:00:00",
          "2023-09-30T00:00:00",
          "2023-10-31T00:00:00",
          "2023-11-30T00:00:00",
          "2023-12-31T00:00:00",
          "2024-01-31T00:00:00",
          "2024-02-29T00:00:00",
          "2024-03-31T00:00:00",
          "2024-04-30T00:00:00"
         ],
         "y": [
          679054.1132255123,
          637235.0483684613,
          686921.8918534275,
          669704.4385922111,
          678703.2666828298,
          667887.4141261649,
          689783.6680396197,
          680958.0084708487,
          658666.0574739192,
          674798.8024647975,
          667488.0773890028,
          681278.4649393001,
          686051.9666531362,
          612041.7483247843,
          683920.9588160664,
          662616.4934526904,
          674823.1718046059,
          666811.2958044615,
          685056.473504728,
          679547.8694836367,
          655644.1664767705,
          678626.2551757059,
          663118.4060992586,
          677103.2917889322,
          679745.8430353565,
          616321.9730653929,
          685239.3020313171,
          657237.3598156726,
          673121.1434995163,
          667733.6102589065,
          682726.8725380293,
          680046.6924365276,
          654807.2187956087,
          683616.5299744278,
          660575.7322276762,
          674730.4546379938,
          674807.4188656041,
          622648.7505154078,
          687089.4483939084,
          653324.9989197486,
          671684.9798565436,
          673285.6091120562,
          674430.6067138604,
          685151.2616414299,
          652438.6359984215,
          711054.5537275001,
          645412.1358626666,
          660977.0451251472,
          652412.4448042389,
          655943.9027551481,
          688551.8433334881,
          649631.1797902866,
          671260.548062016
         ]
        },
        {
         "line": {
          "color": "rgba(0,0,255,0.2)"
         },
         "mode": "lines",
         "name": "Lower Bound",
         "type": "scatter",
         "x": [
          "2020-01-01T00:00:00",
          "2020-02-01T00:00:00",
          "2020-03-01T00:00:00",
          "2020-04-01T00:00:00",
          "2020-05-01T00:00:00",
          "2020-06-01T00:00:00",
          "2020-07-01T00:00:00",
          "2020-08-01T00:00:00",
          "2020-09-01T00:00:00",
          "2020-10-01T00:00:00",
          "2020-11-01T00:00:00",
          "2020-12-01T00:00:00",
          "2021-01-01T00:00:00",
          "2021-02-01T00:00:00",
          "2021-03-01T00:00:00",
          "2021-04-01T00:00:00",
          "2021-05-01T00:00:00",
          "2021-06-01T00:00:00",
          "2021-07-01T00:00:00",
          "2021-08-01T00:00:00",
          "2021-09-01T00:00:00",
          "2021-10-01T00:00:00",
          "2021-11-01T00:00:00",
          "2021-12-01T00:00:00",
          "2022-01-01T00:00:00",
          "2022-02-01T00:00:00",
          "2022-03-01T00:00:00",
          "2022-04-01T00:00:00",
          "2022-05-01T00:00:00",
          "2022-06-01T00:00:00",
          "2022-07-01T00:00:00",
          "2022-08-01T00:00:00",
          "2022-09-01T00:00:00",
          "2022-10-01T00:00:00",
          "2022-11-01T00:00:00",
          "2022-12-01T00:00:00",
          "2023-01-01T00:00:00",
          "2023-02-01T00:00:00",
          "2023-03-01T00:00:00",
          "2023-04-01T00:00:00",
          "2023-05-01T00:00:00",
          "2023-05-31T00:00:00",
          "2023-06-30T00:00:00",
          "2023-07-31T00:00:00",
          "2023-08-31T00:00:00",
          "2023-09-30T00:00:00",
          "2023-10-31T00:00:00",
          "2023-11-30T00:00:00",
          "2023-12-31T00:00:00",
          "2024-01-31T00:00:00",
          "2024-02-29T00:00:00",
          "2024-03-31T00:00:00",
          "2024-04-30T00:00:00"
         ],
         "y": [
          667555.2268592919,
          625765.4612849866,
          675494.3424459124,
          657621.182715542,
          666639.17770127,
          656409.5141473943,
          678365.2194222908,
          669361.2217753307,
          646543.380096487,
          663193.4597039685,
          655943.0669997016,
          670218.8154595665,
          674666.761558104,
          600447.7568472127,
          672728.0660995259,
          650705.116990145,
          663340.1984515181,
          655299.1164122835,
          674216.3975409047,
          668513.827558978,
          644040.5398188962,
          667122.5541315941,
          651802.0516095565,
          666046.7279839091,
          668281.2969169798,
          604865.8052300888,
          673915.5604367877,
          646168.9967144363,
          661573.5446208741,
          655931.9526953339,
          671442.9327651802,
          668685.1767447047,
          643118.5826870222,
          672550.0962188649,
          649349.7385997851,
          663151.5689317341,
          663091.2464564446,
          611287.2881817766,
          675552.0699307796,
          641864.3828910947,
          660514.4334305534,
          662050.9351503032,
          662497.5771979514,
          673417.9262650515,
          640919.6034588822,
          699759.3963922746,
          634121.3481205512,
          649343.9820954186,
          640780.7681518771,
          644092.0550447456,
          676819.9825731338,
          637717.0359113689,
          658858.174867668
         ]
        }
       ],
       "layout": {
        "autosize": true,
        "template": {
         "data": {
          "bar": [
           {
            "error_x": {
             "color": "#2a3f5f"
            },
            "error_y": {
             "color": "#2a3f5f"
            },
            "marker": {
             "line": {
              "color": "#E5ECF6",
              "width": 0.5
             },
             "pattern": {
              "fillmode": "overlay",
              "size": 10,
              "solidity": 0.2
             }
            },
            "type": "bar"
           }
          ],
          "barpolar": [
           {
            "marker": {
             "line": {
              "color": "#E5ECF6",
              "width": 0.5
             },
             "pattern": {
              "fillmode": "overlay",
              "size": 10,
              "solidity": 0.2
             }
            },
            "type": "barpolar"
           }
          ],
          "carpet": [
           {
            "aaxis": {
             "endlinecolor": "#2a3f5f",
             "gridcolor": "white",
             "linecolor": "white",
             "minorgridcolor": "white",
             "startlinecolor": "#2a3f5f"
            },
            "baxis": {
             "endlinecolor": "#2a3f5f",
             "gridcolor": "white",
             "linecolor": "white",
             "minorgridcolor": "white",
             "startlinecolor": "#2a3f5f"
            },
            "type": "carpet"
           }
          ],
          "choropleth": [
           {
            "colorbar": {
             "outlinewidth": 0,
             "ticks": ""
            },
            "type": "choropleth"
           }
          ],
          "contour": [
           {
            "colorbar": {
             "outlinewidth": 0,
             "ticks": ""
            },
            "colorscale": [
             [
              0,
              "#0d0887"
             ],
             [
              0.1111111111111111,
              "#46039f"
             ],
             [
              0.2222222222222222,
              "#7201a8"
             ],
             [
              0.3333333333333333,
              "#9c179e"
             ],
             [
              0.4444444444444444,
              "#bd3786"
             ],
             [
              0.5555555555555556,
              "#d8576b"
             ],
             [
              0.6666666666666666,
              "#ed7953"
             ],
             [
              0.7777777777777778,
              "#fb9f3a"
             ],
             [
              0.8888888888888888,
              "#fdca26"
             ],
             [
              1,
              "#f0f921"
             ]
            ],
            "type": "contour"
           }
          ],
          "contourcarpet": [
           {
            "colorbar": {
             "outlinewidth": 0,
             "ticks": ""
            },
            "type": "contourcarpet"
           }
          ],
          "heatmap": [
           {
            "colorbar": {
             "outlinewidth": 0,
             "ticks": ""
            },
            "colorscale": [
             [
              0,
              "#0d0887"
             ],
             [
              0.1111111111111111,
              "#46039f"
             ],
             [
              0.2222222222222222,
              "#7201a8"
             ],
             [
              0.3333333333333333,
              "#9c179e"
             ],
             [
              0.4444444444444444,
              "#bd3786"
             ],
             [
              0.5555555555555556,
              "#d8576b"
             ],
             [
              0.6666666666666666,
              "#ed7953"
             ],
             [
              0.7777777777777778,
              "#fb9f3a"
             ],
             [
              0.8888888888888888,
              "#fdca26"
             ],
             [
              1,
              "#f0f921"
             ]
            ],
            "type": "heatmap"
           }
          ],
          "heatmapgl": [
           {
            "colorbar": {
             "outlinewidth": 0,
             "ticks": ""
            },
            "colorscale": [
             [
              0,
              "#0d0887"
             ],
             [
              0.1111111111111111,
              "#46039f"
             ],
             [
              0.2222222222222222,
              "#7201a8"
             ],
             [
              0.3333333333333333,
              "#9c179e"
             ],
             [
              0.4444444444444444,
              "#bd3786"
             ],
             [
              0.5555555555555556,
              "#d8576b"
             ],
             [
              0.6666666666666666,
              "#ed7953"
             ],
             [
              0.7777777777777778,
              "#fb9f3a"
             ],
             [
              0.8888888888888888,
              "#fdca26"
             ],
             [
              1,
              "#f0f921"
             ]
            ],
            "type": "heatmapgl"
           }
          ],
          "histogram": [
           {
            "marker": {
             "pattern": {
              "fillmode": "overlay",
              "size": 10,
              "solidity": 0.2
             }
            },
            "type": "histogram"
           }
          ],
          "histogram2d": [
           {
            "colorbar": {
             "outlinewidth": 0,
             "ticks": ""
            },
            "colorscale": [
             [
              0,
              "#0d0887"
             ],
             [
              0.1111111111111111,
              "#46039f"
             ],
             [
              0.2222222222222222,
              "#7201a8"
             ],
             [
              0.3333333333333333,
              "#9c179e"
             ],
             [
              0.4444444444444444,
              "#bd3786"
             ],
             [
              0.5555555555555556,
              "#d8576b"
             ],
             [
              0.6666666666666666,
              "#ed7953"
             ],
             [
              0.7777777777777778,
              "#fb9f3a"
             ],
             [
              0.8888888888888888,
              "#fdca26"
             ],
             [
              1,
              "#f0f921"
             ]
            ],
            "type": "histogram2d"
           }
          ],
          "histogram2dcontour": [
           {
            "colorbar": {
             "outlinewidth": 0,
             "ticks": ""
            },
            "colorscale": [
             [
              0,
              "#0d0887"
             ],
             [
              0.1111111111111111,
              "#46039f"
             ],
             [
              0.2222222222222222,
              "#7201a8"
             ],
             [
              0.3333333333333333,
              "#9c179e"
             ],
             [
              0.4444444444444444,
              "#bd3786"
             ],
             [
              0.5555555555555556,
              "#d8576b"
             ],
             [
              0.6666666666666666,
              "#ed7953"
             ],
             [
              0.7777777777777778,
              "#fb9f3a"
             ],
             [
              0.8888888888888888,
              "#fdca26"
             ],
             [
              1,
              "#f0f921"
             ]
            ],
            "type": "histogram2dcontour"
           }
          ],
          "mesh3d": [
           {
            "colorbar": {
             "outlinewidth": 0,
             "ticks": ""
            },
            "type": "mesh3d"
           }
          ],
          "parcoords": [
           {
            "line": {
             "colorbar": {
              "outlinewidth": 0,
              "ticks": ""
             }
            },
            "type": "parcoords"
           }
          ],
          "pie": [
           {
            "automargin": true,
            "type": "pie"
           }
          ],
          "scatter": [
           {
            "fillpattern": {
             "fillmode": "overlay",
             "size": 10,
             "solidity": 0.2
            },
            "type": "scatter"
           }
          ],
          "scatter3d": [
           {
            "line": {
             "colorbar": {
              "outlinewidth": 0,
              "ticks": ""
             }
            },
            "marker": {
             "colorbar": {
              "outlinewidth": 0,
              "ticks": ""
             }
            },
            "type": "scatter3d"
           }
          ],
          "scattercarpet": [
           {
            "marker": {
             "colorbar": {
              "outlinewidth": 0,
              "ticks": ""
             }
            },
            "type": "scattercarpet"
           }
          ],
          "scattergeo": [
           {
            "marker": {
             "colorbar": {
              "outlinewidth": 0,
              "ticks": ""
             }
            },
            "type": "scattergeo"
           }
          ],
          "scattergl": [
           {
            "marker": {
             "colorbar": {
              "outlinewidth": 0,
              "ticks": ""
             }
            },
            "type": "scattergl"
           }
          ],
          "scattermapbox": [
           {
            "marker": {
             "colorbar": {
              "outlinewidth": 0,
              "ticks": ""
             }
            },
            "type": "scattermapbox"
           }
          ],
          "scatterpolar": [
           {
            "marker": {
             "colorbar": {
              "outlinewidth": 0,
              "ticks": ""
             }
            },
            "type": "scatterpolar"
           }
          ],
          "scatterpolargl": [
           {
            "marker": {
             "colorbar": {
              "outlinewidth": 0,
              "ticks": ""
             }
            },
            "type": "scatterpolargl"
           }
          ],
          "scatterternary": [
           {
            "marker": {
             "colorbar": {
              "outlinewidth": 0,
              "ticks": ""
             }
            },
            "type": "scatterternary"
           }
          ],
          "surface": [
           {
            "colorbar": {
             "outlinewidth": 0,
             "ticks": ""
            },
            "colorscale": [
             [
              0,
              "#0d0887"
             ],
             [
              0.1111111111111111,
              "#46039f"
             ],
             [
              0.2222222222222222,
              "#7201a8"
             ],
             [
              0.3333333333333333,
              "#9c179e"
             ],
             [
              0.4444444444444444,
              "#bd3786"
             ],
             [
              0.5555555555555556,
              "#d8576b"
             ],
             [
              0.6666666666666666,
              "#ed7953"
             ],
             [
              0.7777777777777778,
              "#fb9f3a"
             ],
             [
              0.8888888888888888,
              "#fdca26"
             ],
             [
              1,
              "#f0f921"
             ]
            ],
            "type": "surface"
           }
          ],
          "table": [
           {
            "cells": {
             "fill": {
              "color": "#EBF0F8"
             },
             "line": {
              "color": "white"
             }
            },
            "header": {
             "fill": {
              "color": "#C8D4E3"
             },
             "line": {
              "color": "white"
             }
            },
            "type": "table"
           }
          ]
         },
         "layout": {
          "annotationdefaults": {
           "arrowcolor": "#2a3f5f",
           "arrowhead": 0,
           "arrowwidth": 1
          },
          "autotypenumbers": "strict",
          "coloraxis": {
           "colorbar": {
            "outlinewidth": 0,
            "ticks": ""
           }
          },
          "colorscale": {
           "diverging": [
            [
             0,
             "#8e0152"
            ],
            [
             0.1,
             "#c51b7d"
            ],
            [
             0.2,
             "#de77ae"
            ],
            [
             0.3,
             "#f1b6da"
            ],
            [
             0.4,
             "#fde0ef"
            ],
            [
             0.5,
             "#f7f7f7"
            ],
            [
             0.6,
             "#e6f5d0"
            ],
            [
             0.7,
             "#b8e186"
            ],
            [
             0.8,
             "#7fbc41"
            ],
            [
             0.9,
             "#4d9221"
            ],
            [
             1,
             "#276419"
            ]
           ],
           "sequential": [
            [
             0,
             "#0d0887"
            ],
            [
             0.1111111111111111,
             "#46039f"
            ],
            [
             0.2222222222222222,
             "#7201a8"
            ],
            [
             0.3333333333333333,
             "#9c179e"
            ],
            [
             0.4444444444444444,
             "#bd3786"
            ],
            [
             0.5555555555555556,
             "#d8576b"
            ],
            [
             0.6666666666666666,
             "#ed7953"
            ],
            [
             0.7777777777777778,
             "#fb9f3a"
            ],
            [
             0.8888888888888888,
             "#fdca26"
            ],
            [
             1,
             "#f0f921"
            ]
           ],
           "sequentialminus": [
            [
             0,
             "#0d0887"
            ],
            [
             0.1111111111111111,
             "#46039f"
            ],
            [
             0.2222222222222222,
             "#7201a8"
            ],
            [
             0.3333333333333333,
             "#9c179e"
            ],
            [
             0.4444444444444444,
             "#bd3786"
            ],
            [
             0.5555555555555556,
             "#d8576b"
            ],
            [
             0.6666666666666666,
             "#ed7953"
            ],
            [
             0.7777777777777778,
             "#fb9f3a"
            ],
            [
             0.8888888888888888,
             "#fdca26"
            ],
            [
             1,
             "#f0f921"
            ]
           ]
          },
          "colorway": [
           "#636efa",
           "#EF553B",
           "#00cc96",
           "#ab63fa",
           "#FFA15A",
           "#19d3f3",
           "#FF6692",
           "#B6E880",
           "#FF97FF",
           "#FECB52"
          ],
          "font": {
           "color": "#2a3f5f"
          },
          "geo": {
           "bgcolor": "white",
           "lakecolor": "white",
           "landcolor": "#E5ECF6",
           "showlakes": true,
           "showland": true,
           "subunitcolor": "white"
          },
          "hoverlabel": {
           "align": "left"
          },
          "hovermode": "closest",
          "mapbox": {
           "style": "light"
          },
          "paper_bgcolor": "white",
          "plot_bgcolor": "#E5ECF6",
          "polar": {
           "angularaxis": {
            "gridcolor": "white",
            "linecolor": "white",
            "ticks": ""
           },
           "bgcolor": "#E5ECF6",
           "radialaxis": {
            "gridcolor": "white",
            "linecolor": "white",
            "ticks": ""
           }
          },
          "scene": {
           "xaxis": {
            "backgroundcolor": "#E5ECF6",
            "gridcolor": "white",
            "gridwidth": 2,
            "linecolor": "white",
            "showbackground": true,
            "ticks": "",
            "zerolinecolor": "white"
           },
           "yaxis": {
            "backgroundcolor": "#E5ECF6",
            "gridcolor": "white",
            "gridwidth": 2,
            "linecolor": "white",
            "showbackground": true,
            "ticks": "",
            "zerolinecolor": "white"
           },
           "zaxis": {
            "backgroundcolor": "#E5ECF6",
            "gridcolor": "white",
            "gridwidth": 2,
            "linecolor": "white",
            "showbackground": true,
            "ticks": "",
            "zerolinecolor": "white"
           }
          },
          "shapedefaults": {
           "line": {
            "color": "#2a3f5f"
           }
          },
          "ternary": {
           "aaxis": {
            "gridcolor": "white",
            "linecolor": "white",
            "ticks": ""
           },
           "baxis": {
            "gridcolor": "white",
            "linecolor": "white",
            "ticks": ""
           },
           "bgcolor": "#E5ECF6",
           "caxis": {
            "gridcolor": "white",
            "linecolor": "white",
            "ticks": ""
           }
          },
          "title": {
           "x": 0.05
          },
          "xaxis": {
           "automargin": true,
           "gridcolor": "white",
           "linecolor": "white",
           "ticks": "",
           "title": {
            "standoff": 15
           },
           "zerolinecolor": "white",
           "zerolinewidth": 2
          },
          "yaxis": {
           "automargin": true,
           "gridcolor": "white",
           "linecolor": "white",
           "ticks": "",
           "title": {
            "standoff": 15
           },
           "zerolinecolor": "white",
           "zerolinewidth": 2
          }
         }
        },
        "title": {
         "text": "Sales Forecast with Prophet"
        },
        "xaxis": {
         "autorange": true,
         "range": [
          "2020-01-01",
          "2024-05-01"
         ],
         "title": {
          "text": "Date"
         },
         "type": "date"
        },
        "yaxis": {
         "autorange": true,
         "range": [
          376060.5992373611,
          728685.814490139
         ],
         "title": {
          "text": "Total Cost"
         },
         "type": "linear"
        }
       }
      },
      "image/png": "[encoded data removed]",
      "text/html": [
       "<div>                            <div id=\"9d92ac7a-d230-4b23-87ae-ab67fc6fc8de\" class=\"plotly-graph-div\" style=\"height:525px; width:100%;\"></div>            <script type=\"text/javascript\">                require([\"plotly\"], function(Plotly) {                    window.PLOTLYENV=window.PLOTLYENV || {};                                    if (document.getElementById(\"9d92ac7a-d230-4b23-87ae-ab67fc6fc8de\")) {                    Plotly.newPlot(                        \"9d92ac7a-d230-4b23-87ae-ab67fc6fc8de\",                        [{\"mode\":\"lines\",\"name\":\"Train\",\"x\":[\"2020-01-01T00:00:00\",\"2020-02-01T00:00:00\",\"2020-03-01T00:00:00\",\"2020-04-01T00:00:00\",\"2020-05-01T00:00:00\",\"2020-06-01T00:00:00\",\"2020-07-01T00:00:00\",\"2020-08-01T00:00:00\",\"2020-09-01T00:00:00\",\"2020-10-01T00:00:00\",\"2020-11-01T00:00:00\",\"2020-12-01T00:00:00\",\"2021-01-01T00:00:00\",\"2021-02-01T00:00:00\",\"2021-03-01T00:00:00\",\"2021-04-01T00:00:00\",\"2021-05-01T00:00:00\",\"2021-06-01T00:00:00\",\"2021-07-01T00:00:00\",\"2021-08-01T00:00:00\",\"2021-09-01T00:00:00\",\"2021-10-01T00:00:00\",\"2021-11-01T00:00:00\",\"2021-12-01T00:00:00\",\"2022-01-01T00:00:00\",\"2022-02-01T00:00:00\",\"2022-03-01T00:00:00\",\"2022-04-01T00:00:00\",\"2022-05-01T00:00:00\",\"2022-06-01T00:00:00\",\"2022-07-01T00:00:00\",\"2022-08-01T00:00:00\",\"2022-09-01T00:00:00\",\"2022-10-01T00:00:00\",\"2022-11-01T00:00:00\",\"2022-12-01T00:00:00\",\"2023-01-01T00:00:00\",\"2023-02-01T00:00:00\",\"2023-03-01T00:00:00\",\"2023-04-01T00:00:00\",\"2023-05-01T00:00:00\"],\"y\":[678299.24,636182.26,679427.27,657152.14,666343.08,659466.28,681688.47,680971.92,657505.85,668685.86,663630.8,673956.68,681316.23,609217.04,675073.03,654323.51,674265.59,660237.64,682861.54,665098.34,645103.18,678851.15,658239.8,675500.29,671658.33,599521.59,679163.98,663020.65,665700.5,664884.73,676763.46,677691.9,648629.18,672314.7,652787.71,666699.12,664932.39,620010.67,686536.83,644784.83,668735.94],\"type\":\"scatter\"},{\"mode\":\"lines\",\"name\":\"Test\",\"x\":[\"2023-06-01T00:00:00\",\"2023-07-01T00:00:00\",\"2023-08-01T00:00:00\",\"2023-09-01T00:00:00\",\"2023-10-01T00:00:00\",\"2023-11-01T00:00:00\",\"2023-12-01T00:00:00\",\"2024-01-01T00:00:00\",\"2024-02-01T00:00:00\",\"2024-03-01T00:00:00\",\"2024-04-01T00:00:00\",\"2024-05-01T00:00:00\"],\"y\":[644854.11,686292.34,678686.36,661039.98,677284.75,662716.19,685203.18,678089.72,630481.23,669631.15,645977.02,393691.86],\"type\":\"scatter\"},{\"mode\":\"lines\",\"name\":\"Forecast\",\"x\":[\"2020-01-01T00:00:00\",\"2020-02-01T00:00:00\",\"2020-03-01T00:00:00\",\"2020-04-01T00:00:00\",\"2020-05-01T00:00:00\",\"2020-06-01T00:00:00\",\"2020-07-01T00:00:00\",\"2020-08-01T00:00:00\",\"2020-09-01T00:00:00\",\"2020-10-01T00:00:00\",\"2020-11-01T00:00:00\",\"2020-12-01T00:00:00\",\"2021-01-01T00:00:00\",\"2021-02-01T00:00:00\",\"2021-03-01T00:00:00\",\"2021-04-01T00:00:00\",\"2021-05-01T00:00:00\",\"2021-06-01T00:00:00\",\"2021-07-01T00:00:00\",\"2021-08-01T00:00:00\",\"2021-09-01T00:00:00\",\"2021-10-01T00:00:00\",\"2021-11-01T00:00:00\",\"2021-12-01T00:00:00\",\"2022-01-01T00:00:00\",\"2022-02-01T00:00:00\",\"2022-03-01T00:00:00\",\"2022-04-01T00:00:00\",\"2022-05-01T00:00:00\",\"2022-06-01T00:00:00\",\"2022-07-01T00:00:00\",\"2022-08-01T00:00:00\",\"2022-09-01T00:00:00\",\"2022-10-01T00:00:00\",\"2022-11-01T00:00:00\",\"2022-12-01T00:00:00\",\"2023-01-01T00:00:00\",\"2023-02-01T00:00:00\",\"2023-03-01T00:00:00\",\"2023-04-01T00:00:00\",\"2023-05-01T00:00:00\",\"2023-05-31T00:00:00\",\"2023-06-30T00:00:00\",\"2023-07-31T00:00:00\",\"2023-08-31T00:00:00\",\"2023-09-30T00:00:00\",\"2023-10-31T00:00:00\",\"2023-11-30T00:00:00\",\"2023-12-31T00:00:00\",\"2024-01-31T00:00:00\",\"2024-02-29T00:00:00\",\"2024-03-31T00:00:00\",\"2024-04-30T00:00:00\"],\"y\":[673570.7067218343,631208.1787897865,681364.82316209,663636.004320298,672492.0485233231,661985.4546825092,683930.9631143634,675358.2119485658,652587.5792724941,668932.515595514,661989.8773357194,675850.4251165998,680175.8760267366,606034.0525591043,678432.0912032326,656312.8771177953,669114.0390004729,660951.7093680758,679799.4342315778,673883.9011653394,649748.5717994662,672718.0659562757,657736.0202446847,671588.4271951779,673749.0232704335,610850.8141026157,679339.7194605708,651649.6332978656,667292.6872252641,661624.5061303542,677541.4623835416,674488.6777161211,648894.6136200384,678210.6101159736,654960.6436554706,668755.5362197423,668749.6628789268,616930.9234714604,681049.6258276427,647692.143924412,666113.9585179245,667911.5586196652,668327.4480300982,679063.0237206015,646503.6967104381,705337.1906807973,639954.4256871277,655131.5117881664,646647.7974504202,649944.8778048113,682604.9988534749,643670.3299808699,664979.487604763],\"type\":\"scatter\"},{\"line\":{\"color\":\"rgba(0,0,255,0.2)\"},\"mode\":\"lines\",\"name\":\"Upper Bound\",\"x\":[\"2020-01-01T00:00:00\",\"2020-02-01T00:00:00\",\"2020-03-01T00:00:00\",\"2020-04-01T00:00:00\",\"2020-05-01T00:00:00\",\"2020-06-01T00:00:00\",\"2020-07-01T00:00:00\",\"2020-08-01T00:00:00\",\"2020-09-01T00:00:00\",\"2020-10-01T00:00:00\",\"2020-11-01T00:00:00\",\"2020-12-01T00:00:00\",\"2021-01-01T00:00:00\",\"2021-02-01T00:00:00\",\"2021-03-01T00:00:00\",\"2021-04-01T00:00:00\",\"2021-05-01T00:00:00\",\"2021-06-01T00:00:00\",\"2021-07-01T00:00:00\",\"2021-08-01T00:00:00\",\"2021-09-01T00:00:00\",\"2021-10-01T00:00:00\",\"2021-11-01T00:00:00\",\"2021-12-01T00:00:00\",\"2022-01-01T00:00:00\",\"2022-02-01T00:00:00\",\"2022-03-01T00:00:00\",\"2022-04-01T00:00:00\",\"2022-05-01T00:00:00\",\"2022-06-01T00:00:00\",\"2022-07-01T00:00:00\",\"2022-08-01T00:00:00\",\"2022-09-01T00:00:00\",\"2022-10-01T00:00:00\",\"2022-11-01T00:00:00\",\"2022-12-01T00:00:00\",\"2023-01-01T00:00:00\",\"2023-02-01T00:00:00\",\"2023-03-01T00:00:00\",\"2023-04-01T00:00:00\",\"2023-05-01T00:00:00\",\"2023-05-31T00:00:00\",\"2023-06-30T00:00:00\",\"2023-07-31T00:00:00\",\"2023-08-31T00:00:00\",\"2023-09-30T00:00:00\",\"2023-10-31T00:00:00\",\"2023-11-30T00:00:00\",\"2023-12-31T00:00:00\",\"2024-01-31T00:00:00\",\"2024-02-29T00:00:00\",\"2024-03-31T00:00:00\",\"2024-04-30T00:00:00\"],\"y\":[679054.1132255123,637235.0483684613,686921.8918534275,669704.4385922111,678703.2666828298,667887.4141261649,689783.6680396197,680958.0084708487,658666.0574739192,674798.8024647975,667488.0773890028,681278.4649393001,686051.9666531362,612041.7483247843,683920.9588160664,662616.4934526904,674823.1718046059,666811.2958044615,685056.473504728,679547.8694836367,655644.1664767705,678626.2551757059,663118.4060992586,677103.2917889322,679745.8430353565,616321.9730653929,685239.3020313171,657237.3598156726,673121.1434995163,667733.6102589065,682726.8725380293,680046.6924365276,654807.2187956087,683616.5299744278,660575.7322276762,674730.4546379938,674807.4188656041,622648.7505154078,687089.4483939084,653324.9989197486,671684.9798565436,673285.6091120562,674430.6067138604,685151.2616414299,652438.6359984215,711054.5537275001,645412.1358626666,660977.0451251472,652412.4448042389,655943.9027551481,688551.8433334881,649631.1797902866,671260.548062016],\"type\":\"scatter\"},{\"line\":{\"color\":\"rgba(0,0,255,0.2)\"},\"mode\":\"lines\",\"name\":\"Lower Bound\",\"x\":[\"2020-01-01T00:00:00\",\"2020-02-01T00:00:00\",\"2020-03-01T00:00:00\",\"2020-04-01T00:00:00\",\"2020-05-01T00:00:00\",\"2020-06-01T00:00:00\",\"2020-07-01T00:00:00\",\"2020-08-01T00:00:00\",\"2020-09-01T00:00:00\",\"2020-10-01T00:00:00\",\"2020-11-01T00:00:00\",\"2020-12-01T00:00:00\",\"2021-01-01T00:00:00\",\"2021-02-01T00:00:00\",\"2021-03-01T00:00:00\",\"2021-04-01T00:00:00\",\"2021-05-01T00:00:00\",\"2021-06-01T00:00:00\",\"2021-07-01T00:00:00\",\"2021-08-01T00:00:00\",\"2021-09-01T00:00:00\",\"2021-10-01T00:00:00\",\"2021-11-01T00:00:00\",\"2021-12-01T00:00:00\",\"2022-01-01T00:00:00\",\"2022-02-01T00:00:00\",\"2022-03-01T00:00:00\",\"2022-04-01T00:00:00\",\"2022-05-01T00:00:00\",\"2022-06-01T00:00:00\",\"2022-07-01T00:00:00\",\"2022-08-01T00:00:00\",\"2022-09-01T00:00:00\",\"2022-10-01T00:00:00\",\"2022-11-01T00:00:00\",\"2022-12-01T00:00:00\",\"2023-01-01T00:00:00\",\"2023-02-01T00:00:00\",\"2023-03-01T00:00:00\",\"2023-04-01T00:00:00\",\"2023-05-01T00:00:00\",\"2023-05-31T00:00:00\",\"2023-06-30T00:00:00\",\"2023-07-31T00:00:00\",\"2023-08-31T00:00:00\",\"2023-09-30T00:00:00\",\"2023-10-31T00:00:00\",\"2023-11-30T00:00:00\",\"2023-12-31T00:00:00\",\"2024-01-31T00:00:00\",\"2024-02-29T00:00:00\",\"2024-03-31T00:00:00\",\"2024-04-30T00:00:00\"],\"y\":[667555.2268592919,625765.4612849866,675494.3424459124,657621.182715542,666639.17770127,656409.5141473943,678365.2194222908,669361.2217753307,646543.380096487,663193.4597039685,655943.0669997016,670218.8154595665,674666.761558104,600447.7568472127,672728.0660995259,650705.116990145,663340.1984515181,655299.1164122835,674216.3975409047,668513.827558978,644040.5398188962,667122.5541315941,651802.0516095565,666046.7279839091,668281.2969169798,604865.8052300888,673915.5604367877,646168.9967144363,661573.5446208741,655931.9526953339,671442.9327651802,668685.1767447047,643118.5826870222,672550.0962188649,649349.7385997851,663151.5689317341,663091.2464564446,611287.2881817766,675552.0699307796,641864.3828910947,660514.4334305534,662050.9351503032,662497.5771979514,673417.9262650515,640919.6034588822,699759.3963922746,634121.3481205512,649343.9820954186,640780.7681518771,644092.0550447456,676819.9825731338,637717.0359113689,658858.174867668],\"type\":\"scatter\"}],                        {\"template\":{\"data\":{\"histogram2dcontour\":[{\"type\":\"histogram2dcontour\",\"colorbar\":{\"outlinewidth\":0,\"ticks\":\"\"},\"colorscale\":[[0.0,\"#0d0887\"],[0.1111111111111111,\"#46039f\"],[0.2222222222222222,\"#7201a8\"],[0.3333333333333333,\"#9c179e\"],[0.4444444444444444,\"#bd3786\"],[0.5555555555555556,\"#d8576b\"],[0.6666666666666666,\"#ed7953\"],[0.7777777777777778,\"#fb9f3a\"],[0.8888888888888888,\"#fdca26\"],[1.0,\"#f0f921\"]]}],\"choropleth\":[{\"type\":\"choropleth\",\"colorbar\":{\"outlinewidth\":0,\"ticks\":\"\"}}],\"histogram2d\":[{\"type\":\"histogram2d\",\"colorbar\":{\"outlinewidth\":0,\"ticks\":\"\"},\"colorscale\":[[0.0,\"#0d0887\"],[0.1111111111111111,\"#46039f\"],[0.2222222222222222,\"#7201a8\"],[0.3333333333333333,\"#9c179e\"],[0.4444444444444444,\"#bd3786\"],[0.5555555555555556,\"#d8576b\"],[0.6666666666666666,\"#ed7953\"],[0.7777777777777778,\"#fb9f3a\"],[0.8888888888888888,\"#fdca26\"],[1.0,\"#f0f921\"]]}],\"heatmap\":[{\"type\":\"heatmap\",\"colorbar\":{\"outlinewidth\":0,\"ticks\":\"\"},\"colorscale\":[[0.0,\"#0d0887\"],[0.1111111111111111,\"#46039f\"],[0.2222222222222222,\"#7201a8\"],[0.3333333333333333,\"#9c179e\"],[0.4444444444444444,\"#bd3786\"],[0.5555555555555556,\"#d8576b\"],[0.6666666666666666,\"#ed7953\"],[0.7777777777777778,\"#fb9f3a\"],[0.8888888888888888,\"#fdca26\"],[1.0,\"#f0f921\"]]}],\"heatmapgl\":[{\"type\":\"heatmapgl\",\"colorbar\":{\"outlinewidth\":0,\"ticks\":\"\"},\"colorscale\":[[0.0,\"#0d0887\"],[0.1111111111111111,\"#46039f\"],[0.2222222222222222,\"#7201a8\"],[0.3333333333333333,\"#9c179e\"],[0.4444444444444444,\"#bd3786\"],[0.5555555555555556,\"#d8576b\"],[0.6666666666666666,\"#ed7953\"],[0.7777777777777778,\"#fb9f3a\"],[0.8888888888888888,\"#fdca26\"],[1.0,\"#f0f921\"]]}],\"contourcarpet\":[{\"type\":\"contourcarpet\",\"colorbar\":{\"outlinewidth\":0,\"ticks\":\"\"}}],\"contour\":[{\"type\":\"contour\",\"colorbar\":{\"outlinewidth\":0,\"ticks\":\"\"},\"colorscale\":[[0.0,\"#0d0887\"],[0.1111111111111111,\"#46039f\"],[0.2222222222222222,\"#7201a8\"],[0.3333333333333333,\"#9c179e\"],[0.4444444444444444,\"#bd3786\"],[0.5555555555555556,\"#d8576b\"],[0.6666666666666666,\"#ed7953\"],[0.7777777777777778,\"#fb9f3a\"],[0.8888888888888888,\"#fdca26\"],[1.0,\"#f0f921\"]]}],\"surface\":[{\"type\":\"surface\",\"colorbar\":{\"outlinewidth\":0,\"ticks\":\"\"},\"colorscale\":[[0.0,\"#0d0887\"],[0.1111111111111111,\"#46039f\"],[0.2222222222222222,\"#7201a8\"],[0.3333333333333333,\"#9c179e\"],[0.4444444444444444,\"#bd3786\"],[0.5555555555555556,\"#d8576b\"],[0.6666666666666666,\"#ed7953\"],[0.7777777777777778,\"#fb9f3a\"],[0.8888888888888888,\"#fdca26\"],[1.0,\"#f0f921\"]]}],\"mesh3d\":[{\"type\":\"mesh3d\",\"colorbar\":{\"outlinewidth\":0,\"ticks\":\"\"}}],\"scatter\":[{\"fillpattern\":{\"fillmode\":\"overlay\",\"size\":10,\"solidity\":0.2},\"type\":\"scatter\"}],\"parcoords\":[{\"type\":\"parcoords\",\"line\":{\"colorbar\":{\"outlinewidth\":0,\"ticks\":\"\"}}}],\"scatterpolargl\":[{\"type\":\"scatterpolargl\",\"marker\":{\"colorbar\":{\"outlinewidth\":0,\"ticks\":\"\"}}}],\"bar\":[{\"error_x\":{\"color\":\"#2a3f5f\"},\"error_y\":{\"color\":\"#2a3f5f\"},\"marker\":{\"line\":{\"color\":\"#E5ECF6\",\"width\":0.5},\"pattern\":{\"fillmode\":\"overlay\",\"size\":10,\"solidity\":0.2}},\"type\":\"bar\"}],\"scattergeo\":[{\"type\":\"scattergeo\",\"marker\":{\"colorbar\":{\"outlinewidth\":0,\"ticks\":\"\"}}}],\"scatterpolar\":[{\"type\":\"scatterpolar\",\"marker\":{\"colorbar\":{\"outlinewidth\":0,\"ticks\":\"\"}}}],\"histogram\":[{\"marker\":{\"pattern\":{\"fillmode\":\"overlay\",\"size\":10,\"solidity\":0.2}},\"type\":\"histogram\"}],\"scattergl\":[{\"type\":\"scattergl\",\"marker\":{\"colorbar\":{\"outlinewidth\":0,\"ticks\":\"\"}}}],\"scatter3d\":[{\"type\":\"scatter3d\",\"line\":{\"colorbar\":{\"outlinewidth\":0,\"ticks\":\"\"}},\"marker\":{\"colorbar\":{\"outlinewidth\":0,\"ticks\":\"\"}}}],\"scattermapbox\":[{\"type\":\"scattermapbox\",\"marker\":{\"colorbar\":{\"outlinewidth\":0,\"ticks\":\"\"}}}],\"scatterternary\":[{\"type\":\"scatterternary\",\"marker\":{\"colorbar\":{\"outlinewidth\":0,\"ticks\":\"\"}}}],\"scattercarpet\":[{\"type\":\"scattercarpet\",\"marker\":{\"colorbar\":{\"outlinewidth\":0,\"ticks\":\"\"}}}],\"carpet\":[{\"aaxis\":{\"endlinecolor\":\"#2a3f5f\",\"gridcolor\":\"white\",\"linecolor\":\"white\",\"minorgridcolor\":\"white\",\"startlinecolor\":\"#2a3f5f\"},\"baxis\":{\"endlinecolor\":\"#2a3f5f\",\"gridcolor\":\"white\",\"linecolor\":\"white\",\"minorgridcolor\":\"white\",\"startlinecolor\":\"#2a3f5f\"},\"type\":\"carpet\"}],\"table\":[{\"cells\":{\"fill\":{\"color\":\"#EBF0F8\"},\"line\":{\"color\":\"white\"}},\"header\":{\"fill\":{\"color\":\"#C8D4E3\"},\"line\":{\"color\":\"white\"}},\"type\":\"table\"}],\"barpolar\":[{\"marker\":{\"line\":{\"color\":\"#E5ECF6\",\"width\":0.5},\"pattern\":{\"fillmode\":\"overlay\",\"size\":10,\"solidity\":0.2}},\"type\":\"barpolar\"}],\"pie\":[{\"automargin\":true,\"type\":\"pie\"}]},\"layout\":{\"autotypenumbers\":\"strict\",\"colorway\":[\"#636efa\",\"#EF553B\",\"#00cc96\",\"#ab63fa\",\"#FFA15A\",\"#19d3f3\",\"#FF6692\",\"#B6E880\",\"#FF97FF\",\"#FECB52\"],\"font\":{\"color\":\"#2a3f5f\"},\"hovermode\":\"closest\",\"hoverlabel\":{\"align\":\"left\"},\"paper_bgcolor\":\"white\",\"plot_bgcolor\":\"#E5ECF6\",\"polar\":{\"bgcolor\":\"#E5ECF6\",\"angularaxis\":{\"gridcolor\":\"white\",\"linecolor\":\"white\",\"ticks\":\"\"},\"radialaxis\":{\"gridcolor\":\"white\",\"linecolor\":\"white\",\"ticks\":\"\"}},\"ternary\":{\"bgcolor\":\"#E5ECF6\",\"aaxis\":{\"gridcolor\":\"white\",\"linecolor\":\"white\",\"ticks\":\"\"},\"baxis\":{\"gridcolor\":\"white\",\"linecolor\":\"white\",\"ticks\":\"\"},\"caxis\":{\"gridcolor\":\"white\",\"linecolor\":\"white\",\"ticks\":\"\"}},\"coloraxis\":{\"colorbar\":{\"outlinewidth\":0,\"ticks\":\"\"}},\"colorscale\":{\"sequential\":[[0.0,\"#0d0887\"],[0.1111111111111111,\"#46039f\"],[0.2222222222222222,\"#7201a8\"],[0.3333333333333333,\"#9c179e\"],[0.4444444444444444,\"#bd3786\"],[0.5555555555555556,\"#d8576b\"],[0.6666666666666666,\"#ed7953\"],[0.7777777777777778,\"#fb9f3a\"],[0.8888888888888888,\"#fdca26\"],[1.0,\"#f0f921\"]],\"sequentialminus\":[[0.0,\"#0d0887\"],[0.1111111111111111,\"#46039f\"],[0.2222222222222222,\"#7201a8\"],[0.3333333333333333,\"#9c179e\"],[0.4444444444444444,\"#bd3786\"],[0.5555555555555556,\"#d8576b\"],[0.6666666666666666,\"#ed7953\"],[0.7777777777777778,\"#fb9f3a\"],[0.8888888888888888,\"#fdca26\"],[1.0,\"#f0f921\"]],\"diverging\":[[0,\"#8e0152\"],[0.1,\"#c51b7d\"],[0.2,\"#de77ae\"],[0.3,\"#f1b6da\"],[0.4,\"#fde0ef\"],[0.5,\"#f7f7f7\"],[0.6,\"#e6f5d0\"],[0.7,\"#b8e186\"],[0.8,\"#7fbc41\"],[0.9,\"#4d9221\"],[1,\"#276419\"]]},\"xaxis\":{\"gridcolor\":\"white\",\"linecolor\":\"white\",\"ticks\":\"\",\"title\":{\"standoff\":15},\"zerolinecolor\":\"white\",\"automargin\":true,\"zerolinewidth\":2},\"yaxis\":{\"gridcolor\":\"white\",\"linecolor\":\"white\",\"ticks\":\"\",\"title\":{\"standoff\":15},\"zerolinecolor\":\"white\",\"automargin\":true,\"zerolinewidth\":2},\"scene\":{\"xaxis\":{\"backgroundcolor\":\"#E5ECF6\",\"gridcolor\":\"white\",\"linecolor\":\"white\",\"showbackground\":true,\"ticks\":\"\",\"zerolinecolor\":\"white\",\"gridwidth\":2},\"yaxis\":{\"backgroundcolor\":\"#E5ECF6\",\"gridcolor\":\"white\",\"linecolor\":\"white\",\"showbackground\":true,\"ticks\":\"\",\"zerolinecolor\":\"white\",\"gridwidth\":2},\"zaxis\":{\"backgroundcolor\":\"#E5ECF6\",\"gridcolor\":\"white\",\"linecolor\":\"white\",\"showbackground\":true,\"ticks\":\"\",\"zerolinecolor\":\"white\",\"gridwidth\":2}},\"shapedefaults\":{\"line\":{\"color\":\"#2a3f5f\"}},\"annotationdefaults\":{\"arrowcolor\":\"#2a3f5f\",\"arrowhead\":0,\"arrowwidth\":1},\"geo\":{\"bgcolor\":\"white\",\"landcolor\":\"#E5ECF6\",\"subunitcolor\":\"white\",\"showland\":true,\"showlakes\":true,\"lakecolor\":\"white\"},\"title\":{\"x\":0.05},\"mapbox\":{\"style\":\"light\"}}},\"title\":{\"text\":\"Sales Forecast with Prophet\"},\"xaxis\":{\"title\":{\"text\":\"Date\"}},\"yaxis\":{\"title\":{\"text\":\"Total Cost\"}}},                        {\"responsive\": true}                    ).then(function(){\n",
       "                            \n",
       "var gd = document.getElementById('9d92ac7a-d230-4b23-87ae-ab67fc6fc8de');\n",
       "var x = new MutationObserver(function (mutations, observer) {{\n",
       "        var display = window.getComputedStyle(gd).display;\n",
       "        if (!display || display === 'none') {{\n",
       "            console.log([gd, 'removed!']);\n",
       "            Plotly.purge(gd);\n",
       "            observer.disconnect();\n",
       "        }}\n",
       "}});\n",
       "\n",
       "// Listen for the removal of the full notebook cells\n",
       "var notebookContainer = gd.closest('#notebook-container');\n",
       "if (notebookContainer) {{\n",
       "    x.observe(notebookContainer, {childList: true});\n",
       "}}\n",
       "\n",
       "// Listen for the clearing of the current output cell\n",
       "var outputEl = gd.closest('.output');\n",
       "if (outputEl) {{\n",
       "    x.observe(outputEl, {childList: true});\n",
       "}}\n",
       "\n",
       "                        })                };                });            </script>        </div>"
      ]
     },
     "metadata": {},
     "output_type": "display_data"
    }
   ],
   "source": [
    "# Update layout\n",
    "fig.update_layout(title='Sales Forecast with Prophet', xaxis_title='Date', yaxis_title='Total Cost')\n",
    "fig.show()"
   ]
  },
  {
   "cell_type": "code",
   "execution_count": 448,
   "id": "95c6f87d-0e16-43c4-87cc-b8a50f94b176",
   "metadata": {},
   "outputs": [
    {
     "name": "stdout",
     "output_type": "stream",
     "text": [
      "Unique ds values in forecast:\n",
      "<DatetimeArray>\n",
      "['2020-01-01 00:00:00', '2020-02-01 00:00:00', '2020-03-01 00:00:00',\n",
      " '2020-04-01 00:00:00', '2020-05-01 00:00:00', '2020-06-01 00:00:00',\n",
      " '2020-07-01 00:00:00', '2020-08-01 00:00:00', '2020-09-01 00:00:00',\n",
      " '2020-10-01 00:00:00', '2020-11-01 00:00:00', '2020-12-01 00:00:00',\n",
      " '2021-01-01 00:00:00', '2021-02-01 00:00:00', '2021-03-01 00:00:00',\n",
      " '2021-04-01 00:00:00', '2021-05-01 00:00:00', '2021-06-01 00:00:00',\n",
      " '2021-07-01 00:00:00', '2021-08-01 00:00:00', '2021-09-01 00:00:00',\n",
      " '2021-10-01 00:00:00', '2021-11-01 00:00:00', '2021-12-01 00:00:00',\n",
      " '2022-01-01 00:00:00', '2022-02-01 00:00:00', '2022-03-01 00:00:00',\n",
      " '2022-04-01 00:00:00', '2022-05-01 00:00:00', '2022-06-01 00:00:00',\n",
      " '2022-07-01 00:00:00', '2022-08-01 00:00:00', '2022-09-01 00:00:00',\n",
      " '2022-10-01 00:00:00', '2022-11-01 00:00:00', '2022-12-01 00:00:00',\n",
      " '2023-01-01 00:00:00', '2023-02-01 00:00:00', '2023-03-01 00:00:00',\n",
      " '2023-04-01 00:00:00', '2023-05-01 00:00:00', '2023-05-31 00:00:00',\n",
      " '2023-06-30 00:00:00', '2023-07-31 00:00:00', '2023-08-31 00:00:00',\n",
      " '2023-09-30 00:00:00', '2023-10-31 00:00:00', '2023-11-30 00:00:00',\n",
      " '2023-12-31 00:00:00', '2024-01-31 00:00:00', '2024-02-29 00:00:00',\n",
      " '2024-03-31 00:00:00', '2024-04-30 00:00:00']\n",
      "Length: 53, dtype: datetime64[ns]\n",
      "\n",
      "Unique ds values in test:\n",
      "<DatetimeArray>\n",
      "['2023-06-01 00:00:00', '2023-07-01 00:00:00', '2023-08-01 00:00:00',\n",
      " '2023-09-01 00:00:00', '2023-10-01 00:00:00', '2023-11-01 00:00:00',\n",
      " '2023-12-01 00:00:00', '2024-01-01 00:00:00', '2024-02-01 00:00:00',\n",
      " '2024-03-01 00:00:00', '2024-04-01 00:00:00', '2024-05-01 00:00:00']\n",
      "Length: 12, dtype: datetime64[ns]\n"
     ]
    }
   ],
   "source": [
    "# Print unique values in the ds columns\n",
    "print(\"Unique ds values in forecast:\")\n",
    "print(forecast['ds'].unique())\n",
    "\n",
    "print(\"\\nUnique ds values in test:\")\n",
    "print(test['ds'].unique())\n"
   ]
  },
  {
   "cell_type": "code",
   "execution_count": 449,
   "id": "17ce59ad-d228-40a9-9bca-ed7fb9f9bd26",
   "metadata": {},
   "outputs": [
    {
     "name": "stdout",
     "output_type": "stream",
     "text": [
      "Unique dates in forecast:\n",
      "<DatetimeArray>\n",
      "['2020-01-01 00:00:00', '2020-02-01 00:00:00', '2020-03-01 00:00:00',\n",
      " '2020-04-01 00:00:00', '2020-05-01 00:00:00', '2020-06-01 00:00:00',\n",
      " '2020-07-01 00:00:00', '2020-08-01 00:00:00', '2020-09-01 00:00:00',\n",
      " '2020-10-01 00:00:00', '2020-11-01 00:00:00', '2020-12-01 00:00:00',\n",
      " '2021-01-01 00:00:00', '2021-02-01 00:00:00', '2021-03-01 00:00:00',\n",
      " '2021-04-01 00:00:00', '2021-05-01 00:00:00', '2021-06-01 00:00:00',\n",
      " '2021-07-01 00:00:00', '2021-08-01 00:00:00', '2021-09-01 00:00:00',\n",
      " '2021-10-01 00:00:00', '2021-11-01 00:00:00', '2021-12-01 00:00:00',\n",
      " '2022-01-01 00:00:00', '2022-02-01 00:00:00', '2022-03-01 00:00:00',\n",
      " '2022-04-01 00:00:00', '2022-05-01 00:00:00', '2022-06-01 00:00:00',\n",
      " '2022-07-01 00:00:00', '2022-08-01 00:00:00', '2022-09-01 00:00:00',\n",
      " '2022-10-01 00:00:00', '2022-11-01 00:00:00', '2022-12-01 00:00:00',\n",
      " '2023-01-01 00:00:00', '2023-02-01 00:00:00', '2023-03-01 00:00:00',\n",
      " '2023-04-01 00:00:00', '2023-05-01 00:00:00', '2023-05-31 00:00:00',\n",
      " '2023-06-30 00:00:00', '2023-07-31 00:00:00', '2023-08-31 00:00:00',\n",
      " '2023-09-30 00:00:00', '2023-10-31 00:00:00', '2023-11-30 00:00:00',\n",
      " '2023-12-31 00:00:00', '2024-01-31 00:00:00', '2024-02-29 00:00:00',\n",
      " '2024-03-31 00:00:00', '2024-04-30 00:00:00']\n",
      "Length: 53, dtype: datetime64[ns]\n",
      "\n",
      "Unique dates in test:\n",
      "<DatetimeArray>\n",
      "['2023-06-01 00:00:00', '2023-07-01 00:00:00', '2023-08-01 00:00:00',\n",
      " '2023-09-01 00:00:00', '2023-10-01 00:00:00', '2023-11-01 00:00:00',\n",
      " '2023-12-01 00:00:00', '2024-01-01 00:00:00', '2024-02-01 00:00:00',\n",
      " '2024-03-01 00:00:00', '2024-04-01 00:00:00', '2024-05-01 00:00:00']\n",
      "Length: 12, dtype: datetime64[ns]\n"
     ]
    },
    {
     "name": "stderr",
     "output_type": "stream",
     "text": [
      "C:\\Users\\User\\AppData\\Local\\Temp\\ipykernel_5268\\2476001106.py:3: SettingWithCopyWarning:\n",
      "\n",
      "\n",
      "A value is trying to be set on a copy of a slice from a DataFrame.\n",
      "Try using .loc[row_indexer,col_indexer] = value instead\n",
      "\n",
      "See the caveats in the documentation: https://pandas.pydata.org/pandas-docs/stable/user_guide/indexing.html#returning-a-view-versus-a-copy\n",
      "\n"
     ]
    }
   ],
   "source": [
    "# Convert 'ds' columns to datetime (if not already done)\n",
    "forecast['ds'] = pd.to_datetime(forecast['ds'])\n",
    "test['ds'] = pd.to_datetime(test['ds'])\n",
    "\n",
    "\n",
    "# Check unique dates in both DataFrames\n",
    "print(\"Unique dates in forecast:\")\n",
    "print(forecast['ds'].unique())\n",
    "\n",
    "print(\"\\nUnique dates in test:\")\n",
    "print(test['ds'].unique())\n"
   ]
  },
  {
   "cell_type": "code",
   "execution_count": 450,
   "id": "a64dbc01-b869-4884-9cfe-7ca85fad3ff7",
   "metadata": {},
   "outputs": [
    {
     "name": "stdout",
     "output_type": "stream",
     "text": [
      "Dates in forecast not in test:\n",
      "           ds          trend     yhat_lower     yhat_upper    trend_lower  \\\n",
      "0  2020-01-01  673176.823288  667555.226859  679054.113226  673176.823288   \n",
      "1  2020-02-01  671544.929478  625765.461285  637235.048368  671544.929478   \n",
      "2  2020-03-01  670018.319138  675494.342446  686921.891853  670018.319138   \n",
      "3  2020-04-01  668389.101304  657621.182716  669704.438592  668389.101304   \n",
      "4  2020-05-01  666812.438884  666639.177701  678703.266683  666812.438884   \n",
      "5  2020-06-01  666616.904507  656409.514147  667887.414126  666616.904507   \n",
      "6  2020-07-01  666429.823785  678365.219422  689783.668040  666429.823785   \n",
      "7  2020-08-01  666236.507036  669361.221775  680958.008471  666236.507036   \n",
      "8  2020-09-01  666043.190291  646543.380096  658666.057474  666043.190291   \n",
      "9  2020-10-01  665856.109571  663193.459704  674798.802465  665856.109571   \n",
      "10 2020-11-01  665662.792821  655943.067000  667488.077389  665662.792821   \n",
      "11 2020-12-01  665475.712093  670218.815460  681278.464939  665475.712093   \n",
      "12 2021-01-01  665282.395335  674666.761558  686051.966653  665282.395335   \n",
      "13 2021-02-01  665089.078571  600447.756847  612041.748325  665089.078571   \n",
      "14 2021-03-01  664914.469881  672728.066100  683920.958816  664914.469881   \n",
      "15 2021-04-01  664721.153115  650705.116990  662616.493453  664721.153115   \n",
      "16 2021-05-01  664534.072379  663340.198452  674823.171805  664534.072379   \n",
      "17 2021-06-01  664340.755626  655299.116412  666811.295804  664340.755626   \n",
      "18 2021-07-01  664155.143092  674216.397541  685056.473505  664155.143092   \n",
      "19 2021-08-01  663963.343473  668513.827559  679547.869484  663963.343473   \n",
      "20 2021-09-01  663923.135245  644040.539819  655644.166477  663923.135245   \n",
      "21 2021-10-01  663895.776693  667122.554132  678626.255176  663895.776693   \n",
      "22 2021-11-01  663872.023361  651802.051610  663118.406099  663872.023361   \n",
      "23 2021-12-01  663850.461847  666046.727984  677103.291789  663850.461847   \n",
      "24 2022-01-01  663828.181616  668281.296917  679745.843035  663828.181616   \n",
      "25 2022-02-01  663811.545469  604865.805230  616321.973065  663811.545469   \n",
      "26 2022-03-01  663799.151467  673915.560437  685239.302031  663799.151467   \n",
      "27 2022-04-01  663785.429540  646168.996714  657237.359816  663785.429540   \n",
      "28 2022-05-01  663772.150256  661573.544621  673121.143500  663772.150256   \n",
      "29 2022-06-01  663758.428329  655931.952695  667733.610259  663758.428329   \n",
      "30 2022-07-01  663745.149046  671442.932765  682726.872538  663745.149046   \n",
      "31 2022-08-01  663731.427122  668685.176745  680046.692437  663731.427122   \n",
      "32 2022-09-01  663717.705199  643118.582687  654807.218796  663717.705199   \n",
      "33 2022-10-01  663704.425919  672550.096219  683616.529974  663704.425919   \n",
      "34 2022-11-01  663690.703996  649349.738600  660575.732228  663690.703996   \n",
      "35 2022-12-01  663677.424715  663151.568932  674730.454638  663677.424715   \n",
      "36 2023-01-01  663663.702792  663091.246456  674807.418866  663663.702792   \n",
      "37 2023-02-01  663649.980869  611287.288182  622648.750515  663649.980869   \n",
      "38 2023-03-01  663637.586874  675552.069931  687089.448394  663637.586874   \n",
      "39 2023-04-01  663623.864951  641864.382891  653324.998920  663623.864951   \n",
      "40 2023-05-01  663610.585671  660514.433431  671684.979857  663610.585671   \n",
      "41 2023-05-31  663597.306390  662050.935150  673285.609112  663561.294504   \n",
      "42 2023-06-30  663584.027110  662497.577198  674430.606714  663469.171909   \n",
      "43 2023-07-31  663570.305187  673417.926265  685151.261641  663321.436069   \n",
      "44 2023-08-31  663556.583264  640919.603459  652438.635998  663132.437720   \n",
      "45 2023-09-30  663543.303984  699759.396392  711054.553728  662937.662661   \n",
      "46 2023-10-31  663529.582060  634121.348121  645412.135863  662734.508005   \n",
      "47 2023-11-30  663516.302780  649343.982095  660977.045125  662513.401241   \n",
      "48 2023-12-31  663502.580857  640780.768152  652412.444804  662301.139951   \n",
      "49 2024-01-31  663488.858934  644092.055045  655943.902755  662077.439871   \n",
      "50 2024-02-29  663476.022296  676819.982573  688551.843333  661844.191995   \n",
      "51 2024-03-31  663462.300373  637717.035911  649631.179790  661590.847504   \n",
      "52 2024-04-30  663449.021093  658858.174868  671260.548062  661310.647557   \n",
      "\n",
      "      trend_upper  additive_terms  additive_terms_lower  additive_terms_upper  \\\n",
      "0   673176.823288      393.883434            393.883434            393.883434   \n",
      "1   671544.929478   -40336.750688         -40336.750688         -40336.750688   \n",
      "2   670018.319138    11346.504024          11346.504024          11346.504024   \n",
      "3   668389.101304    -4753.096984          -4753.096984          -4753.096984   \n",
      "4   666812.438884     5679.609640           5679.609640           5679.609640   \n",
      "5   666616.904507    -4631.449825          -4631.449825          -4631.449825   \n",
      "6   666429.823785    17501.139330          17501.139330          17501.139330   \n",
      "7   666236.507036     9121.704912           9121.704912           9121.704912   \n",
      "8   666043.190291   -13455.611019         -13455.611019         -13455.611019   \n",
      "9   665856.109571     3076.406025           3076.406025           3076.406025   \n",
      "10  665662.792821    -3672.915486          -3672.915486          -3672.915486   \n",
      "11  665475.712093    10374.713024          10374.713024          10374.713024   \n",
      "12  665282.395335    14893.480692          14893.480692          14893.480692   \n",
      "13  665089.078571   -59055.026012         -59055.026012         -59055.026012   \n",
      "14  664914.469881    13517.621322          13517.621322          13517.621322   \n",
      "15  664721.153115    -8408.275997          -8408.275997          -8408.275997   \n",
      "16  664534.072379     4579.966621           4579.966621           4579.966621   \n",
      "17  664340.755626    -3389.046258          -3389.046258          -3389.046258   \n",
      "18  664155.143092    15644.291140          15644.291140          15644.291140   \n",
      "19  663963.343473     9920.557693           9920.557693           9920.557693   \n",
      "20  663923.135245   -14174.563446         -14174.563446         -14174.563446   \n",
      "21  663895.776693     8822.289263           8822.289263           8822.289263   \n",
      "22  663872.023361    -6136.003116          -6136.003116          -6136.003116   \n",
      "23  663850.461847     7737.965348           7737.965348           7737.965348   \n",
      "24  663828.181616     9920.841654           9920.841654           9920.841654   \n",
      "25  663811.545469   -52960.731366         -52960.731366         -52960.731366   \n",
      "26  663799.151467    15540.567994          15540.567994          15540.567994   \n",
      "27  663785.429540   -12135.796242         -12135.796242         -12135.796242   \n",
      "28  663772.150256     3520.536969           3520.536969           3520.536969   \n",
      "29  663758.428329    -2133.922199          -2133.922199          -2133.922199   \n",
      "30  663745.149046    13796.313338          13796.313338          13796.313338   \n",
      "31  663731.427122    10757.250594          10757.250594          10757.250594   \n",
      "32  663717.705199   -14823.091579         -14823.091579         -14823.091579   \n",
      "33  663704.425919    14506.184197          14506.184197          14506.184197   \n",
      "34  663690.703996    -8730.060340          -8730.060340          -8730.060340   \n",
      "35  663677.424715     5078.111504           5078.111504           5078.111504   \n",
      "36  663663.702792     5085.960087           5085.960087           5085.960087   \n",
      "37  663649.980869   -46719.057398         -46719.057398         -46719.057398   \n",
      "38  663637.586874    17412.038953          17412.038953          17412.038953   \n",
      "39  663623.864951   -15931.721027         -15931.721027         -15931.721027   \n",
      "40  663610.585671     2503.372847           2503.372847           2503.372847   \n",
      "41  663630.349825     4314.252229           4314.252229           4314.252229   \n",
      "42  663694.302129     4743.420920           4743.420920           4743.420920   \n",
      "43  663783.184212    15492.718534          15492.718534          15492.718534   \n",
      "44  663890.571702   -17052.886553         -17052.886553         -17052.886553   \n",
      "45  664033.621097    41793.886697          41793.886697          41793.886697   \n",
      "46  664180.862694   -23575.156373         -23575.156373         -23575.156373   \n",
      "47  664360.220710    -8384.790992          -8384.790992          -8384.790992   \n",
      "48  664541.758002   -16854.783407         -16854.783407         -16854.783407   \n",
      "49  664756.417417   -13543.981129         -13543.981129         -13543.981129   \n",
      "50  664958.338256    19128.976557          19128.976557          19128.976557   \n",
      "51  665185.332772   -19791.970392         -19791.970392         -19791.970392   \n",
      "52  665446.129460     1530.466512           1530.466512           1530.466512   \n",
      "\n",
      "          yearly  yearly_lower  yearly_upper  multiplicative_terms  \\\n",
      "0     393.883434    393.883434    393.883434                   0.0   \n",
      "1  -40336.750688 -40336.750688 -40336.750688                   0.0   \n",
      "2   11346.504024  11346.504024  11346.504024                   0.0   \n",
      "3   -4753.096984  -4753.096984  -4753.096984                   0.0   \n",
      "4    5679.609640   5679.609640   5679.609640                   0.0   \n",
      "5   -4631.449825  -4631.449825  -4631.449825                   0.0   \n",
      "6   17501.139330  17501.139330  17501.139330                   0.0   \n",
      "7    9121.704912   9121.704912   9121.704912                   0.0   \n",
      "8  -13455.611019 -13455.611019 -13455.611019                   0.0   \n",
      "9    3076.406025   3076.406025   3076.406025                   0.0   \n",
      "10  -3672.915486  -3672.915486  -3672.915486                   0.0   \n",
      "11  10374.713024  10374.713024  10374.713024                   0.0   \n",
      "12  14893.480692  14893.480692  14893.480692                   0.0   \n",
      "13 -59055.026012 -59055.026012 -59055.026012                   0.0   \n",
      "14  13517.621322  13517.621322  13517.621322                   0.0   \n",
      "15  -8408.275997  -8408.275997  -8408.275997                   0.0   \n",
      "16   4579.966621   4579.966621   4579.966621                   0.0   \n",
      "17  -3389.046258  -3389.046258  -3389.046258                   0.0   \n",
      "18  15644.291140  15644.291140  15644.291140                   0.0   \n",
      "19   9920.557693   9920.557693   9920.557693                   0.0   \n",
      "20 -14174.563446 -14174.563446 -14174.563446                   0.0   \n",
      "21   8822.289263   8822.289263   8822.289263                   0.0   \n",
      "22  -6136.003116  -6136.003116  -6136.003116                   0.0   \n",
      "23   7737.965348   7737.965348   7737.965348                   0.0   \n",
      "24   9920.841654   9920.841654   9920.841654                   0.0   \n",
      "25 -52960.731366 -52960.731366 -52960.731366                   0.0   \n",
      "26  15540.567994  15540.567994  15540.567994                   0.0   \n",
      "27 -12135.796242 -12135.796242 -12135.796242                   0.0   \n",
      "28   3520.536969   3520.536969   3520.536969                   0.0   \n",
      "29  -2133.922199  -2133.922199  -2133.922199                   0.0   \n",
      "30  13796.313338  13796.313338  13796.313338                   0.0   \n",
      "31  10757.250594  10757.250594  10757.250594                   0.0   \n",
      "32 -14823.091579 -14823.091579 -14823.091579                   0.0   \n",
      "33  14506.184197  14506.184197  14506.184197                   0.0   \n",
      "34  -8730.060340  -8730.060340  -8730.060340                   0.0   \n",
      "35   5078.111504   5078.111504   5078.111504                   0.0   \n",
      "36   5085.960087   5085.960087   5085.960087                   0.0   \n",
      "37 -46719.057398 -46719.057398 -46719.057398                   0.0   \n",
      "38  17412.038953  17412.038953  17412.038953                   0.0   \n",
      "39 -15931.721027 -15931.721027 -15931.721027                   0.0   \n",
      "40   2503.372847   2503.372847   2503.372847                   0.0   \n",
      "41   4314.252229   4314.252229   4314.252229                   0.0   \n",
      "42   4743.420920   4743.420920   4743.420920                   0.0   \n",
      "43  15492.718534  15492.718534  15492.718534                   0.0   \n",
      "44 -17052.886553 -17052.886553 -17052.886553                   0.0   \n",
      "45  41793.886697  41793.886697  41793.886697                   0.0   \n",
      "46 -23575.156373 -23575.156373 -23575.156373                   0.0   \n",
      "47  -8384.790992  -8384.790992  -8384.790992                   0.0   \n",
      "48 -16854.783407 -16854.783407 -16854.783407                   0.0   \n",
      "49 -13543.981129 -13543.981129 -13543.981129                   0.0   \n",
      "50  19128.976557  19128.976557  19128.976557                   0.0   \n",
      "51 -19791.970392 -19791.970392 -19791.970392                   0.0   \n",
      "52   1530.466512   1530.466512   1530.466512                   0.0   \n",
      "\n",
      "    multiplicative_terms_lower  multiplicative_terms_upper           yhat  \n",
      "0                          0.0                         0.0  673570.706722  \n",
      "1                          0.0                         0.0  631208.178790  \n",
      "2                          0.0                         0.0  681364.823162  \n",
      "3                          0.0                         0.0  663636.004320  \n",
      "4                          0.0                         0.0  672492.048523  \n",
      "5                          0.0                         0.0  661985.454683  \n",
      "6                          0.0                         0.0  683930.963114  \n",
      "7                          0.0                         0.0  675358.211949  \n",
      "8                          0.0                         0.0  652587.579272  \n",
      "9                          0.0                         0.0  668932.515596  \n",
      "10                         0.0                         0.0  661989.877336  \n",
      "11                         0.0                         0.0  675850.425117  \n",
      "12                         0.0                         0.0  680175.876027  \n",
      "13                         0.0                         0.0  606034.052559  \n",
      "14                         0.0                         0.0  678432.091203  \n",
      "15                         0.0                         0.0  656312.877118  \n",
      "16                         0.0                         0.0  669114.039000  \n",
      "17                         0.0                         0.0  660951.709368  \n",
      "18                         0.0                         0.0  679799.434232  \n",
      "19                         0.0                         0.0  673883.901165  \n",
      "20                         0.0                         0.0  649748.571799  \n",
      "21                         0.0                         0.0  672718.065956  \n",
      "22                         0.0                         0.0  657736.020245  \n",
      "23                         0.0                         0.0  671588.427195  \n",
      "24                         0.0                         0.0  673749.023270  \n",
      "25                         0.0                         0.0  610850.814103  \n",
      "26                         0.0                         0.0  679339.719461  \n",
      "27                         0.0                         0.0  651649.633298  \n",
      "28                         0.0                         0.0  667292.687225  \n",
      "29                         0.0                         0.0  661624.506130  \n",
      "30                         0.0                         0.0  677541.462384  \n",
      "31                         0.0                         0.0  674488.677716  \n",
      "32                         0.0                         0.0  648894.613620  \n",
      "33                         0.0                         0.0  678210.610116  \n",
      "34                         0.0                         0.0  654960.643655  \n",
      "35                         0.0                         0.0  668755.536220  \n",
      "36                         0.0                         0.0  668749.662879  \n",
      "37                         0.0                         0.0  616930.923471  \n",
      "38                         0.0                         0.0  681049.625828  \n",
      "39                         0.0                         0.0  647692.143924  \n",
      "40                         0.0                         0.0  666113.958518  \n",
      "41                         0.0                         0.0  667911.558620  \n",
      "42                         0.0                         0.0  668327.448030  \n",
      "43                         0.0                         0.0  679063.023721  \n",
      "44                         0.0                         0.0  646503.696710  \n",
      "45                         0.0                         0.0  705337.190681  \n",
      "46                         0.0                         0.0  639954.425687  \n",
      "47                         0.0                         0.0  655131.511788  \n",
      "48                         0.0                         0.0  646647.797450  \n",
      "49                         0.0                         0.0  649944.877805  \n",
      "50                         0.0                         0.0  682604.998853  \n",
      "51                         0.0                         0.0  643670.329981  \n",
      "52                         0.0                         0.0  664979.487605  \n",
      "\n",
      "Dates in test not in forecast:\n",
      "           ds          y\n",
      "41 2023-06-01  644854.11\n",
      "42 2023-07-01  686292.34\n",
      "43 2023-08-01  678686.36\n",
      "44 2023-09-01  661039.98\n",
      "45 2023-10-01  677284.75\n",
      "46 2023-11-01  662716.19\n",
      "47 2023-12-01  685203.18\n",
      "48 2024-01-01  678089.72\n",
      "49 2024-02-01  630481.23\n",
      "50 2024-03-01  669631.15\n",
      "51 2024-04-01  645977.02\n",
      "52 2024-05-01  393691.86\n"
     ]
    }
   ],
   "source": [
    "# Find dates in forecast that are not in test\n",
    "missing_in_test = forecast[~forecast['ds'].isin(test['ds'])]\n",
    "print(\"Dates in forecast not in test:\")\n",
    "print(missing_in_test)\n",
    "\n",
    "# Find dates in test that are not in forecast\n",
    "missing_in_forecast = test[~test['ds'].isin(forecast['ds'])]\n",
    "print(\"\\nDates in test not in forecast:\")\n",
    "print(missing_in_forecast)"
   ]
  },
  {
   "cell_type": "code",
   "execution_count": 451,
   "id": "799802ab-4f86-4e4b-a8d4-e3fe5ac358ac",
   "metadata": {},
   "outputs": [
    {
     "name": "stdout",
     "output_type": "stream",
     "text": [
      "Merged DataFrame after corrections:\n",
      "Empty DataFrame\n",
      "Columns: [ds, yhat, y]\n",
      "Index: []\n"
     ]
    }
   ],
   "source": [
    "# Merge again after checks and corrections\n",
    "merged_df = forecast[['ds', 'yhat']].merge(test[['ds', 'y']], on='ds', how='inner')\n",
    "print(\"Merged DataFrame after corrections:\")\n",
    "print(merged_df.head())"
   ]
  }
 ],
 "metadata": {
  "kernelspec": {
   "display_name": "Python 3 (ipykernel)",
   "language": "python",
   "name": "python3"
  },
  "language_info": {
   "codemirror_mode": {
    "name": "ipython",
    "version": 3
   },
   "file_extension": ".py",
   "mimetype": "text/x-python",
   "name": "python",
   "nbconvert_exporter": "python",
   "pygments_lexer": "ipython3",
   "version": "3.11.7"
  }
 },
 "nbformat": 4,
 "nbformat_minor": 5
}
