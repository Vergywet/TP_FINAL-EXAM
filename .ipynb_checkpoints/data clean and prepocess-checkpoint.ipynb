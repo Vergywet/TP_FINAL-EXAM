{
 "cells": [
  {
   "cell_type": "markdown",
   "id": "d00f76a6-c6f0-4440-be04-7d2dc2ee1145",
   "metadata": {},
   "source": [
    "## Data Clean and Prepocessing"
   ]
  },
  {
   "cell_type": "code",
   "execution_count": 51,
   "id": "80f7dee9-e9ef-4e63-8c26-a17d9cce15ea",
   "metadata": {},
   "outputs": [],
   "source": [
    "#Importing the useful libraries \n",
    "import pandas as pd\n",
    "import matplotlib.pyplot as plt\n",
    "import numpy as np\n",
    "from sklearn.preprocessing import StandardScaler"
   ]
  },
  {
   "cell_type": "code",
   "execution_count": 52,
   "id": "4a7e62d3-54f5-4b1e-9088-6d1dae4d1006",
   "metadata": {},
   "outputs": [
    {
     "data": {
      "text/plain": [
       "<bound method DataFrame.info of         PeopleInHousehold Region    State  MetroAreaCode  Age        Married  \\\n",
       "0                       1  South  Alabama        26620.0   85        Widowed   \n",
       "1                       3  South  Alabama        13820.0   21  Never Married   \n",
       "2                       3  South  Alabama        13820.0   37  Never Married   \n",
       "3                       3  South  Alabama        13820.0   18  Never Married   \n",
       "4                       3  South  Alabama        26620.0   52        Widowed   \n",
       "...                   ...    ...      ...            ...  ...            ...   \n",
       "131297                  5   West  Wyoming            NaN   17  Never Married   \n",
       "131298                  5   West  Wyoming            NaN   37       Divorced   \n",
       "131299                  3   West  Wyoming            NaN   58        Married   \n",
       "131300                  3   West  Wyoming            NaN   53        Married   \n",
       "131301                  3   West  Wyoming            NaN   14            NaN   \n",
       "\n",
       "           Sex               Education   Race  Hispanic  CountryOfBirthCode  \\\n",
       "0       Female        Associate degree  White         0                  57   \n",
       "1         Male             High school  Black         0                  57   \n",
       "2       Female             High school  Black         0                  57   \n",
       "3         Male  No high school diploma  Black         0                  57   \n",
       "4       Female        Associate degree  White         0                  57   \n",
       "...        ...                     ...    ...       ...                 ...   \n",
       "131297    Male  No high school diploma  White         0                  57   \n",
       "131298    Male             High school  White         0                  57   \n",
       "131299    Male       Bachelor's degree  White         0                  57   \n",
       "131300  Female        Associate degree  White         0                  57   \n",
       "131301  Female                     NaN  White         0                  57   \n",
       "\n",
       "            Citizenship    EmploymentStatus  \\\n",
       "0       Citizen, Native             Retired   \n",
       "1       Citizen, Native          Unemployed   \n",
       "2       Citizen, Native            Disabled   \n",
       "3       Citizen, Native  Not in Labor Force   \n",
       "4       Citizen, Native            Employed   \n",
       "...                 ...                 ...   \n",
       "131297  Citizen, Native  Not in Labor Force   \n",
       "131298  Citizen, Native            Employed   \n",
       "131299  Citizen, Native            Employed   \n",
       "131300  Citizen, Native  Not in Labor Force   \n",
       "131301  Citizen, Native                 NaN   \n",
       "\n",
       "                                  Industry  \n",
       "0                                      NaN  \n",
       "1       Professional and business services  \n",
       "2                                      NaN  \n",
       "3                                      NaN  \n",
       "4       Professional and business services  \n",
       "...                                    ...  \n",
       "131297                                 NaN  \n",
       "131298                              Mining  \n",
       "131299                           Financial  \n",
       "131300                                 NaN  \n",
       "131301                                 NaN  \n",
       "\n",
       "[131302 rows x 14 columns]>"
      ]
     },
     "execution_count": 52,
     "metadata": {},
     "output_type": "execute_result"
    }
   ],
   "source": [
    "#Loading the dataset \n",
    "df = pd.read_csv(r\"C:\\Users\\User\\Downloads\\CPSData.csv\\CPSData.csv\")\n",
    "df.info"
   ]
  },
  {
   "cell_type": "code",
   "execution_count": 53,
   "id": "941e4e74-d95c-4360-9299-776ddfa4394a",
   "metadata": {},
   "outputs": [
    {
     "data": {
      "text/html": [
       "<div>\n",
       "<style scoped>\n",
       "    .dataframe tbody tr th:only-of-type {\n",
       "        vertical-align: middle;\n",
       "    }\n",
       "\n",
       "    .dataframe tbody tr th {\n",
       "        vertical-align: top;\n",
       "    }\n",
       "\n",
       "    .dataframe thead th {\n",
       "        text-align: right;\n",
       "    }\n",
       "</style>\n",
       "<table border=\"1\" class=\"dataframe\">\n",
       "  <thead>\n",
       "    <tr style=\"text-align: right;\">\n",
       "      <th></th>\n",
       "      <th>PeopleInHousehold</th>\n",
       "      <th>Region</th>\n",
       "      <th>State</th>\n",
       "      <th>MetroAreaCode</th>\n",
       "      <th>Age</th>\n",
       "      <th>Married</th>\n",
       "      <th>Sex</th>\n",
       "      <th>Education</th>\n",
       "      <th>Race</th>\n",
       "      <th>Hispanic</th>\n",
       "      <th>CountryOfBirthCode</th>\n",
       "      <th>Citizenship</th>\n",
       "      <th>EmploymentStatus</th>\n",
       "      <th>Industry</th>\n",
       "    </tr>\n",
       "  </thead>\n",
       "  <tbody>\n",
       "    <tr>\n",
       "      <th>0</th>\n",
       "      <td>1</td>\n",
       "      <td>South</td>\n",
       "      <td>Alabama</td>\n",
       "      <td>26620.0</td>\n",
       "      <td>85</td>\n",
       "      <td>Widowed</td>\n",
       "      <td>Female</td>\n",
       "      <td>Associate degree</td>\n",
       "      <td>White</td>\n",
       "      <td>0</td>\n",
       "      <td>57</td>\n",
       "      <td>Citizen, Native</td>\n",
       "      <td>Retired</td>\n",
       "      <td>NaN</td>\n",
       "    </tr>\n",
       "    <tr>\n",
       "      <th>1</th>\n",
       "      <td>3</td>\n",
       "      <td>South</td>\n",
       "      <td>Alabama</td>\n",
       "      <td>13820.0</td>\n",
       "      <td>21</td>\n",
       "      <td>Never Married</td>\n",
       "      <td>Male</td>\n",
       "      <td>High school</td>\n",
       "      <td>Black</td>\n",
       "      <td>0</td>\n",
       "      <td>57</td>\n",
       "      <td>Citizen, Native</td>\n",
       "      <td>Unemployed</td>\n",
       "      <td>Professional and business services</td>\n",
       "    </tr>\n",
       "    <tr>\n",
       "      <th>2</th>\n",
       "      <td>3</td>\n",
       "      <td>South</td>\n",
       "      <td>Alabama</td>\n",
       "      <td>13820.0</td>\n",
       "      <td>37</td>\n",
       "      <td>Never Married</td>\n",
       "      <td>Female</td>\n",
       "      <td>High school</td>\n",
       "      <td>Black</td>\n",
       "      <td>0</td>\n",
       "      <td>57</td>\n",
       "      <td>Citizen, Native</td>\n",
       "      <td>Disabled</td>\n",
       "      <td>NaN</td>\n",
       "    </tr>\n",
       "    <tr>\n",
       "      <th>3</th>\n",
       "      <td>3</td>\n",
       "      <td>South</td>\n",
       "      <td>Alabama</td>\n",
       "      <td>13820.0</td>\n",
       "      <td>18</td>\n",
       "      <td>Never Married</td>\n",
       "      <td>Male</td>\n",
       "      <td>No high school diploma</td>\n",
       "      <td>Black</td>\n",
       "      <td>0</td>\n",
       "      <td>57</td>\n",
       "      <td>Citizen, Native</td>\n",
       "      <td>Not in Labor Force</td>\n",
       "      <td>NaN</td>\n",
       "    </tr>\n",
       "    <tr>\n",
       "      <th>4</th>\n",
       "      <td>3</td>\n",
       "      <td>South</td>\n",
       "      <td>Alabama</td>\n",
       "      <td>26620.0</td>\n",
       "      <td>52</td>\n",
       "      <td>Widowed</td>\n",
       "      <td>Female</td>\n",
       "      <td>Associate degree</td>\n",
       "      <td>White</td>\n",
       "      <td>0</td>\n",
       "      <td>57</td>\n",
       "      <td>Citizen, Native</td>\n",
       "      <td>Employed</td>\n",
       "      <td>Professional and business services</td>\n",
       "    </tr>\n",
       "  </tbody>\n",
       "</table>\n",
       "</div>"
      ],
      "text/plain": [
       "   PeopleInHousehold Region    State  MetroAreaCode  Age        Married  \\\n",
       "0                  1  South  Alabama        26620.0   85        Widowed   \n",
       "1                  3  South  Alabama        13820.0   21  Never Married   \n",
       "2                  3  South  Alabama        13820.0   37  Never Married   \n",
       "3                  3  South  Alabama        13820.0   18  Never Married   \n",
       "4                  3  South  Alabama        26620.0   52        Widowed   \n",
       "\n",
       "      Sex               Education   Race  Hispanic  CountryOfBirthCode  \\\n",
       "0  Female        Associate degree  White         0                  57   \n",
       "1    Male             High school  Black         0                  57   \n",
       "2  Female             High school  Black         0                  57   \n",
       "3    Male  No high school diploma  Black         0                  57   \n",
       "4  Female        Associate degree  White         0                  57   \n",
       "\n",
       "       Citizenship    EmploymentStatus                            Industry  \n",
       "0  Citizen, Native             Retired                                 NaN  \n",
       "1  Citizen, Native          Unemployed  Professional and business services  \n",
       "2  Citizen, Native            Disabled                                 NaN  \n",
       "3  Citizen, Native  Not in Labor Force                                 NaN  \n",
       "4  Citizen, Native            Employed  Professional and business services  "
      ]
     },
     "execution_count": 53,
     "metadata": {},
     "output_type": "execute_result"
    }
   ],
   "source": [
    "#Printing the first five rows of the dataset\n",
    "df.head()"
   ]
  },
  {
   "cell_type": "code",
   "execution_count": 54,
   "id": "6105fead-bdcd-4c81-af89-262e6ec0c781",
   "metadata": {},
   "outputs": [
    {
     "name": "stdout",
     "output_type": "stream",
     "text": [
      "Index(['PeopleInHousehold', 'Region', 'State', 'MetroAreaCode', 'Age',\n",
      "       'Married', 'Sex', 'Education', 'Race', 'Hispanic', 'CountryOfBirthCode',\n",
      "       'Citizenship', 'EmploymentStatus', 'Industry'],\n",
      "      dtype='object')\n",
      "The dataset size :  1838228\n"
     ]
    }
   ],
   "source": [
    "# View the columns of the DataFrame\n",
    "print(df.columns)\n",
    "print(\"The dataset size : \",df.size)"
   ]
  },
  {
   "cell_type": "code",
   "execution_count": 55,
   "id": "81c98528-9bba-42b7-994c-32b7141cf1a2",
   "metadata": {},
   "outputs": [
    {
     "name": "stdout",
     "output_type": "stream",
     "text": [
      "PeopleInHousehold         0\n",
      "Region                    0\n",
      "State                     0\n",
      "MetroAreaCode         34238\n",
      "Age                       0\n",
      "Married               25338\n",
      "Sex                       0\n",
      "Education             25338\n",
      "Race                      0\n",
      "Hispanic                  0\n",
      "CountryOfBirthCode        0\n",
      "Citizenship               0\n",
      "EmploymentStatus      25789\n",
      "Industry              65060\n",
      "dtype: int64\n"
     ]
    }
   ],
   "source": [
    "# Print the count of missing values (null values) in each column of the DataFrame\n",
    "print(df.isnull().sum())"
   ]
  },
  {
   "cell_type": "code",
   "execution_count": 56,
   "id": "13586c10-ba37-4c8b-b04f-9b95a8153822",
   "metadata": {
    "scrolled": true
   },
   "outputs": [],
   "source": [
    "# Handle missing values without using inplace\n",
    "df['MetroAreaCode'] = df['MetroAreaCode'].fillna(df['MetroAreaCode'].mode()[0])\n",
    "\n",
    "# For other categorical columns, fill missing values with 'Unknown'\n",
    "df['Married'] = df['Married'].fillna('Unknown')\n",
    "df['Education'] = df['Education'].fillna('Unknown')\n",
    "df['EmploymentStatus'] = df['EmploymentStatus'].fillna('Unknown')\n",
    "df['Industry'] = df['Industry'].fillna('Unknown')"
   ]
  },
  {
   "cell_type": "code",
   "execution_count": 57,
   "id": "de924891-5622-4d73-81dd-dfaa8612bfda",
   "metadata": {},
   "outputs": [
    {
     "name": "stdout",
     "output_type": "stream",
     "text": [
      "PeopleInHousehold     0\n",
      "Region                0\n",
      "State                 0\n",
      "MetroAreaCode         0\n",
      "Age                   0\n",
      "Married               0\n",
      "Sex                   0\n",
      "Education             0\n",
      "Race                  0\n",
      "Hispanic              0\n",
      "CountryOfBirthCode    0\n",
      "Citizenship           0\n",
      "EmploymentStatus      0\n",
      "Industry              0\n",
      "dtype: int64\n"
     ]
    }
   ],
   "source": [
    "print(df.isnull().sum())"
   ]
  },
  {
   "cell_type": "code",
   "execution_count": 58,
   "id": "a0e19880-19ad-473c-b731-c9e7393821ae",
   "metadata": {},
   "outputs": [
    {
     "name": "stdout",
     "output_type": "stream",
     "text": [
      "   PeopleInHousehold Region    State  MetroAreaCode  Age        Married  \\\n",
      "1                  3  South  Alabama        13820.0   21  Never Married   \n",
      "2                  3  South  Alabama        13820.0   37  Never Married   \n",
      "3                  3  South  Alabama        13820.0   18  Never Married   \n",
      "4                  3  South  Alabama        26620.0   52        Widowed   \n",
      "5                  3  South  Alabama        26620.0   24  Never Married   \n",
      "\n",
      "      Sex               Education   Race  Hispanic  CountryOfBirthCode  \\\n",
      "1    Male             High school  Black         0                  57   \n",
      "2  Female             High school  Black         0                  57   \n",
      "3    Male  No high school diploma  Black         0                  57   \n",
      "4  Female        Associate degree  White         0                  57   \n",
      "5    Male       Bachelor's degree  White         0                  57   \n",
      "\n",
      "       Citizenship    EmploymentStatus                            Industry  \n",
      "1  Citizen, Native          Unemployed  Professional and business services  \n",
      "2  Citizen, Native            Disabled                             Unknown  \n",
      "3  Citizen, Native  Not in Labor Force                             Unknown  \n",
      "4  Citizen, Native            Employed  Professional and business services  \n",
      "5  Citizen, Native            Employed     Educational and health services  \n"
     ]
    }
   ],
   "source": [
    "# Select multiple rows by position\n",
    "print(df.loc[1:5])# rows 1 to 5"
   ]
  },
  {
   "cell_type": "code",
   "execution_count": 59,
   "id": "f4ef96cf-0a4d-46f3-8fd7-93af202bcb94",
   "metadata": {},
   "outputs": [],
   "source": [
    "# 2. Feature engineering:\n",
    "# Create a new feature for Age groups\n",
    "df['AgeGroup'] = pd.cut(df['Age'], bins=[0, 18, 35, 50, 65, 100], labels=['Youth', 'Young Adult', 'Adult', 'Senior', 'Elderly'])\n",
    "\n",
    "# Create a feature for household size categories\n",
    "df['HouseholdSizeCategory'] = pd.cut(df['PeopleInHousehold'], bins=[0, 2, 4, 6, 10], labels=['Small', 'Medium', 'Large', 'Very Large'])"
   ]
  },
  {
   "cell_type": "code",
   "execution_count": 60,
   "id": "e71b5407-fd17-4662-8bdd-abc56ab28d30",
   "metadata": {},
   "outputs": [],
   "source": [
    "# 3. Encoding categorical variables:\n",
    "# Convert categorical variables into numerical format using one-hot encoding\n",
    "categorical_cols = df.select_dtypes(include=['object']).columns\n",
    "df_encoded = pd.get_dummies(df, columns=categorical_cols, drop_first=True)\n",
    "\n",
    "# 4. Scaling  numerical features:\n",
    "scaler = StandardScaler()\n",
    "\n",
    "# Identifying numerical columns\n",
    "numerical_cols = df.select_dtypes(include=['int64', 'float64']).columns\n",
    "\n",
    "# The scaling of  numerical columns\n",
    "df_encoded[numerical_cols] = scaler.fit_transform(df_encoded[numerical_cols])\n",
    "\n",
    "#Displaying the cleaned and processed dataset\n",
    "df_cleaned = df_encoded.head()\n",
    "df_cleaned\n",
    "\n",
    "# Saving the processed dataset to a CSV file \n",
    "df_encoded.to_csv('cleaned_CPSData.csv', index=False)"
   ]
  }
 ],
 "metadata": {
  "kernelspec": {
   "display_name": "Python 3 (ipykernel)",
   "language": "python",
   "name": "python3"
  },
  "language_info": {
   "codemirror_mode": {
    "name": "ipython",
    "version": 3
   },
   "file_extension": ".py",
   "mimetype": "text/x-python",
   "name": "python",
   "nbconvert_exporter": "python",
   "pygments_lexer": "ipython3",
   "version": "3.11.7"
  }
 },
 "nbformat": 4,
 "nbformat_minor": 5
}
