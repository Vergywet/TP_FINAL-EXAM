{
 "cells": [
  {
   "cell_type": "markdown",
   "id": "e210a3e3-ba73-4364-b2cc-12ee185447cf",
   "metadata": {},
   "source": [
    "## Classification(Predicting Withdrawals)"
   ]
  },
  {
   "cell_type": "code",
   "execution_count": 106,
   "id": "b5a0c992-c458-4b13-9683-a20755d587a3",
   "metadata": {},
   "outputs": [],
   "source": [
    "# Importing necessary libraries\n",
    "import pandas as pd\n",
    "import numpy as np\n",
    "import matplotlib.pyplot as plt\n",
    "import seaborn as sns\n",
    "from sklearn.model_selection import train_test_split\n",
    "from sklearn.preprocessing import StandardScaler, LabelEncoder\n",
    "from sklearn.ensemble import RandomForestClassifier\n",
    "from sklearn.tree import DecisionTreeClassifier  # Correct import\n",
    "from sklearn.linear_model import LogisticRegression\n",
    "from sklearn.metrics import classification_report, confusion_matrix, accuracy_score  # Correct import\n"
   ]
  },
  {
   "cell_type": "code",
   "execution_count": 107,
   "id": "f5cd5649-37b1-4afe-8474-5eff2729cf8a",
   "metadata": {},
   "outputs": [],
   "source": [
    "#Load the dataset\n",
    "df = pd.read_csv(r\"C:\\Users\\User\\Downloads\\CPSData.csv\\CPSData.csv\")"
   ]
  },
  {
   "cell_type": "code",
   "execution_count": 108,
   "id": "37859656-0a86-482b-a074-9106e10f577b",
   "metadata": {},
   "outputs": [
    {
     "name": "stdout",
     "output_type": "stream",
     "text": [
      "<class 'pandas.core.frame.DataFrame'>\n",
      "RangeIndex: 131302 entries, 0 to 131301\n",
      "Data columns (total 14 columns):\n",
      " #   Column              Non-Null Count   Dtype  \n",
      "---  ------              --------------   -----  \n",
      " 0   PeopleInHousehold   131302 non-null  int64  \n",
      " 1   Region              131302 non-null  object \n",
      " 2   State               131302 non-null  object \n",
      " 3   MetroAreaCode       97064 non-null   float64\n",
      " 4   Age                 131302 non-null  int64  \n",
      " 5   Married             105964 non-null  object \n",
      " 6   Sex                 131302 non-null  object \n",
      " 7   Education           105964 non-null  object \n",
      " 8   Race                131302 non-null  object \n",
      " 9   Hispanic            131302 non-null  int64  \n",
      " 10  CountryOfBirthCode  131302 non-null  int64  \n",
      " 11  Citizenship         131302 non-null  object \n",
      " 12  EmploymentStatus    105513 non-null  object \n",
      " 13  Industry            66242 non-null   object \n",
      "dtypes: float64(1), int64(4), object(9)\n",
      "memory usage: 14.0+ MB\n"
     ]
    },
    {
     "data": {
      "text/html": [
       "<div>\n",
       "<style scoped>\n",
       "    .dataframe tbody tr th:only-of-type {\n",
       "        vertical-align: middle;\n",
       "    }\n",
       "\n",
       "    .dataframe tbody tr th {\n",
       "        vertical-align: top;\n",
       "    }\n",
       "\n",
       "    .dataframe thead th {\n",
       "        text-align: right;\n",
       "    }\n",
       "</style>\n",
       "<table border=\"1\" class=\"dataframe\">\n",
       "  <thead>\n",
       "    <tr style=\"text-align: right;\">\n",
       "      <th></th>\n",
       "      <th>PeopleInHousehold</th>\n",
       "      <th>Region</th>\n",
       "      <th>State</th>\n",
       "      <th>MetroAreaCode</th>\n",
       "      <th>Age</th>\n",
       "      <th>Married</th>\n",
       "      <th>Sex</th>\n",
       "      <th>Education</th>\n",
       "      <th>Race</th>\n",
       "      <th>Hispanic</th>\n",
       "      <th>CountryOfBirthCode</th>\n",
       "      <th>Citizenship</th>\n",
       "      <th>EmploymentStatus</th>\n",
       "      <th>Industry</th>\n",
       "    </tr>\n",
       "  </thead>\n",
       "  <tbody>\n",
       "    <tr>\n",
       "      <th>0</th>\n",
       "      <td>1</td>\n",
       "      <td>South</td>\n",
       "      <td>Alabama</td>\n",
       "      <td>26620.0</td>\n",
       "      <td>85</td>\n",
       "      <td>Widowed</td>\n",
       "      <td>Female</td>\n",
       "      <td>Associate degree</td>\n",
       "      <td>White</td>\n",
       "      <td>0</td>\n",
       "      <td>57</td>\n",
       "      <td>Citizen, Native</td>\n",
       "      <td>Retired</td>\n",
       "      <td>NaN</td>\n",
       "    </tr>\n",
       "    <tr>\n",
       "      <th>1</th>\n",
       "      <td>3</td>\n",
       "      <td>South</td>\n",
       "      <td>Alabama</td>\n",
       "      <td>13820.0</td>\n",
       "      <td>21</td>\n",
       "      <td>Never Married</td>\n",
       "      <td>Male</td>\n",
       "      <td>High school</td>\n",
       "      <td>Black</td>\n",
       "      <td>0</td>\n",
       "      <td>57</td>\n",
       "      <td>Citizen, Native</td>\n",
       "      <td>Unemployed</td>\n",
       "      <td>Professional and business services</td>\n",
       "    </tr>\n",
       "    <tr>\n",
       "      <th>2</th>\n",
       "      <td>3</td>\n",
       "      <td>South</td>\n",
       "      <td>Alabama</td>\n",
       "      <td>13820.0</td>\n",
       "      <td>37</td>\n",
       "      <td>Never Married</td>\n",
       "      <td>Female</td>\n",
       "      <td>High school</td>\n",
       "      <td>Black</td>\n",
       "      <td>0</td>\n",
       "      <td>57</td>\n",
       "      <td>Citizen, Native</td>\n",
       "      <td>Disabled</td>\n",
       "      <td>NaN</td>\n",
       "    </tr>\n",
       "    <tr>\n",
       "      <th>3</th>\n",
       "      <td>3</td>\n",
       "      <td>South</td>\n",
       "      <td>Alabama</td>\n",
       "      <td>13820.0</td>\n",
       "      <td>18</td>\n",
       "      <td>Never Married</td>\n",
       "      <td>Male</td>\n",
       "      <td>No high school diploma</td>\n",
       "      <td>Black</td>\n",
       "      <td>0</td>\n",
       "      <td>57</td>\n",
       "      <td>Citizen, Native</td>\n",
       "      <td>Not in Labor Force</td>\n",
       "      <td>NaN</td>\n",
       "    </tr>\n",
       "    <tr>\n",
       "      <th>4</th>\n",
       "      <td>3</td>\n",
       "      <td>South</td>\n",
       "      <td>Alabama</td>\n",
       "      <td>26620.0</td>\n",
       "      <td>52</td>\n",
       "      <td>Widowed</td>\n",
       "      <td>Female</td>\n",
       "      <td>Associate degree</td>\n",
       "      <td>White</td>\n",
       "      <td>0</td>\n",
       "      <td>57</td>\n",
       "      <td>Citizen, Native</td>\n",
       "      <td>Employed</td>\n",
       "      <td>Professional and business services</td>\n",
       "    </tr>\n",
       "  </tbody>\n",
       "</table>\n",
       "</div>"
      ],
      "text/plain": [
       "   PeopleInHousehold Region    State  MetroAreaCode  Age        Married  \\\n",
       "0                  1  South  Alabama        26620.0   85        Widowed   \n",
       "1                  3  South  Alabama        13820.0   21  Never Married   \n",
       "2                  3  South  Alabama        13820.0   37  Never Married   \n",
       "3                  3  South  Alabama        13820.0   18  Never Married   \n",
       "4                  3  South  Alabama        26620.0   52        Widowed   \n",
       "\n",
       "      Sex               Education   Race  Hispanic  CountryOfBirthCode  \\\n",
       "0  Female        Associate degree  White         0                  57   \n",
       "1    Male             High school  Black         0                  57   \n",
       "2  Female             High school  Black         0                  57   \n",
       "3    Male  No high school diploma  Black         0                  57   \n",
       "4  Female        Associate degree  White         0                  57   \n",
       "\n",
       "       Citizenship    EmploymentStatus                            Industry  \n",
       "0  Citizen, Native             Retired                                 NaN  \n",
       "1  Citizen, Native          Unemployed  Professional and business services  \n",
       "2  Citizen, Native            Disabled                                 NaN  \n",
       "3  Citizen, Native  Not in Labor Force                                 NaN  \n",
       "4  Citizen, Native            Employed  Professional and business services  "
      ]
     },
     "execution_count": 108,
     "metadata": {},
     "output_type": "execute_result"
    }
   ],
   "source": [
    "#Display the basic information and the first few rows of the dataset\n",
    "df.info()\n",
    "df.head()"
   ]
  },
  {
   "cell_type": "markdown",
   "id": "84ef0d81-32a2-46f1-b1b1-afc6ff4d175f",
   "metadata": {},
   "source": [
    "## Data Prepocessing"
   ]
  },
  {
   "cell_type": "code",
   "execution_count": 109,
   "id": "f955b4b9-8a69-452e-a7da-6a657be7b5f1",
   "metadata": {},
   "outputs": [],
   "source": [
    "# Handle missing values without using inplace\n",
    "df['MetroAreaCode'] = df['MetroAreaCode'].fillna(df['MetroAreaCode'].mode()[0])\n",
    "\n",
    "# For other categorical columns, fill missing values with 'Unknown'\n",
    "df['Married'] = df['Married'].fillna('Unknown')\n",
    "df['Education'] = df['Education'].fillna('Unknown')\n",
    "df['EmploymentStatus'] = df['EmploymentStatus'].fillna('Unknown')\n",
    "df['Industry'] = df['Industry'].fillna('Unknown')"
   ]
  },
  {
   "cell_type": "code",
   "execution_count": 110,
   "id": "23c2a648-a753-4408-a8f6-60f80815a2ef",
   "metadata": {},
   "outputs": [
    {
     "name": "stdout",
     "output_type": "stream",
     "text": [
      "PeopleInHousehold     0\n",
      "Region                0\n",
      "State                 0\n",
      "MetroAreaCode         0\n",
      "Age                   0\n",
      "Married               0\n",
      "Sex                   0\n",
      "Education             0\n",
      "Race                  0\n",
      "Hispanic              0\n",
      "CountryOfBirthCode    0\n",
      "Citizenship           0\n",
      "EmploymentStatus      0\n",
      "Industry              0\n",
      "dtype: int64\n"
     ]
    }
   ],
   "source": [
    "print(df.isnull().sum())"
   ]
  },
  {
   "cell_type": "code",
   "execution_count": 111,
   "id": "578ddc03-83b0-41ed-8f97-1bc5b78c1bb2",
   "metadata": {},
   "outputs": [],
   "source": [
    "# Feature Selectionprint(df)"
   ]
  },
  {
   "cell_type": "code",
   "execution_count": 112,
   "id": "03179a44-4b55-4b5f-8a02-f7b2ab10283c",
   "metadata": {},
   "outputs": [
    {
     "name": "stdout",
     "output_type": "stream",
     "text": [
      "['PeopleInHousehold', 'Region', 'State', 'MetroAreaCode', 'Age', 'Married', 'Sex', 'Education', 'Race', 'Hispanic', 'CountryOfBirthCode', 'Citizenship', 'EmploymentStatus', 'Industry']\n"
     ]
    }
   ],
   "source": [
    "\n",
    "\n",
    "# Display the column names\n",
    "print(df.columns.tolist())"
   ]
  },
  {
   "cell_type": "code",
   "execution_count": 113,
   "id": "e9460185-de0e-44bd-a533-5d386a326ce8",
   "metadata": {},
   "outputs": [],
   "source": [
    "# Step 1: Create the hypothetical withdrawal variable\n",
    "df['Withdraw'] = ((df['Age'] >= 18) & (df['Age'] <= 30) & (df['EmploymentStatus'] == 'Unemployed')).astype(int)"
   ]
  },
  {
   "cell_type": "code",
   "execution_count": 114,
   "id": "f622d94c-1739-4f58-a40b-0f89502da8ec",
   "metadata": {},
   "outputs": [],
   "source": [
    " #Step 2: Define features and target variable\n",
    "X = df.drop('Withdraw', axis=1)  # Features\n",
    "y = df['Withdraw']  # Target variable\n",
    "\n",
    "# Step 3: One-hot encoding for categorical features\n",
    "X = pd.get_dummies(X, drop_first=True)"
   ]
  },
  {
   "cell_type": "code",
   "execution_count": 115,
   "id": "cfc4fef7-99e9-4bea-bbfd-b335ae7276ea",
   "metadata": {},
   "outputs": [
    {
     "name": "stdout",
     "output_type": "stream",
     "text": [
      "Confusion Matrix:\n",
      "[[25963     4]\n",
      " [    0   294]]\n",
      "\n",
      "Classification Report:\n",
      "              precision    recall  f1-score   support\n",
      "\n",
      "           0       1.00      1.00      1.00     25967\n",
      "           1       0.99      1.00      0.99       294\n",
      "\n",
      "    accuracy                           1.00     26261\n",
      "   macro avg       0.99      1.00      1.00     26261\n",
      "weighted avg       1.00      1.00      1.00     26261\n",
      "\n"
     ]
    }
   ],
   "source": [
    "# Step 4: Split the dataset\n",
    "X_train, X_test, y_train, y_test = train_test_split(X, y, test_size=0.2, random_state=42)\n",
    "\n",
    "# Step 5: Train the model\n",
    "model = RandomForestClassifier(random_state=42)\n",
    "model.fit(X_train, y_train)\n",
    "\n",
    "# Step 6: Make predictions\n",
    "y_pred = model.predict(X_test)\n",
    "\n",
    "# Step 7: Evaluate the model\n",
    "print(\"Confusion Matrix:\")\n",
    "print(confusion_matrix(y_test, y_pred))\n",
    "\n",
    "print(\"\\nClassification Report:\")\n",
    "print(classification_report(y_test, y_pred))"
   ]
  }
 ],
 "metadata": {
  "kernelspec": {
   "display_name": "Python 3 (ipykernel)",
   "language": "python",
   "name": "python3"
  },
  "language_info": {
   "codemirror_mode": {
    "name": "ipython",
    "version": 3
   },
   "file_extension": ".py",
   "mimetype": "text/x-python",
   "name": "python",
   "nbconvert_exporter": "python",
   "pygments_lexer": "ipython3",
   "version": "3.11.7"
  }
 },
 "nbformat": 4,
 "nbformat_minor": 5
}
