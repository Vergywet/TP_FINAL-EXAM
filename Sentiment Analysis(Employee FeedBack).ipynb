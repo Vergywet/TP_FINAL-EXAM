{
 "cells": [
  {
   "cell_type": "markdown",
   "id": "43df42ea-5db2-4d55-a246-c9a2200b5053",
   "metadata": {},
   "source": [
    "## Understanding Sentiment Analysis"
   ]
  },
  {
   "cell_type": "markdown",
   "id": "893586e9-6b3b-4e7d-b3ba-28b0e30a49ae",
   "metadata": {},
   "source": [
    "Sentiment analysis is a technique used to determine the emotional tone of text data,\n",
    "classifying it as positive, negative, or neutral. It plays a significant role in understanding \n",
    "public opinion, brand reputation, and customer satisfaction."
   ]
  },
  {
   "cell_type": "markdown",
   "id": "0a1a12d8-494b-433b-bfb0-718e40fbadaf",
   "metadata": {},
   "source": [
    "## Applications:"
   ]
  },
  {
   "cell_type": "markdown",
   "id": "e1de9195-769b-4b94-a5f7-abc330fb6e86",
   "metadata": {},
   "source": [
    ".Monitoring social media platforms (eg. Twitter, Facebook)\n",
    "\n",
    ".Analyzing product reviews and customer feedback\n",
    "\n",
    ".Predicting stock market trends based on public sentiment\n",
    "\n",
    ".Assisting business in making informed marketing decisions"
   ]
  },
  {
   "cell_type": "markdown",
   "id": "683597aa-076c-481f-afbb-71c39426466f",
   "metadata": {},
   "source": [
    "## Step 1 : Data Collection"
   ]
  },
  {
   "cell_type": "markdown",
   "id": "b35ca724-bd7f-4564-be8d-3f5ef0e5f100",
   "metadata": {},
   "source": [
    "It a must to gather textual data that represents employee feedback.This can be collected \n",
    "through surveys ,reviews platforms or direct comments from employess."
   ]
  },
  {
   "cell_type": "markdown",
   "id": "7e672b08-a719-4094-b0ee-db29ace62aec",
   "metadata": {},
   "source": [
    "## Step 2 Text Processing"
   ]
  },
  {
   "cell_type": "markdown",
   "id": "fb10cc85-1ab5-4c13-aa1e-8584d9ac92f7",
   "metadata": {},
   "source": [
    "This stage involves cleaning and preparing the collected text data to ensure accurate analysis :"
   ]
  },
  {
   "cell_type": "markdown",
   "id": "d5ca1c46-c31e-4f2d-868b-502b182cf17b",
   "metadata": {},
   "source": [
    "Tokenization : Break down the feedback text into individual words or tokens.\n",
    "\n",
    "Removing stopwords : Filter out common words (e.g \"and\" , \"the\") that do not\n",
    "carry significant meaning.\n",
    "\n",
    "Lowercasing Text : Convert all text to lowercase to ensure uniformity in analysis\n",
    "\n",
    "Lemmetization/Stemming : Reduce words to their base forms to treat variations of a word \n",
    "as the same (e.g \"Feedback\",\"feedbacks\" -> \"feedback\")"
   ]
  },
  {
   "cell_type": "markdown",
   "id": "296d7f57-8090-408e-9b96-2de7ee02c51b",
   "metadata": {},
   "source": [
    "## Step 3 : Feature Extraction"
   ]
  },
  {
   "cell_type": "markdown",
   "id": "c7efc0c5-5987-4aaf-a79c-c058fff013c5",
   "metadata": {},
   "source": [
    "Convert the cleaned text into numerical format that can be processed by machine learning\n",
    "algorithms :\n",
    "\n",
    ".BAG OF WORDS(BoW) :Represents text as a collection of word counts.\n",
    "\n",
    ".TF-IDF (Terms Frequency-Inverse Document Frequency) : Weight words based on their frequency \n",
    "and significance across the dataset."
   ]
  },
  {
   "cell_type": "markdown",
   "id": "a354fc16-a184-4fd0-959b-aea30d20ad49",
   "metadata": {},
   "source": [
    "## Step 4 Modeling"
   ]
  },
  {
   "cell_type": "markdown",
   "id": "8c33202e-2ed8-4337-a43d-51cd9104f9d6",
   "metadata": {},
   "source": [
    "Apply machine learning algorithms to classify the sentiment of the feedback : \n",
    "\n",
    "Naive Bayes : A probabilistic model that uses Bayes theorem for classification.\n",
    "\n",
    "Logistic Regression : A statistical method for predicting binary classes (positive vs negative)\n",
    "\n",
    "Support Vector Machines(SVM) : A powerful classifier that finds the hyperplane that separates the\n",
    "class."
   ]
  },
  {
   "cell_type": "markdown",
   "id": "76e9e9dc-2eb4-4686-8259-2c9fc905f4dc",
   "metadata": {},
   "source": [
    "## Step 5 : Model Evaluation "
   ]
  },
  {
   "cell_type": "markdown",
   "id": "6f670509-eec1-42d7-b67d-c744fe14224f",
   "metadata": {},
   "source": [
    "Evaluate the perfomance of the sentiment analysis model using metrics such as :\n",
    "\n",
    "Accuracy : The proportion of true results among the total number of cases.\n",
    "\n",
    "Precision : The ratio of true positives to the sum of true and false negatives.\n",
    "\n",
    "Recall : The ratio of true positives to the sum of true positives and false negatives.\n",
    "\n",
    "F1 Score : The harmomic mean of precision and recall,providing a balance between the two."
   ]
  },
  {
   "cell_type": "markdown",
   "id": "17145352-74c5-44ae-b282-1be7f266dc9d",
   "metadata": {},
   "source": [
    "## Conclusion "
   ]
  },
  {
   "cell_type": "markdown",
   "id": "3fa10583-16d5-482e-b9b4-c22717c65328",
   "metadata": {},
   "source": [
    "By following these steps ,sentiment analysis can be effectively applied to employee feedback,\n",
    "categorizing responses into positive,negative or neutral sentiments.This analysis can provide \n",
    "valuable insights into employee perceptions , enabling organizations to make informed decisions \n",
    "and improvements to their systems such as the Two-Pot syste."
   ]
  }
 ],
 "metadata": {
  "kernelspec": {
   "display_name": "Python 3 (ipykernel)",
   "language": "python",
   "name": "python3"
  },
  "language_info": {
   "codemirror_mode": {
    "name": "ipython",
    "version": 3
   },
   "file_extension": ".py",
   "mimetype": "text/x-python",
   "name": "python",
   "nbconvert_exporter": "python",
   "pygments_lexer": "ipython3",
   "version": "3.11.7"
  }
 },
 "nbformat": 4,
 "nbformat_minor": 5
}
